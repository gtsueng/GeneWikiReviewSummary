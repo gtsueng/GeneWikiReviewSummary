{
 "cells": [
  {
   "cell_type": "markdown",
   "id": "bf2d7e96",
   "metadata": {},
   "source": [
    "Installation of relevant packages (move to next cell if already installed)"
   ]
  },
  {
   "cell_type": "code",
   "execution_count": 6,
   "id": "4d47deb7",
   "metadata": {},
   "outputs": [
    {
     "name": "stdout",
     "output_type": "stream",
     "text": [
      "\n",
      "The downloaded binary packages are in\n",
      "\t/var/folders/c5/lqvgkq116f9bz4q68nw7ls2w0000gn/T//RtmpHllC7K/downloaded_packages\n"
     ]
    },
    {
     "data": {
      "text/plain": [
       "[1] ‘0.1.1’"
      ]
     },
     "metadata": {},
     "output_type": "display_data"
    },
    {
     "name": "stdout",
     "output_type": "stream",
     "text": [
      "\n",
      "The downloaded binary packages are in\n",
      "\t/var/folders/c5/lqvgkq116f9bz4q68nw7ls2w0000gn/T//RtmpHllC7K/downloaded_packages\n"
     ]
    },
    {
     "data": {
      "text/plain": [
       "[1] ‘1.98.1.6’"
      ]
     },
     "metadata": {},
     "output_type": "display_data"
    }
   ],
   "source": [
    "install.packages(\"timelineS\") # https://github.com/daheelee/timelineS\n",
    "packageVersion(\"timelineS\") # v0.1.1\n",
    "\n",
    "install.packages(\"RCurl\") \n",
    "packageVersion(\"RCurl\") # v1.98.1.5"
   ]
  },
  {
   "cell_type": "markdown",
   "id": "8ea4faee",
   "metadata": {},
   "source": [
    "Call packages "
   ]
  },
  {
   "cell_type": "code",
   "execution_count": 7,
   "id": "d21a7dcc",
   "metadata": {},
   "outputs": [],
   "source": [
    "library(timelineS)\n",
    "library(RCurl)"
   ]
  },
  {
   "cell_type": "markdown",
   "id": "3c4653fe",
   "metadata": {},
   "source": [
    "Use RCurl to read raw file from Github"
   ]
  },
  {
   "cell_type": "code",
   "execution_count": 8,
   "id": "1d4bcd2d",
   "metadata": {},
   "outputs": [
    {
     "data": {
      "text/html": [
       "<table class=\"dataframe\">\n",
       "<caption>A data.frame: 10 × 2</caption>\n",
       "<thead>\n",
       "\t<tr><th scope=col>Event</th><th scope=col>Event_Dates</th></tr>\n",
       "\t<tr><th scope=col>&lt;chr&gt;</th><th scope=col>&lt;date&gt;</th></tr>\n",
       "</thead>\n",
       "<tbody>\n",
       "\t<tr><td>First Gene Wiki Review published                           </td><td>2013-09-05</td></tr>\n",
       "\t<tr><td>Internal process improvements                              </td><td>2014-05-14</td></tr>\n",
       "\t<tr><td>First disease-focused (cardiac) Gene Wiki Review accepted  </td><td>2015-04-30</td></tr>\n",
       "\t<tr><td>Virtual special issue created for series                   </td><td>2015-07-08</td></tr>\n",
       "\t<tr><td>Editorial team expanded                                    </td><td>2015-10-05</td></tr>\n",
       "\t<tr><td>First rare disease (NGLY1) Gene Wiki Review accepted       </td><td>2015-11-19</td></tr>\n",
       "\t<tr><td>Assessment                                                 </td><td>2016-01-01</td></tr>\n",
       "\t<tr><td>Inclusion of Wikidata                                      </td><td>2018-10-20</td></tr>\n",
       "\t<tr><td>First rare disease Gene Wiki Review with Wikidata published</td><td>2019-04-19</td></tr>\n",
       "\t<tr><td>Close of series                                            </td><td>2021-12-24</td></tr>\n",
       "</tbody>\n",
       "</table>\n"
      ],
      "text/latex": [
       "A data.frame: 10 × 2\n",
       "\\begin{tabular}{ll}\n",
       " Event & Event\\_Dates\\\\\n",
       " <chr> & <date>\\\\\n",
       "\\hline\n",
       "\t First Gene Wiki Review published                            & 2013-09-05\\\\\n",
       "\t Internal process improvements                               & 2014-05-14\\\\\n",
       "\t First disease-focused (cardiac) Gene Wiki Review accepted   & 2015-04-30\\\\\n",
       "\t Virtual special issue created for series                    & 2015-07-08\\\\\n",
       "\t Editorial team expanded                                     & 2015-10-05\\\\\n",
       "\t First rare disease (NGLY1) Gene Wiki Review accepted        & 2015-11-19\\\\\n",
       "\t Assessment                                                  & 2016-01-01\\\\\n",
       "\t Inclusion of Wikidata                                       & 2018-10-20\\\\\n",
       "\t First rare disease Gene Wiki Review with Wikidata published & 2019-04-19\\\\\n",
       "\t Close of series                                             & 2021-12-24\\\\\n",
       "\\end{tabular}\n"
      ],
      "text/markdown": [
       "\n",
       "A data.frame: 10 × 2\n",
       "\n",
       "| Event &lt;chr&gt; | Event_Dates &lt;date&gt; |\n",
       "|---|---|\n",
       "| First Gene Wiki Review published                            | 2013-09-05 |\n",
       "| Internal process improvements                               | 2014-05-14 |\n",
       "| First disease-focused (cardiac) Gene Wiki Review accepted   | 2015-04-30 |\n",
       "| Virtual special issue created for series                    | 2015-07-08 |\n",
       "| Editorial team expanded                                     | 2015-10-05 |\n",
       "| First rare disease (NGLY1) Gene Wiki Review accepted        | 2015-11-19 |\n",
       "| Assessment                                                  | 2016-01-01 |\n",
       "| Inclusion of Wikidata                                       | 2018-10-20 |\n",
       "| First rare disease Gene Wiki Review with Wikidata published | 2019-04-19 |\n",
       "| Close of series                                             | 2021-12-24 |\n",
       "\n"
      ],
      "text/plain": [
       "   Event                                                       Event_Dates\n",
       "1  First Gene Wiki Review published                            2013-09-05 \n",
       "2  Internal process improvements                               2014-05-14 \n",
       "3  First disease-focused (cardiac) Gene Wiki Review accepted   2015-04-30 \n",
       "4  Virtual special issue created for series                    2015-07-08 \n",
       "5  Editorial team expanded                                     2015-10-05 \n",
       "6  First rare disease (NGLY1) Gene Wiki Review accepted        2015-11-19 \n",
       "7  Assessment                                                  2016-01-01 \n",
       "8  Inclusion of Wikidata                                       2018-10-20 \n",
       "9  First rare disease Gene Wiki Review with Wikidata published 2019-04-19 \n",
       "10 Close of series                                             2021-12-24 "
      ]
     },
     "metadata": {},
     "output_type": "display_data"
    }
   ],
   "source": [
    "gwt <- read.csv(text=getURL(\"https://raw.githubusercontent.com/gtsueng/GeneWikiReviewSummary/main/Timeline/GeneWiki-Timeline_Formatted.csv\")) # Event_Dates column must be in yyyy-mm-dd format \n",
    "gwt$Event_Dates <- as.Date(gwt$Event_Dates)\n",
    "\n",
    "gwt"
   ]
  },
  {
   "cell_type": "markdown",
   "id": "95b7a008",
   "metadata": {},
   "source": [
    "Create and save timeline figure"
   ]
  },
  {
   "cell_type": "code",
   "execution_count": 4,
   "id": "f9a68dab",
   "metadata": {},
   "outputs": [
    {
     "ename": "ERROR",
     "evalue": "Error in .subset2(x, i, exact = exact): subscript out of bounds\n",
     "output_type": "error",
     "traceback": [
      "Error in .subset2(x, i, exact = exact): subscript out of bounds\nTraceback:\n",
      "1. timelineS(gwt, line.width = 5, line.color = \"black\", buffer.days = 100, \n .     scale = \"year\", scale.tickwidth = 3, scale.font = 2, label.direction = \"up\", \n .     labels = paste(gwt[[3]]), label.length = c(0.6, 0.4, 1, 0.4, \n .         0.2, 0.8), label.color = \"red\", point.color = \"blue\", \n .     point.cex = 1, pch = 16)",
      "2. text(x = event.dates, y = points + h, labels = labels, cex = label.cex, \n .     pos = events, font = label.font, srt = label.angle)",
      "3. text.default(x = event.dates, y = points + h, labels = labels, \n .     cex = label.cex, pos = events, font = label.font, srt = label.angle)",
      "4. as.graphicsAnnot(labels)",
      "5. paste(gwt[[3]])",
      "6. gwt[[3]]",
      "7. `[[.data.frame`(gwt, 3)",
      "8. (function(x, i, exact) if (is.matrix(i)) as.matrix(x)[[i]] else .subset2(x, \n .     i, exact = exact))(x, ..., exact = exact)"
     ]
    }
   ],
   "source": [
    "png(file=\"GeneWiki-Timeline.png\")\n",
    "timelineS(gwt, # dataframe\n",
    "          line.width = 5, # Thickness of main line (scale)\n",
    "          line.color = \"black\",\n",
    "          buffer.days = 100, # Timeline before first date and after last date\n",
    "          scale = \"year\", # Tick marks on timeline (can do by month)\n",
    "          scale.tickwidth = 3, \n",
    "          scale.font = 2, # Scale font style (size is scale.cex)\n",
    "          label.direction = \"up\", # Another option is \"updown\", for example\n",
    "          labels = paste(gwt[[3]]), # Empty, label manually after saving\n",
    "          label.length = c(0.6, 0.4, 1.0, 0.4, 0.2, 0.8), # Formatting label lines for font to not overlap\n",
    "          label.color = \"red\", \n",
    "          point.color = \"blue\", \n",
    "          point.cex = 1,\n",
    "          pch = 16)\n",
    "dev.off()"
   ]
  },
  {
   "cell_type": "code",
   "execution_count": null,
   "id": "18c86744",
   "metadata": {},
   "outputs": [],
   "source": []
  }
 ],
 "metadata": {
  "kernelspec": {
   "display_name": "R",
   "language": "R",
   "name": "ir"
  },
  "language_info": {
   "codemirror_mode": "r",
   "file_extension": ".r",
   "mimetype": "text/x-r-source",
   "name": "R",
   "pygments_lexer": "r",
   "version": "4.1.1"
  }
 },
 "nbformat": 4,
 "nbformat_minor": 5
}
