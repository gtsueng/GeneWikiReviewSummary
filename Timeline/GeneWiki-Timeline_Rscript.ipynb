{
 "cells": [
  {
   "cell_type": "code",
   "execution_count": null,
   "id": "4d47deb7",
   "metadata": {},
   "outputs": [],
   "source": [
    "install.packages(\"timelineS\")\n",
    "packageVersion(\"timelineS\") # v0.1.1\n",
    "library(timelineS)"
   ]
  },
  {
   "cell_type": "code",
   "execution_count": null,
   "id": "ca597bea",
   "metadata": {},
   "outputs": [],
   "source": [
    "title: \"GeneWiki\"\n",
    "author: \"Sabah Ul-Hasan\"\n",
    "date: \"12/9/2021\"\n",
    "---\n",
    "\n",
    "Install relevant packages\n",
    "```{r}\n",
    "\n",
    "install.packages(\"timelineS\")\n",
    "packageVersion(\"timelineS\") # v0.1.1\n",
    "library(timelineS)\n",
    "\n",
    "```\n",
    "\n",
    "Test example (life of Michael Jackson)\n",
    "```{r}\n",
    "\n",
    "timelineS(mj_life, main = \"Life of Michael Jackson\")\n",
    "\n",
    "```\n",
    "\n",
    "Adjusted aesthetics of test example\n",
    "```{r}\n",
    "\n",
    "timelineS(mj_life, main = \"Life of Michael Jackson\", \n",
    "label.direction = \"up\", label.length = c(0.2,0.8,0.4,1.2), label.position = 3, \n",
    "line.color = \"blue\", label.color = \"blue\", point.color = \"blue\", pch = \"-\")\n",
    "\n",
    "```\n",
    "\n",
    "Gene Wiki timleine (Figure)\n",
    "```{r}\n",
    "\n",
    "mj_life\n",
    "\n",
    "# Set working directory \n",
    "setwd(\"/Users/sulhasan/Downloads\")\n",
    "\n",
    "# Upload .csv of data \n",
    "gw <- read.csv(\"GeneWikiTimeline.csv\") # must be in yyyy-mm-dd format prior to upload\n",
    "gw$Event_Dates <- as.Date(gw$Event_Dates)\n",
    "\n",
    "gwtimeline <- timelineS(gw, main = \"Gene Wiki Timeline\")\n"
   ]
  }
 ],
 "metadata": {
  "kernelspec": {
   "display_name": "R",
   "language": "R",
   "name": "ir"
  }
 },
 "nbformat": 4,
 "nbformat_minor": 5
}
