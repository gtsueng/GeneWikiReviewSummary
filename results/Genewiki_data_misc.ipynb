{
 "cells": [
  {
   "cell_type": "code",
   "execution_count": 1,
   "metadata": {},
   "outputs": [],
   "source": [
    "import pandas as pd"
   ]
  },
  {
   "cell_type": "markdown",
   "metadata": {},
   "source": [
    "## Page Length Info"
   ]
  },
  {
   "cell_type": "code",
   "execution_count": 2,
   "metadata": {},
   "outputs": [],
   "source": [
    "filename = \"gene_wiki_vol_info.tsv\""
   ]
  },
  {
   "cell_type": "code",
   "execution_count": 3,
   "metadata": {},
   "outputs": [],
   "source": [
    "gene_wiki_vol_info =  pd.read_csv(filename, sep=\"\\t\").drop(labels=[\"Unnamed: 0\"], axis=1)"
   ]
  },
  {
   "cell_type": "code",
   "execution_count": 4,
   "metadata": {},
   "outputs": [
    {
     "data": {
      "text/plain": [
       "(121, 4)"
      ]
     },
     "execution_count": 4,
     "metadata": {},
     "output_type": "execute_result"
    }
   ],
   "source": [
    "gene_wiki_vol_info.shape"
   ]
  },
  {
   "cell_type": "code",
   "execution_count": 5,
   "metadata": {},
   "outputs": [
    {
     "data": {
      "text/html": [
       "<div>\n",
       "<style scoped>\n",
       "    .dataframe tbody tr th:only-of-type {\n",
       "        vertical-align: middle;\n",
       "    }\n",
       "\n",
       "    .dataframe tbody tr th {\n",
       "        vertical-align: top;\n",
       "    }\n",
       "\n",
       "    .dataframe thead th {\n",
       "        text-align: right;\n",
       "    }\n",
       "</style>\n",
       "<table border=\"1\" class=\"dataframe\">\n",
       "  <thead>\n",
       "    <tr style=\"text-align: right;\">\n",
       "      <th></th>\n",
       "      <th>title</th>\n",
       "      <th>page_length</th>\n",
       "      <th>last_touched</th>\n",
       "      <th>lastrevid</th>\n",
       "    </tr>\n",
       "  </thead>\n",
       "  <tbody>\n",
       "    <tr>\n",
       "      <th>0</th>\n",
       "      <td>Surfactant protein A1</td>\n",
       "      <td>31194</td>\n",
       "      <td>2021-12-01T01:46:22Z</td>\n",
       "      <td>1056213617</td>\n",
       "    </tr>\n",
       "    <tr>\n",
       "      <th>1</th>\n",
       "      <td>Surfactant protein A2</td>\n",
       "      <td>31602</td>\n",
       "      <td>2021-12-07T14:12:19Z</td>\n",
       "      <td>1056087140</td>\n",
       "    </tr>\n",
       "    <tr>\n",
       "      <th>2</th>\n",
       "      <td>MiR-155</td>\n",
       "      <td>86517</td>\n",
       "      <td>2021-12-07T14:16:43Z</td>\n",
       "      <td>1043454804</td>\n",
       "    </tr>\n",
       "    <tr>\n",
       "      <th>3</th>\n",
       "      <td>Epoxide hydrolase 2</td>\n",
       "      <td>26435</td>\n",
       "      <td>2021-12-07T14:18:06Z</td>\n",
       "      <td>1041057438</td>\n",
       "    </tr>\n",
       "    <tr>\n",
       "      <th>4</th>\n",
       "      <td>LIG3</td>\n",
       "      <td>30861</td>\n",
       "      <td>2021-12-01T01:46:31Z</td>\n",
       "      <td>1042913008</td>\n",
       "    </tr>\n",
       "  </tbody>\n",
       "</table>\n",
       "</div>"
      ],
      "text/plain": [
       "                   title  page_length          last_touched   lastrevid\n",
       "0  Surfactant protein A1        31194  2021-12-01T01:46:22Z  1056213617\n",
       "1  Surfactant protein A2        31602  2021-12-07T14:12:19Z  1056087140\n",
       "2                MiR-155        86517  2021-12-07T14:16:43Z  1043454804\n",
       "3    Epoxide hydrolase 2        26435  2021-12-07T14:18:06Z  1041057438\n",
       "4                   LIG3        30861  2021-12-01T01:46:31Z  1042913008"
      ]
     },
     "execution_count": 5,
     "metadata": {},
     "output_type": "execute_result"
    }
   ],
   "source": [
    "gene_wiki_vol_info.head()"
   ]
  },
  {
   "cell_type": "code",
   "execution_count": 6,
   "metadata": {},
   "outputs": [
    {
     "data": {
      "image/png": "[encoded data removed]",
      "text/plain": [
       "<Figure size 432x288 with 1 Axes>"
      ]
     },
     "metadata": {
      "needs_background": "light"
     },
     "output_type": "display_data"
    }
   ],
   "source": [
    "page_length_hist = gene_wiki_vol_info[[\"page_length\"]].hist(bins=30)"
   ]
  },
  {
   "cell_type": "code",
   "execution_count": 7,
   "metadata": {},
   "outputs": [
    {
     "data": {
      "image/png": "[encoded data removed]",
      "text/plain": [
       "<Figure size 432x288 with 1 Axes>"
      ]
     },
     "metadata": {
      "needs_background": "light"
     },
     "output_type": "display_data"
    }
   ],
   "source": [
    "rev_num_hist = gene_wiki_vol_info[[\"lastrevid\"]].hist(bins=30)"
   ]
  },
  {
   "cell_type": "code",
   "execution_count": null,
   "metadata": {},
   "outputs": [],
   "source": []
  },
  {
   "cell_type": "code",
   "execution_count": 8,
   "metadata": {},
   "outputs": [],
   "source": [
    "filename = \"gene_wiki_vol_info-BEFORE.tsv\""
   ]
  },
  {
   "cell_type": "code",
   "execution_count": 9,
   "metadata": {},
   "outputs": [],
   "source": [
    "gene_wiki_vol_info_before =  pd.read_csv(filename, sep=\"\\t\").drop(labels=[\"Unnamed: 0\"], axis=1)"
   ]
  },
  {
   "cell_type": "code",
   "execution_count": 10,
   "metadata": {},
   "outputs": [],
   "source": [
    "gene_wiki_vol_info_before['title'] = gene_wiki_vol_info_before['title'].str.replace('_',' ')"
   ]
  },
  {
   "cell_type": "code",
   "execution_count": 11,
   "metadata": {},
   "outputs": [
    {
     "data": {
      "text/plain": [
       "(123, 5)"
      ]
     },
     "execution_count": 11,
     "metadata": {},
     "output_type": "execute_result"
    }
   ],
   "source": [
    "gene_wiki_vol_info_before.shape"
   ]
  },
  {
   "cell_type": "code",
   "execution_count": 12,
   "metadata": {},
   "outputs": [
    {
     "data": {
      "text/html": [
       "<div>\n",
       "<style scoped>\n",
       "    .dataframe tbody tr th:only-of-type {\n",
       "        vertical-align: middle;\n",
       "    }\n",
       "\n",
       "    .dataframe tbody tr th {\n",
       "        vertical-align: top;\n",
       "    }\n",
       "\n",
       "    .dataframe thead th {\n",
       "        text-align: right;\n",
       "    }\n",
       "</style>\n",
       "<table border=\"1\" class=\"dataframe\">\n",
       "  <thead>\n",
       "    <tr style=\"text-align: right;\">\n",
       "      <th></th>\n",
       "      <th>title</th>\n",
       "      <th>Wikipedia update period</th>\n",
       "      <th>6 months before update</th>\n",
       "      <th>first revision prior to 6 month date</th>\n",
       "      <th>corresponding length</th>\n",
       "    </tr>\n",
       "  </thead>\n",
       "  <tbody>\n",
       "    <tr>\n",
       "      <th>0</th>\n",
       "      <td>Surfactant protein A1</td>\n",
       "      <td>20120830</td>\n",
       "      <td>20120229</td>\n",
       "      <td>462319030</td>\n",
       "      <td>5903</td>\n",
       "    </tr>\n",
       "    <tr>\n",
       "      <th>1</th>\n",
       "      <td>Surfactant protein A2</td>\n",
       "      <td>20120830</td>\n",
       "      <td>20120229</td>\n",
       "      <td>204784710</td>\n",
       "      <td>21</td>\n",
       "    </tr>\n",
       "    <tr>\n",
       "      <th>2</th>\n",
       "      <td>MiR-155</td>\n",
       "      <td>20130228</td>\n",
       "      <td>20120828</td>\n",
       "      <td>502140831</td>\n",
       "      <td>49959</td>\n",
       "    </tr>\n",
       "    <tr>\n",
       "      <th>3</th>\n",
       "      <td>Epoxide hydrolase 2</td>\n",
       "      <td>20130531</td>\n",
       "      <td>20121130</td>\n",
       "      <td>473607874</td>\n",
       "      <td>1330</td>\n",
       "    </tr>\n",
       "    <tr>\n",
       "      <th>4</th>\n",
       "      <td>LIG3</td>\n",
       "      <td>20130830</td>\n",
       "      <td>20130228</td>\n",
       "      <td>481575544</td>\n",
       "      <td>1543</td>\n",
       "    </tr>\n",
       "  </tbody>\n",
       "</table>\n",
       "</div>"
      ],
      "text/plain": [
       "                   title  Wikipedia update period  6 months before update  \\\n",
       "0  Surfactant protein A1                 20120830                20120229   \n",
       "1  Surfactant protein A2                 20120830                20120229   \n",
       "2                MiR-155                 20130228                20120828   \n",
       "3    Epoxide hydrolase 2                 20130531                20121130   \n",
       "4                   LIG3                 20130830                20130228   \n",
       "\n",
       "   first revision prior to 6 month date  corresponding length  \n",
       "0                             462319030                  5903  \n",
       "1                             204784710                    21  \n",
       "2                             502140831                 49959  \n",
       "3                             473607874                  1330  \n",
       "4                             481575544                  1543  "
      ]
     },
     "execution_count": 12,
     "metadata": {},
     "output_type": "execute_result"
    }
   ],
   "source": [
    "gene_wiki_vol_info_before.head()"
   ]
  },
  {
   "cell_type": "code",
   "execution_count": 13,
   "metadata": {},
   "outputs": [
    {
     "data": {
      "image/png": "[encoded data removed]",
      "text/plain": [
       "<Figure size 432x288 with 1 Axes>"
      ]
     },
     "metadata": {
      "needs_background": "light"
     },
     "output_type": "display_data"
    }
   ],
   "source": [
    "corr_length_hist = gene_wiki_vol_info_before[[\"corresponding length\"]].hist(bins=30, grid=False)"
   ]
  },
  {
   "cell_type": "code",
   "execution_count": 14,
   "metadata": {},
   "outputs": [],
   "source": [
    "gene_wiki_vol_info_diff = gene_wiki_vol_info[[\"title\",\"page_length\"]].merge(gene_wiki_vol_info_before[[\"title\", \"corresponding length\"]], how=\"left\", on=\"title\")"
   ]
  },
  {
   "cell_type": "code",
   "execution_count": 15,
   "metadata": {},
   "outputs": [],
   "source": [
    "gene_wiki_vol_info_diff[\"change in length\"] = gene_wiki_vol_info_diff.apply(\n",
    "    lambda v: v[\"page_length\"] - v[\"corresponding length\"], axis=1\n",
    ")"
   ]
  },
  {
   "cell_type": "code",
   "execution_count": 16,
   "metadata": {},
   "outputs": [
    {
     "data": {
      "text/html": [
       "<div>\n",
       "<style scoped>\n",
       "    .dataframe tbody tr th:only-of-type {\n",
       "        vertical-align: middle;\n",
       "    }\n",
       "\n",
       "    .dataframe tbody tr th {\n",
       "        vertical-align: top;\n",
       "    }\n",
       "\n",
       "    .dataframe thead th {\n",
       "        text-align: right;\n",
       "    }\n",
       "</style>\n",
       "<table border=\"1\" class=\"dataframe\">\n",
       "  <thead>\n",
       "    <tr style=\"text-align: right;\">\n",
       "      <th></th>\n",
       "      <th>title</th>\n",
       "      <th>page_length</th>\n",
       "      <th>corresponding length</th>\n",
       "      <th>change in length</th>\n",
       "    </tr>\n",
       "  </thead>\n",
       "  <tbody>\n",
       "    <tr>\n",
       "      <th>85</th>\n",
       "      <td>PAK6</td>\n",
       "      <td>12724</td>\n",
       "      <td>5725</td>\n",
       "      <td>6999</td>\n",
       "    </tr>\n",
       "    <tr>\n",
       "      <th>16</th>\n",
       "      <td>ERCC1</td>\n",
       "      <td>45959</td>\n",
       "      <td>39297</td>\n",
       "      <td>6662</td>\n",
       "    </tr>\n",
       "    <tr>\n",
       "      <th>54</th>\n",
       "      <td>MTA2</td>\n",
       "      <td>17033</td>\n",
       "      <td>11203</td>\n",
       "      <td>5830</td>\n",
       "    </tr>\n",
       "    <tr>\n",
       "      <th>69</th>\n",
       "      <td>HSD17B1</td>\n",
       "      <td>12745</td>\n",
       "      <td>7484</td>\n",
       "      <td>5261</td>\n",
       "    </tr>\n",
       "    <tr>\n",
       "      <th>83</th>\n",
       "      <td>PAK3</td>\n",
       "      <td>7740</td>\n",
       "      <td>8519</td>\n",
       "      <td>-779</td>\n",
       "    </tr>\n",
       "  </tbody>\n",
       "</table>\n",
       "</div>"
      ],
      "text/plain": [
       "      title  page_length  corresponding length  change in length\n",
       "85     PAK6        12724                  5725              6999\n",
       "16    ERCC1        45959                 39297              6662\n",
       "54     MTA2        17033                 11203              5830\n",
       "69  HSD17B1        12745                  7484              5261\n",
       "83     PAK3         7740                  8519              -779"
      ]
     },
     "execution_count": 16,
     "metadata": {},
     "output_type": "execute_result"
    }
   ],
   "source": [
    "gene_wiki_vol_info_diff.sort_values(by=\"change in length\",ascending=False).tail()"
   ]
  },
  {
   "cell_type": "code",
   "execution_count": 20,
   "metadata": {},
   "outputs": [
    {
     "data": {
      "image/png": "[encoded data removed]",
      "text/plain": [
       "<Figure size 432x288 with 1 Axes>"
      ]
     },
     "metadata": {
      "needs_background": "light"
     },
     "output_type": "display_data"
    }
   ],
   "source": [
    "page_diff_hist = gene_wiki_vol_info_diff.hist(column=\"change in length\",bins=30,grid=False)"
   ]
  },
  {
   "cell_type": "code",
   "execution_count": 17,
   "metadata": {},
   "outputs": [
    {
     "data": {
      "image/png": "[encoded data removed]",
      "text/plain": [
       "<Figure size 432x288 with 1 Axes>"
      ]
     },
     "metadata": {
      "needs_background": "light"
     },
     "output_type": "display_data"
    }
   ],
   "source": [
    "import matplotlib.pyplot as plt\n",
    "\n",
    "# set up figure & axes\n",
    "fig, axes = plt.subplots(nrows=1, ncols=1, sharex=True, sharey=True)\n",
    "# drop sharex, sharey, layout & add ax=axes\n",
    "gene_wiki_vol_info_diff.hist(column=\"change in length\",bins=30,grid=False, ax=axes)\n",
    "# set title and axis labels\n",
    "plt.suptitle('Change in Wiki Article Length', x=0.5, y=1.05, ha='center', fontsize='xx-large')\n",
    "fig.text(0.5, 0.04, 'change in article length', ha='center')\n",
    "fig.text(0.04, 0.5, 'number of wiki articles', va='center', rotation='vertical')\n",
    "plt.savefig('length_change_histogram.png', dpi=300) #### Note this figure has no labels, nothing\n",
    "plt.show()"
   ]
  },
  {
   "cell_type": "code",
   "execution_count": 21,
   "metadata": {},
   "outputs": [
    {
     "name": "stdout",
     "output_type": "stream",
     "text": [
      "20856.0 118033\n"
     ]
    }
   ],
   "source": [
    "avg_diff = gene_wiki_vol_info_diff[\"change in length\"].median()\n",
    "max_diff = gene_wiki_vol_info_diff[\"change in length\"].max()\n",
    "print(avg_diff, max_diff)"
   ]
  },
  {
   "cell_type": "code",
   "execution_count": null,
   "metadata": {},
   "outputs": [],
   "source": [
    "gene_wiki_vol_info_diff[\"percent_change\"] = gene_wiki_vol_info_diff.apply(\n",
    "    lambda v: v[\"length_diff\"] / (v[\"corresponding length\"]+1)*100, axis=1\n",
    ")"
   ]
  },
  {
   "cell_type": "code",
   "execution_count": null,
   "metadata": {},
   "outputs": [],
   "source": [
    "gene_wiki_vol_info_diff.sort_values(by=\"percent_change\",ascending=False).head()"
   ]
  },
  {
   "cell_type": "code",
   "execution_count": null,
   "metadata": {},
   "outputs": [],
   "source": [
    "page_percent_diff_hist = gene_wiki_vol_info_diff[[\"percent_change\"]].hist(bins=30)"
   ]
  },
  {
   "cell_type": "markdown",
   "metadata": {},
   "source": [
    "## Page Views Info"
   ]
  },
  {
   "cell_type": "code",
   "execution_count": null,
   "metadata": {},
   "outputs": [],
   "source": [
    "filename = \"gw_pvs.tsv\""
   ]
  },
  {
   "cell_type": "code",
   "execution_count": null,
   "metadata": {},
   "outputs": [],
   "source": [
    "gw_pageviews =  pd.read_csv(filename, sep=\"\\t\").drop(labels=[\"Unnamed: 0\"], axis=1)"
   ]
  },
  {
   "cell_type": "code",
   "execution_count": null,
   "metadata": {},
   "outputs": [],
   "source": [
    "gw_pageviews.head()"
   ]
  },
  {
   "cell_type": "code",
   "execution_count": null,
   "metadata": {},
   "outputs": [],
   "source": [
    "gw_pageviews.dropna().head()"
   ]
  },
  {
   "cell_type": "code",
   "execution_count": null,
   "metadata": {},
   "outputs": [],
   "source": [
    "gw_pageviews.columns"
   ]
  },
  {
   "cell_type": "code",
   "execution_count": null,
   "metadata": {},
   "outputs": [],
   "source": [
    "from datetime import datetime"
   ]
  },
  {
   "cell_type": "code",
   "execution_count": null,
   "metadata": {},
   "outputs": [],
   "source": [
    "testdate_str = gw_pageviews.columns[1]"
   ]
  },
  {
   "cell_type": "code",
   "execution_count": null,
   "metadata": {},
   "outputs": [],
   "source": [
    "testdate_str"
   ]
  },
  {
   "cell_type": "code",
   "execution_count": null,
   "metadata": {},
   "outputs": [],
   "source": [
    "# format\n",
    "format = '%Y%m%d00'"
   ]
  },
  {
   "cell_type": "code",
   "execution_count": null,
   "metadata": {},
   "outputs": [],
   "source": [
    "# convert from string format to datetime format\n",
    "testdate = datetime.strptime(testdate_str, format)"
   ]
  },
  {
   "cell_type": "code",
   "execution_count": null,
   "metadata": {},
   "outputs": [],
   "source": [
    "# get the date from the datetime using date() \n",
    "# function\n",
    "print(testdate.date())"
   ]
  },
  {
   "cell_type": "code",
   "execution_count": null,
   "metadata": {},
   "outputs": [],
   "source": [
    "date_list = []\n",
    "format = '%Y%m%d00'\n",
    "\n",
    "avg_pageviews_all = []\n",
    "avg_pageviews_w_nan = []\n",
    "avg_pageviews_no_nan_genes = []\n",
    "gw_pv_summary = pd.DataFrame(columns=[\"Date\", \"Average Pageviews (All Pages)\"])\n",
    "gw_pv_summary = pd.DataFrame(columns=[\"Date\", \"Average Pageviews (NaN is 0)\"])\n",
    "gw_pv_summary = pd.DataFrame(columns=[\"Date\", \"Average Pageviews (No Genes with NaN)\"])"
   ]
  },
  {
   "cell_type": "code",
   "execution_count": null,
   "metadata": {},
   "outputs": [],
   "source": [
    "for date in gw_pageviews.columns:\n",
    "    if (date == 'wikipedia') : continue\n",
    "    else :\n",
    "        date_list.append(datetime.strptime(date, format))\n",
    "        avg_pageviews_all.append(gw_pageviews[[date]].mean(axis=0)[0])\n",
    "        avg_pageviews_w_nan.append(gw_pageviews[[date]].fillna(0).mean(axis=0, skipna=False)[0])\n",
    "        avg_pageviews_no_nan_genes.append(gw_pageviews.dropna()[[date]].mean(axis=0)[0])\n",
    "        "
   ]
  },
  {
   "cell_type": "code",
   "execution_count": null,
   "metadata": {},
   "outputs": [],
   "source": [
    "gw_pv_summary[\"Date\"] = date_list\n",
    "gw_pv_summary[\"Average Pageviews (All Pages)\"] = avg_pageviews_all\n",
    "gw_pv_summary[\"Average Pageviews (NaN is 0)\"] = avg_pageviews_w_nan\n",
    "gw_pv_summary[\"Average Pageviews (No Genes with NaN)\"] = avg_pageviews_no_nan_genes"
   ]
  },
  {
   "cell_type": "code",
   "execution_count": null,
   "metadata": {},
   "outputs": [],
   "source": [
    "gw_pageviews[[date]].mean(axis=0)"
   ]
  },
  {
   "cell_type": "code",
   "execution_count": null,
   "metadata": {},
   "outputs": [],
   "source": [
    "print(date_list[0].date())"
   ]
  },
  {
   "cell_type": "code",
   "execution_count": null,
   "metadata": {},
   "outputs": [],
   "source": [
    "print(avg_pageviews_no_nan_genes)"
   ]
  },
  {
   "cell_type": "code",
   "execution_count": null,
   "metadata": {},
   "outputs": [],
   "source": [
    "import seaborn as sns\n",
    "import matplotlib.pyplot as plt\n",
    "import matplotlib.dates as mdates\n",
    "\n",
    "from matplotlib.pyplot import figure"
   ]
  },
  {
   "cell_type": "code",
   "execution_count": null,
   "metadata": {},
   "outputs": [],
   "source": [
    "figure(figsize=(12, 10), dpi=150)\n",
    "plt.rcParams['figure.figsize'] = [12, 10]\n",
    "\n",
    "sns.set(font_scale = 2)"
   ]
  },
  {
   "cell_type": "code",
   "execution_count": null,
   "metadata": {},
   "outputs": [],
   "source": [
    "\n",
    "fig, ax = plt.subplots()\n",
    "sns.lineplot(data=gw_pv_summary, x='Date', y='Average Pageviews (All Pages)', ax=ax)\n",
    "\n",
    "# assign locator and formatter for the xaxis ticks.\n",
    "ax.xaxis.set_major_locator(mdates.AutoDateLocator())\n",
    "ax.xaxis.set_major_formatter(mdates.DateFormatter('%Y.%m.%d'))\n",
    "\n",
    "# put the labels at 45deg since they tend to be too long\n",
    "fig.autofmt_xdate()\n",
    "plt.show()"
   ]
  },
  {
   "cell_type": "code",
   "execution_count": null,
   "metadata": {},
   "outputs": [],
   "source": [
    "figure(figsize=(12, 10), dpi=150)\n",
    "plt.rcParams['figure.figsize'] = [12, 10]\n",
    "\n",
    "sns.set(font_scale = 2)\n",
    "\n",
    "fig, ax = plt.subplots()\n",
    "sns.lineplot(data=gw_pv_summary, x='Date', y='Average Pageviews (NaN is 0)', ax=ax)\n",
    "\n",
    "# assign locator and formatter for the xaxis ticks.\n",
    "ax.xaxis.set_major_locator(mdates.AutoDateLocator())\n",
    "ax.xaxis.set_major_formatter(mdates.DateFormatter('%Y.%m.%d'))\n",
    "\n",
    "# put the labels at 45deg since they tend to be too long\n",
    "fig.autofmt_xdate()\n",
    "plt.show()"
   ]
  },
  {
   "cell_type": "code",
   "execution_count": null,
   "metadata": {},
   "outputs": [],
   "source": [
    "figure(figsize=(12, 10), dpi=150)\n",
    "plt.rcParams['figure.figsize'] = [12, 10]\n",
    "\n",
    "sns.set(font_scale = 2)\n",
    "\n",
    "fig, ax = plt.subplots()\n",
    "sns.lineplot(data=gw_pv_summary, x='Date', y='Average Pageviews (No Genes with NaN)', ax=ax)\n",
    "\n",
    "# assign locator and formatter for the xaxis ticks.\n",
    "ax.xaxis.set_major_locator(mdates.AutoDateLocator())\n",
    "ax.xaxis.set_major_formatter(mdates.DateFormatter('%Y.%m.%d'))\n",
    "\n",
    "# put the labels at 45deg since they tend to be too long\n",
    "fig.autofmt_xdate()\n",
    "plt.show()"
   ]
  },
  {
   "cell_type": "code",
   "execution_count": null,
   "metadata": {},
   "outputs": [],
   "source": []
  },
  {
   "cell_type": "code",
   "execution_count": null,
   "metadata": {},
   "outputs": [],
   "source": []
  },
  {
   "cell_type": "code",
   "execution_count": null,
   "metadata": {},
   "outputs": [],
   "source": [
    "gw_gene_total_pvs = pd.DataFrame(columns=[\"Gene Name\", \"Total Pageviews\"])"
   ]
  },
  {
   "cell_type": "code",
   "execution_count": null,
   "metadata": {},
   "outputs": [],
   "source": [
    "gw_gene_total_pvs[\"Gene Name\"] = gw_pageviews[\"wikipedia\"]"
   ]
  },
  {
   "cell_type": "code",
   "execution_count": null,
   "metadata": {},
   "outputs": [],
   "source": [
    "gw_gene_total_pvs[\"Total Pageviews\"] = gw_pageviews.drop([\"wikipedia\"], axis=1).sum(axis=1)"
   ]
  },
  {
   "cell_type": "code",
   "execution_count": null,
   "metadata": {},
   "outputs": [],
   "source": [
    "gw_gene_total_pvs = gw_gene_total_pvs.sort_values(by=\"Total Pageviews\")"
   ]
  },
  {
   "cell_type": "code",
   "execution_count": null,
   "metadata": {},
   "outputs": [],
   "source": [
    "gw_gene_total_pvs.head()"
   ]
  },
  {
   "cell_type": "code",
   "execution_count": null,
   "metadata": {},
   "outputs": [],
   "source": [
    "gw_gene_total_pvs.tail()"
   ]
  },
  {
   "cell_type": "code",
   "execution_count": null,
   "metadata": {},
   "outputs": [],
   "source": []
  },
  {
   "cell_type": "code",
   "execution_count": null,
   "metadata": {},
   "outputs": [],
   "source": [
    "filename = \"gene_wiki_views.tsv\""
   ]
  },
  {
   "cell_type": "code",
   "execution_count": null,
   "metadata": {},
   "outputs": [],
   "source": [
    "gw_pageviews_raw = pd.read_csv(filename, sep=\"\\t\").drop(labels=[\"Unnamed: 0\"], axis=1)"
   ]
  },
  {
   "cell_type": "code",
   "execution_count": null,
   "metadata": {},
   "outputs": [],
   "source": [
    "gw_pageviews_raw.head()"
   ]
  },
  {
   "cell_type": "markdown",
   "metadata": {},
   "source": [
    "## WikiData Added Statements"
   ]
  },
  {
   "cell_type": "code",
   "execution_count": null,
   "metadata": {},
   "outputs": [],
   "source": [
    "filename = \"wd_statements_added.tsv\""
   ]
  },
  {
   "cell_type": "code",
   "execution_count": null,
   "metadata": {},
   "outputs": [],
   "source": [
    "wd_statements_info = pd.read_csv(filename, sep=\"\\t\").drop(labels=[\"Unnamed: 0\"], axis=1)"
   ]
  },
  {
   "cell_type": "code",
   "execution_count": null,
   "metadata": {},
   "outputs": [],
   "source": [
    "wd_statements_info.head()"
   ]
  },
  {
   "cell_type": "code",
   "execution_count": null,
   "metadata": {},
   "outputs": [],
   "source": [
    "#Note: Previously we had more statements, 469 before vs 282 now\n",
    "\n",
    "wd_statements_info.shape"
   ]
  },
  {
   "cell_type": "code",
   "execution_count": null,
   "metadata": {},
   "outputs": [],
   "source": []
  },
  {
   "cell_type": "markdown",
   "metadata": {},
   "source": [
    "## Citations"
   ]
  },
  {
   "cell_type": "code",
   "execution_count": null,
   "metadata": {},
   "outputs": [],
   "source": [
    "filename = \"article_citations.tsv\""
   ]
  },
  {
   "cell_type": "code",
   "execution_count": null,
   "metadata": {},
   "outputs": [],
   "source": [
    "citations = pd.read_csv(filename, sep=\"\\t\").drop(labels=[\"Unnamed: 0\"], axis=1)"
   ]
  },
  {
   "cell_type": "code",
   "execution_count": null,
   "metadata": {},
   "outputs": [],
   "source": [
    "citations.head()"
   ]
  },
  {
   "cell_type": "code",
   "execution_count": null,
   "metadata": {},
   "outputs": [],
   "source": [
    "citations.shape"
   ]
  },
  {
   "cell_type": "code",
   "execution_count": null,
   "metadata": {},
   "outputs": [],
   "source": [
    "citation_hist = citations[[\"Total Citations from google scholar 2021.12.03\"]].hist(bins=30)"
   ]
  },
  {
   "cell_type": "code",
   "execution_count": null,
   "metadata": {},
   "outputs": [],
   "source": [
    "citations.sort_values(by=\"Total Citations from google scholar 2021.12.03\").head()"
   ]
  },
  {
   "cell_type": "code",
   "execution_count": null,
   "metadata": {},
   "outputs": [],
   "source": [
    "citations.sort_values(by=\"Total Citations from google scholar 2021.12.03\").tail()"
   ]
  },
  {
   "cell_type": "code",
   "execution_count": null,
   "metadata": {},
   "outputs": [],
   "source": []
  }
 ],
 "metadata": {
  "kernelspec": {
   "display_name": "Python 3",
   "language": "python",
   "name": "python3"
  },
  "language_info": {
   "codemirror_mode": {
    "name": "ipython",
    "version": 3
   },
   "file_extension": ".py",
   "mimetype": "text/x-python",
   "name": "python",
   "nbconvert_exporter": "python",
   "pygments_lexer": "ipython3",
   "version": "3.8.5"
  }
 },
 "nbformat": 4,
 "nbformat_minor": 4
}
