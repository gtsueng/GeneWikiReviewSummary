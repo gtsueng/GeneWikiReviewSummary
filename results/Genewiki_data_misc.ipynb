{
 "cells": [
  {
   "cell_type": "code",
   "execution_count": 1,
   "metadata": {},
   "outputs": [],
   "source": [
    "import pandas as pd"
   ]
  },
  {
   "cell_type": "markdown",
   "metadata": {},
   "source": [
    "## Page Length Info"
   ]
  },
  {
   "cell_type": "code",
   "execution_count": 2,
   "metadata": {},
   "outputs": [],
   "source": [
    "filename = \"gene_wiki_vol_info.tsv\""
   ]
  },
  {
   "cell_type": "code",
   "execution_count": 3,
   "metadata": {},
   "outputs": [],
   "source": [
    "gene_wiki_vol_info =  pd.read_csv(filename, sep=\"\\t\").drop(labels=[\"Unnamed: 0\"], axis=1)"
   ]
  },
  {
   "cell_type": "code",
   "execution_count": 4,
   "metadata": {},
   "outputs": [
    {
     "data": {
      "text/plain": [
       "(121, 4)"
      ]
     },
     "execution_count": 4,
     "metadata": {},
     "output_type": "execute_result"
    }
   ],
   "source": [
    "gene_wiki_vol_info.shape"
   ]
  },
  {
   "cell_type": "code",
   "execution_count": 5,
   "metadata": {},
   "outputs": [
    {
     "data": {
      "text/html": [
       "<div>\n",
       "<style scoped>\n",
       "    .dataframe tbody tr th:only-of-type {\n",
       "        vertical-align: middle;\n",
       "    }\n",
       "\n",
       "    .dataframe tbody tr th {\n",
       "        vertical-align: top;\n",
       "    }\n",
       "\n",
       "    .dataframe thead th {\n",
       "        text-align: right;\n",
       "    }\n",
       "</style>\n",
       "<table border=\"1\" class=\"dataframe\">\n",
       "  <thead>\n",
       "    <tr style=\"text-align: right;\">\n",
       "      <th></th>\n",
       "      <th>title</th>\n",
       "      <th>page_length</th>\n",
       "      <th>last_touched</th>\n",
       "      <th>lastrevid</th>\n",
       "    </tr>\n",
       "  </thead>\n",
       "  <tbody>\n",
       "    <tr>\n",
       "      <th>0</th>\n",
       "      <td>Surfactant protein A1</td>\n",
       "      <td>31194</td>\n",
       "      <td>2021-12-01T01:46:22Z</td>\n",
       "      <td>1056213617</td>\n",
       "    </tr>\n",
       "    <tr>\n",
       "      <th>1</th>\n",
       "      <td>Surfactant protein A2</td>\n",
       "      <td>31602</td>\n",
       "      <td>2021-12-07T14:12:19Z</td>\n",
       "      <td>1056087140</td>\n",
       "    </tr>\n",
       "    <tr>\n",
       "      <th>2</th>\n",
       "      <td>MiR-155</td>\n",
       "      <td>86517</td>\n",
       "      <td>2021-12-07T14:16:43Z</td>\n",
       "      <td>1043454804</td>\n",
       "    </tr>\n",
       "    <tr>\n",
       "      <th>3</th>\n",
       "      <td>Epoxide hydrolase 2</td>\n",
       "      <td>26435</td>\n",
       "      <td>2021-12-07T14:18:06Z</td>\n",
       "      <td>1041057438</td>\n",
       "    </tr>\n",
       "    <tr>\n",
       "      <th>4</th>\n",
       "      <td>LIG3</td>\n",
       "      <td>30861</td>\n",
       "      <td>2021-12-01T01:46:31Z</td>\n",
       "      <td>1042913008</td>\n",
       "    </tr>\n",
       "  </tbody>\n",
       "</table>\n",
       "</div>"
      ],
      "text/plain": [
       "                   title  page_length          last_touched   lastrevid\n",
       "0  Surfactant protein A1        31194  2021-12-01T01:46:22Z  1056213617\n",
       "1  Surfactant protein A2        31602  2021-12-07T14:12:19Z  1056087140\n",
       "2                MiR-155        86517  2021-12-07T14:16:43Z  1043454804\n",
       "3    Epoxide hydrolase 2        26435  2021-12-07T14:18:06Z  1041057438\n",
       "4                   LIG3        30861  2021-12-01T01:46:31Z  1042913008"
      ]
     },
     "execution_count": 5,
     "metadata": {},
     "output_type": "execute_result"
    }
   ],
   "source": [
    "gene_wiki_vol_info.head()"
   ]
  },
  {
   "cell_type": "code",
   "execution_count": 6,
   "metadata": {},
   "outputs": [
    {
     "name": "stdout",
     "output_type": "stream",
     "text": [
      "3982980\n"
     ]
    }
   ],
   "source": [
    "current_total_page_length = gene_wiki_vol_info['page_length'].sum()\n",
    "print(current_total_page_length)"
   ]
  },
  {
   "cell_type": "code",
   "execution_count": 7,
   "metadata": {},
   "outputs": [
    {
     "data": {
      "image/png": "[encoded data removed]",
      "text/plain": [
       "<Figure size 432x288 with 1 Axes>"
      ]
     },
     "metadata": {
      "needs_background": "light"
     },
     "output_type": "display_data"
    }
   ],
   "source": [
    "page_length_hist = gene_wiki_vol_info[[\"page_length\"]].hist(bins=30)"
   ]
  },
  {
   "cell_type": "code",
   "execution_count": 8,
   "metadata": {},
   "outputs": [
    {
     "data": {
      "image/png": "[encoded data removed]",
      "text/plain": [
       "<Figure size 432x288 with 1 Axes>"
      ]
     },
     "metadata": {
      "needs_background": "light"
     },
     "output_type": "display_data"
    }
   ],
   "source": [
    "rev_num_hist = gene_wiki_vol_info[[\"lastrevid\"]].hist(bins=30)"
   ]
  },
  {
   "cell_type": "code",
   "execution_count": null,
   "metadata": {},
   "outputs": [],
   "source": []
  },
  {
   "cell_type": "code",
   "execution_count": 9,
   "metadata": {},
   "outputs": [],
   "source": [
    "filename = \"gene_wiki_vol_info-BEFORE.tsv\""
   ]
  },
  {
   "cell_type": "code",
   "execution_count": 10,
   "metadata": {},
   "outputs": [],
   "source": [
    "gene_wiki_vol_info_before =  pd.read_csv(filename, sep=\"\\t\").drop(labels=[\"Unnamed: 0\"], axis=1)"
   ]
  },
  {
   "cell_type": "code",
   "execution_count": 11,
   "metadata": {},
   "outputs": [],
   "source": [
    "gene_wiki_vol_info_before['title'] = gene_wiki_vol_info_before['title'].str.replace('_',' ')"
   ]
  },
  {
   "cell_type": "code",
   "execution_count": 12,
   "metadata": {},
   "outputs": [
    {
     "data": {
      "text/plain": [
       "(123, 5)"
      ]
     },
     "execution_count": 12,
     "metadata": {},
     "output_type": "execute_result"
    }
   ],
   "source": [
    "gene_wiki_vol_info_before.shape"
   ]
  },
  {
   "cell_type": "code",
   "execution_count": 13,
   "metadata": {},
   "outputs": [
    {
     "data": {
      "text/html": [
       "<div>\n",
       "<style scoped>\n",
       "    .dataframe tbody tr th:only-of-type {\n",
       "        vertical-align: middle;\n",
       "    }\n",
       "\n",
       "    .dataframe tbody tr th {\n",
       "        vertical-align: top;\n",
       "    }\n",
       "\n",
       "    .dataframe thead th {\n",
       "        text-align: right;\n",
       "    }\n",
       "</style>\n",
       "<table border=\"1\" class=\"dataframe\">\n",
       "  <thead>\n",
       "    <tr style=\"text-align: right;\">\n",
       "      <th></th>\n",
       "      <th>title</th>\n",
       "      <th>Wikipedia update period</th>\n",
       "      <th>6 months before update</th>\n",
       "      <th>first revision prior to 6 month date</th>\n",
       "      <th>corresponding length</th>\n",
       "    </tr>\n",
       "  </thead>\n",
       "  <tbody>\n",
       "    <tr>\n",
       "      <th>0</th>\n",
       "      <td>Surfactant protein A1</td>\n",
       "      <td>20120830</td>\n",
       "      <td>20120229</td>\n",
       "      <td>462319030</td>\n",
       "      <td>5903</td>\n",
       "    </tr>\n",
       "    <tr>\n",
       "      <th>1</th>\n",
       "      <td>Surfactant protein A2</td>\n",
       "      <td>20120830</td>\n",
       "      <td>20120229</td>\n",
       "      <td>204784710</td>\n",
       "      <td>21</td>\n",
       "    </tr>\n",
       "    <tr>\n",
       "      <th>2</th>\n",
       "      <td>MiR-155</td>\n",
       "      <td>20130228</td>\n",
       "      <td>20120828</td>\n",
       "      <td>502140831</td>\n",
       "      <td>49959</td>\n",
       "    </tr>\n",
       "    <tr>\n",
       "      <th>3</th>\n",
       "      <td>Epoxide hydrolase 2</td>\n",
       "      <td>20130531</td>\n",
       "      <td>20121130</td>\n",
       "      <td>473607874</td>\n",
       "      <td>1330</td>\n",
       "    </tr>\n",
       "    <tr>\n",
       "      <th>4</th>\n",
       "      <td>LIG3</td>\n",
       "      <td>20130830</td>\n",
       "      <td>20130228</td>\n",
       "      <td>481575544</td>\n",
       "      <td>1543</td>\n",
       "    </tr>\n",
       "  </tbody>\n",
       "</table>\n",
       "</div>"
      ],
      "text/plain": [
       "                   title  Wikipedia update period  6 months before update  \\\n",
       "0  Surfactant protein A1                 20120830                20120229   \n",
       "1  Surfactant protein A2                 20120830                20120229   \n",
       "2                MiR-155                 20130228                20120828   \n",
       "3    Epoxide hydrolase 2                 20130531                20121130   \n",
       "4                   LIG3                 20130830                20130228   \n",
       "\n",
       "   first revision prior to 6 month date  corresponding length  \n",
       "0                             462319030                  5903  \n",
       "1                             204784710                    21  \n",
       "2                             502140831                 49959  \n",
       "3                             473607874                  1330  \n",
       "4                             481575544                  1543  "
      ]
     },
     "execution_count": 13,
     "metadata": {},
     "output_type": "execute_result"
    }
   ],
   "source": [
    "gene_wiki_vol_info_before.head()"
   ]
  },
  {
   "cell_type": "code",
   "execution_count": 14,
   "metadata": {},
   "outputs": [
    {
     "name": "stdout",
     "output_type": "stream",
     "text": [
      "1033488\n"
     ]
    }
   ],
   "source": [
    "before_total_vol = gene_wiki_vol_info_before['corresponding length'].sum()\n",
    "print(before_total_vol)"
   ]
  },
  {
   "cell_type": "code",
   "execution_count": 15,
   "metadata": {},
   "outputs": [
    {
     "data": {
      "image/png": "[encoded data removed]",
      "text/plain": [
       "<Figure size 432x288 with 1 Axes>"
      ]
     },
     "metadata": {
      "needs_background": "light"
     },
     "output_type": "display_data"
    }
   ],
   "source": [
    "corr_length_hist = gene_wiki_vol_info_before[[\"corresponding length\"]].hist(bins=30, grid=False)"
   ]
  },
  {
   "cell_type": "code",
   "execution_count": 16,
   "metadata": {},
   "outputs": [],
   "source": [
    "gene_wiki_vol_info_diff = gene_wiki_vol_info[[\"title\",\"page_length\"]].merge(gene_wiki_vol_info_before[[\"title\", \"corresponding length\"]], how=\"left\", on=\"title\")"
   ]
  },
  {
   "cell_type": "code",
   "execution_count": 17,
   "metadata": {},
   "outputs": [],
   "source": [
    "gene_wiki_vol_info_diff[\"change in length\"] = gene_wiki_vol_info_diff.apply(\n",
    "    lambda v: v[\"page_length\"] - v[\"corresponding length\"], axis=1\n",
    ")"
   ]
  },
  {
   "cell_type": "code",
   "execution_count": 18,
   "metadata": {},
   "outputs": [
    {
     "data": {
      "text/html": [
       "<div>\n",
       "<style scoped>\n",
       "    .dataframe tbody tr th:only-of-type {\n",
       "        vertical-align: middle;\n",
       "    }\n",
       "\n",
       "    .dataframe tbody tr th {\n",
       "        vertical-align: top;\n",
       "    }\n",
       "\n",
       "    .dataframe thead th {\n",
       "        text-align: right;\n",
       "    }\n",
       "</style>\n",
       "<table border=\"1\" class=\"dataframe\">\n",
       "  <thead>\n",
       "    <tr style=\"text-align: right;\">\n",
       "      <th></th>\n",
       "      <th>title</th>\n",
       "      <th>page_length</th>\n",
       "      <th>corresponding length</th>\n",
       "      <th>change in length</th>\n",
       "    </tr>\n",
       "  </thead>\n",
       "  <tbody>\n",
       "    <tr>\n",
       "      <th>85</th>\n",
       "      <td>PAK6</td>\n",
       "      <td>12724</td>\n",
       "      <td>5725</td>\n",
       "      <td>6999</td>\n",
       "    </tr>\n",
       "    <tr>\n",
       "      <th>16</th>\n",
       "      <td>ERCC1</td>\n",
       "      <td>45959</td>\n",
       "      <td>39297</td>\n",
       "      <td>6662</td>\n",
       "    </tr>\n",
       "    <tr>\n",
       "      <th>54</th>\n",
       "      <td>MTA2</td>\n",
       "      <td>17033</td>\n",
       "      <td>11203</td>\n",
       "      <td>5830</td>\n",
       "    </tr>\n",
       "    <tr>\n",
       "      <th>69</th>\n",
       "      <td>HSD17B1</td>\n",
       "      <td>12745</td>\n",
       "      <td>7484</td>\n",
       "      <td>5261</td>\n",
       "    </tr>\n",
       "    <tr>\n",
       "      <th>83</th>\n",
       "      <td>PAK3</td>\n",
       "      <td>7740</td>\n",
       "      <td>8519</td>\n",
       "      <td>-779</td>\n",
       "    </tr>\n",
       "  </tbody>\n",
       "</table>\n",
       "</div>"
      ],
      "text/plain": [
       "      title  page_length  corresponding length  change in length\n",
       "85     PAK6        12724                  5725              6999\n",
       "16    ERCC1        45959                 39297              6662\n",
       "54     MTA2        17033                 11203              5830\n",
       "69  HSD17B1        12745                  7484              5261\n",
       "83     PAK3         7740                  8519              -779"
      ]
     },
     "execution_count": 18,
     "metadata": {},
     "output_type": "execute_result"
    }
   ],
   "source": [
    "gene_wiki_vol_info_diff.sort_values(by=\"change in length\",ascending=False).tail()"
   ]
  },
  {
   "cell_type": "code",
   "execution_count": 19,
   "metadata": {},
   "outputs": [
    {
     "data": {
      "image/png": "[encoded data removed]",
      "text/plain": [
       "<Figure size 432x288 with 1 Axes>"
      ]
     },
     "metadata": {
      "needs_background": "light"
     },
     "output_type": "display_data"
    }
   ],
   "source": [
    "page_diff_hist = gene_wiki_vol_info_diff.hist(column=\"change in length\",bins=30,grid=False)"
   ]
  },
  {
   "cell_type": "code",
   "execution_count": 22,
   "metadata": {},
   "outputs": [
    {
     "data": {
      "image/png": "[encoded data removed]",
      "text/plain": [
       "<Figure size 432x288 with 1 Axes>"
      ]
     },
     "metadata": {
      "needs_background": "light"
     },
     "output_type": "display_data"
    }
   ],
   "source": [
    "import matplotlib.pyplot as plt\n",
    "\n",
    "# set up figure & axes\n",
    "fig, axes = plt.subplots(nrows=1, ncols=1, sharex=True, sharey=True)\n",
    "# drop sharex, sharey, layout & add ax=axes\n",
    "gene_wiki_vol_info_diff.hist(column=\"change in length\",bins=30,grid=False, ax=axes)\n",
    "# set title and axis labels\n",
    "plt.suptitle('Change in Wiki Article Length', x=0.5, y=1.05, ha='center', fontsize='xx-large')\n",
    "fig.text(0.5, 0.04, 'change in article length (characters)', ha='center')\n",
    "fig.text(0.04, 0.5, 'number of wiki articles', va='center', rotation='vertical')\n",
    "plt.savefig('length_change_histogram.png', dpi=300) #### Note this figure has no labels, nothing\n",
    "plt.show()"
   ]
  },
  {
   "cell_type": "code",
   "execution_count": 23,
   "metadata": {},
   "outputs": [
    {
     "name": "stdout",
     "output_type": "stream",
     "text": [
      "20856.0 118033\n"
     ]
    }
   ],
   "source": [
    "avg_diff = gene_wiki_vol_info_diff[\"change in length\"].median()\n",
    "max_diff = gene_wiki_vol_info_diff[\"change in length\"].max()\n",
    "print(avg_diff, max_diff)"
   ]
  },
  {
   "cell_type": "code",
   "execution_count": 24,
   "metadata": {},
   "outputs": [
    {
     "ename": "KeyError",
     "evalue": "'length_diff'",
     "output_type": "error",
     "traceback": [
      "\u001b[1;31m---------------------------------------------------------------------------\u001b[0m",
      "\u001b[1;31mKeyError\u001b[0m                                  Traceback (most recent call last)",
      "\u001b[1;32m~\\Anaconda3\\envs\\pywikibot\\lib\\site-packages\\pandas\\core\\indexes\\base.py\u001b[0m in \u001b[0;36mget_loc\u001b[1;34m(self, key, method, tolerance)\u001b[0m\n\u001b[0;32m   2888\u001b[0m             \u001b[1;32mtry\u001b[0m\u001b[1;33m:\u001b[0m\u001b[1;33m\u001b[0m\u001b[1;33m\u001b[0m\u001b[0m\n\u001b[1;32m-> 2889\u001b[1;33m                 \u001b[1;32mreturn\u001b[0m \u001b[0mself\u001b[0m\u001b[1;33m.\u001b[0m\u001b[0m_engine\u001b[0m\u001b[1;33m.\u001b[0m\u001b[0mget_loc\u001b[0m\u001b[1;33m(\u001b[0m\u001b[0mcasted_key\u001b[0m\u001b[1;33m)\u001b[0m\u001b[1;33m\u001b[0m\u001b[1;33m\u001b[0m\u001b[0m\n\u001b[0m\u001b[0;32m   2890\u001b[0m             \u001b[1;32mexcept\u001b[0m \u001b[0mKeyError\u001b[0m \u001b[1;32mas\u001b[0m \u001b[0merr\u001b[0m\u001b[1;33m:\u001b[0m\u001b[1;33m\u001b[0m\u001b[1;33m\u001b[0m\u001b[0m\n",
      "\u001b[1;32mpandas\\_libs\\index.pyx\u001b[0m in \u001b[0;36mpandas._libs.index.IndexEngine.get_loc\u001b[1;34m()\u001b[0m\n",
      "\u001b[1;32mpandas\\_libs\\index.pyx\u001b[0m in \u001b[0;36mpandas._libs.index.IndexEngine.get_loc\u001b[1;34m()\u001b[0m\n",
      "\u001b[1;32mpandas\\_libs\\hashtable_class_helper.pxi\u001b[0m in \u001b[0;36mpandas._libs.hashtable.PyObjectHashTable.get_item\u001b[1;34m()\u001b[0m\n",
      "\u001b[1;32mpandas\\_libs\\hashtable_class_helper.pxi\u001b[0m in \u001b[0;36mpandas._libs.hashtable.PyObjectHashTable.get_item\u001b[1;34m()\u001b[0m\n",
      "\u001b[1;31mKeyError\u001b[0m: 'length_diff'",
      "\nThe above exception was the direct cause of the following exception:\n",
      "\u001b[1;31mKeyError\u001b[0m                                  Traceback (most recent call last)",
      "\u001b[1;32m<ipython-input-24-5ea4a330ef6c>\u001b[0m in \u001b[0;36m<module>\u001b[1;34m\u001b[0m\n\u001b[1;32m----> 1\u001b[1;33m gene_wiki_vol_info_diff[\"percent_change\"] = gene_wiki_vol_info_diff.apply(\n\u001b[0m\u001b[0;32m      2\u001b[0m     \u001b[1;32mlambda\u001b[0m \u001b[0mv\u001b[0m\u001b[1;33m:\u001b[0m \u001b[0mv\u001b[0m\u001b[1;33m[\u001b[0m\u001b[1;34m\"length_diff\"\u001b[0m\u001b[1;33m]\u001b[0m \u001b[1;33m/\u001b[0m \u001b[1;33m(\u001b[0m\u001b[0mv\u001b[0m\u001b[1;33m[\u001b[0m\u001b[1;34m\"corresponding length\"\u001b[0m\u001b[1;33m]\u001b[0m\u001b[1;33m+\u001b[0m\u001b[1;36m1\u001b[0m\u001b[1;33m)\u001b[0m\u001b[1;33m*\u001b[0m\u001b[1;36m100\u001b[0m\u001b[1;33m,\u001b[0m \u001b[0maxis\u001b[0m\u001b[1;33m=\u001b[0m\u001b[1;36m1\u001b[0m\u001b[1;33m\u001b[0m\u001b[1;33m\u001b[0m\u001b[0m\n\u001b[0;32m      3\u001b[0m )\n",
      "\u001b[1;32m~\\Anaconda3\\envs\\pywikibot\\lib\\site-packages\\pandas\\core\\frame.py\u001b[0m in \u001b[0;36mapply\u001b[1;34m(self, func, axis, raw, result_type, args, **kwds)\u001b[0m\n\u001b[0;32m   7539\u001b[0m             \u001b[0mkwds\u001b[0m\u001b[1;33m=\u001b[0m\u001b[0mkwds\u001b[0m\u001b[1;33m,\u001b[0m\u001b[1;33m\u001b[0m\u001b[1;33m\u001b[0m\u001b[0m\n\u001b[0;32m   7540\u001b[0m         )\n\u001b[1;32m-> 7541\u001b[1;33m         \u001b[1;32mreturn\u001b[0m \u001b[0mop\u001b[0m\u001b[1;33m.\u001b[0m\u001b[0mget_result\u001b[0m\u001b[1;33m(\u001b[0m\u001b[1;33m)\u001b[0m\u001b[1;33m\u001b[0m\u001b[1;33m\u001b[0m\u001b[0m\n\u001b[0m\u001b[0;32m   7542\u001b[0m \u001b[1;33m\u001b[0m\u001b[0m\n\u001b[0;32m   7543\u001b[0m     \u001b[1;32mdef\u001b[0m \u001b[0mapplymap\u001b[0m\u001b[1;33m(\u001b[0m\u001b[0mself\u001b[0m\u001b[1;33m,\u001b[0m \u001b[0mfunc\u001b[0m\u001b[1;33m)\u001b[0m \u001b[1;33m->\u001b[0m \u001b[1;34m\"DataFrame\"\u001b[0m\u001b[1;33m:\u001b[0m\u001b[1;33m\u001b[0m\u001b[1;33m\u001b[0m\u001b[0m\n",
      "\u001b[1;32m~\\Anaconda3\\envs\\pywikibot\\lib\\site-packages\\pandas\\core\\apply.py\u001b[0m in \u001b[0;36mget_result\u001b[1;34m(self)\u001b[0m\n\u001b[0;32m    178\u001b[0m             \u001b[1;32mreturn\u001b[0m \u001b[0mself\u001b[0m\u001b[1;33m.\u001b[0m\u001b[0mapply_raw\u001b[0m\u001b[1;33m(\u001b[0m\u001b[1;33m)\u001b[0m\u001b[1;33m\u001b[0m\u001b[1;33m\u001b[0m\u001b[0m\n\u001b[0;32m    179\u001b[0m \u001b[1;33m\u001b[0m\u001b[0m\n\u001b[1;32m--> 180\u001b[1;33m         \u001b[1;32mreturn\u001b[0m \u001b[0mself\u001b[0m\u001b[1;33m.\u001b[0m\u001b[0mapply_standard\u001b[0m\u001b[1;33m(\u001b[0m\u001b[1;33m)\u001b[0m\u001b[1;33m\u001b[0m\u001b[1;33m\u001b[0m\u001b[0m\n\u001b[0m\u001b[0;32m    181\u001b[0m \u001b[1;33m\u001b[0m\u001b[0m\n\u001b[0;32m    182\u001b[0m     \u001b[1;32mdef\u001b[0m \u001b[0mapply_empty_result\u001b[0m\u001b[1;33m(\u001b[0m\u001b[0mself\u001b[0m\u001b[1;33m)\u001b[0m\u001b[1;33m:\u001b[0m\u001b[1;33m\u001b[0m\u001b[1;33m\u001b[0m\u001b[0m\n",
      "\u001b[1;32m~\\Anaconda3\\envs\\pywikibot\\lib\\site-packages\\pandas\\core\\apply.py\u001b[0m in \u001b[0;36mapply_standard\u001b[1;34m(self)\u001b[0m\n\u001b[0;32m    253\u001b[0m \u001b[1;33m\u001b[0m\u001b[0m\n\u001b[0;32m    254\u001b[0m     \u001b[1;32mdef\u001b[0m \u001b[0mapply_standard\u001b[0m\u001b[1;33m(\u001b[0m\u001b[0mself\u001b[0m\u001b[1;33m)\u001b[0m\u001b[1;33m:\u001b[0m\u001b[1;33m\u001b[0m\u001b[1;33m\u001b[0m\u001b[0m\n\u001b[1;32m--> 255\u001b[1;33m         \u001b[0mresults\u001b[0m\u001b[1;33m,\u001b[0m \u001b[0mres_index\u001b[0m \u001b[1;33m=\u001b[0m \u001b[0mself\u001b[0m\u001b[1;33m.\u001b[0m\u001b[0mapply_series_generator\u001b[0m\u001b[1;33m(\u001b[0m\u001b[1;33m)\u001b[0m\u001b[1;33m\u001b[0m\u001b[1;33m\u001b[0m\u001b[0m\n\u001b[0m\u001b[0;32m    256\u001b[0m \u001b[1;33m\u001b[0m\u001b[0m\n\u001b[0;32m    257\u001b[0m         \u001b[1;31m# wrap results\u001b[0m\u001b[1;33m\u001b[0m\u001b[1;33m\u001b[0m\u001b[1;33m\u001b[0m\u001b[0m\n",
      "\u001b[1;32m~\\Anaconda3\\envs\\pywikibot\\lib\\site-packages\\pandas\\core\\apply.py\u001b[0m in \u001b[0;36mapply_series_generator\u001b[1;34m(self)\u001b[0m\n\u001b[0;32m    282\u001b[0m                 \u001b[1;32mfor\u001b[0m \u001b[0mi\u001b[0m\u001b[1;33m,\u001b[0m \u001b[0mv\u001b[0m \u001b[1;32min\u001b[0m \u001b[0menumerate\u001b[0m\u001b[1;33m(\u001b[0m\u001b[0mseries_gen\u001b[0m\u001b[1;33m)\u001b[0m\u001b[1;33m:\u001b[0m\u001b[1;33m\u001b[0m\u001b[1;33m\u001b[0m\u001b[0m\n\u001b[0;32m    283\u001b[0m                     \u001b[1;31m# ignore SettingWithCopy here in case the user mutates\u001b[0m\u001b[1;33m\u001b[0m\u001b[1;33m\u001b[0m\u001b[1;33m\u001b[0m\u001b[0m\n\u001b[1;32m--> 284\u001b[1;33m                     \u001b[0mresults\u001b[0m\u001b[1;33m[\u001b[0m\u001b[0mi\u001b[0m\u001b[1;33m]\u001b[0m \u001b[1;33m=\u001b[0m \u001b[0mself\u001b[0m\u001b[1;33m.\u001b[0m\u001b[0mf\u001b[0m\u001b[1;33m(\u001b[0m\u001b[0mv\u001b[0m\u001b[1;33m)\u001b[0m\u001b[1;33m\u001b[0m\u001b[1;33m\u001b[0m\u001b[0m\n\u001b[0m\u001b[0;32m    285\u001b[0m                     \u001b[1;32mif\u001b[0m \u001b[0misinstance\u001b[0m\u001b[1;33m(\u001b[0m\u001b[0mresults\u001b[0m\u001b[1;33m[\u001b[0m\u001b[0mi\u001b[0m\u001b[1;33m]\u001b[0m\u001b[1;33m,\u001b[0m \u001b[0mABCSeries\u001b[0m\u001b[1;33m)\u001b[0m\u001b[1;33m:\u001b[0m\u001b[1;33m\u001b[0m\u001b[1;33m\u001b[0m\u001b[0m\n\u001b[0;32m    286\u001b[0m                         \u001b[1;31m# If we have a view on v, we need to make a copy because\u001b[0m\u001b[1;33m\u001b[0m\u001b[1;33m\u001b[0m\u001b[1;33m\u001b[0m\u001b[0m\n",
      "\u001b[1;32m<ipython-input-24-5ea4a330ef6c>\u001b[0m in \u001b[0;36m<lambda>\u001b[1;34m(v)\u001b[0m\n\u001b[0;32m      1\u001b[0m gene_wiki_vol_info_diff[\"percent_change\"] = gene_wiki_vol_info_diff.apply(\n\u001b[1;32m----> 2\u001b[1;33m     \u001b[1;32mlambda\u001b[0m \u001b[0mv\u001b[0m\u001b[1;33m:\u001b[0m \u001b[0mv\u001b[0m\u001b[1;33m[\u001b[0m\u001b[1;34m\"length_diff\"\u001b[0m\u001b[1;33m]\u001b[0m \u001b[1;33m/\u001b[0m \u001b[1;33m(\u001b[0m\u001b[0mv\u001b[0m\u001b[1;33m[\u001b[0m\u001b[1;34m\"corresponding length\"\u001b[0m\u001b[1;33m]\u001b[0m\u001b[1;33m+\u001b[0m\u001b[1;36m1\u001b[0m\u001b[1;33m)\u001b[0m\u001b[1;33m*\u001b[0m\u001b[1;36m100\u001b[0m\u001b[1;33m,\u001b[0m \u001b[0maxis\u001b[0m\u001b[1;33m=\u001b[0m\u001b[1;36m1\u001b[0m\u001b[1;33m\u001b[0m\u001b[1;33m\u001b[0m\u001b[0m\n\u001b[0m\u001b[0;32m      3\u001b[0m )\n",
      "\u001b[1;32m~\\Anaconda3\\envs\\pywikibot\\lib\\site-packages\\pandas\\core\\series.py\u001b[0m in \u001b[0;36m__getitem__\u001b[1;34m(self, key)\u001b[0m\n\u001b[0;32m    880\u001b[0m \u001b[1;33m\u001b[0m\u001b[0m\n\u001b[0;32m    881\u001b[0m         \u001b[1;32melif\u001b[0m \u001b[0mkey_is_scalar\u001b[0m\u001b[1;33m:\u001b[0m\u001b[1;33m\u001b[0m\u001b[1;33m\u001b[0m\u001b[0m\n\u001b[1;32m--> 882\u001b[1;33m             \u001b[1;32mreturn\u001b[0m \u001b[0mself\u001b[0m\u001b[1;33m.\u001b[0m\u001b[0m_get_value\u001b[0m\u001b[1;33m(\u001b[0m\u001b[0mkey\u001b[0m\u001b[1;33m)\u001b[0m\u001b[1;33m\u001b[0m\u001b[1;33m\u001b[0m\u001b[0m\n\u001b[0m\u001b[0;32m    883\u001b[0m \u001b[1;33m\u001b[0m\u001b[0m\n\u001b[0;32m    884\u001b[0m         if (\n",
      "\u001b[1;32m~\\Anaconda3\\envs\\pywikibot\\lib\\site-packages\\pandas\\core\\series.py\u001b[0m in \u001b[0;36m_get_value\u001b[1;34m(self, label, takeable)\u001b[0m\n\u001b[0;32m    989\u001b[0m \u001b[1;33m\u001b[0m\u001b[0m\n\u001b[0;32m    990\u001b[0m         \u001b[1;31m# Similar to Index.get_value, but we do not fall back to positional\u001b[0m\u001b[1;33m\u001b[0m\u001b[1;33m\u001b[0m\u001b[1;33m\u001b[0m\u001b[0m\n\u001b[1;32m--> 991\u001b[1;33m         \u001b[0mloc\u001b[0m \u001b[1;33m=\u001b[0m \u001b[0mself\u001b[0m\u001b[1;33m.\u001b[0m\u001b[0mindex\u001b[0m\u001b[1;33m.\u001b[0m\u001b[0mget_loc\u001b[0m\u001b[1;33m(\u001b[0m\u001b[0mlabel\u001b[0m\u001b[1;33m)\u001b[0m\u001b[1;33m\u001b[0m\u001b[1;33m\u001b[0m\u001b[0m\n\u001b[0m\u001b[0;32m    992\u001b[0m         \u001b[1;32mreturn\u001b[0m \u001b[0mself\u001b[0m\u001b[1;33m.\u001b[0m\u001b[0mindex\u001b[0m\u001b[1;33m.\u001b[0m\u001b[0m_get_values_for_loc\u001b[0m\u001b[1;33m(\u001b[0m\u001b[0mself\u001b[0m\u001b[1;33m,\u001b[0m \u001b[0mloc\u001b[0m\u001b[1;33m,\u001b[0m \u001b[0mlabel\u001b[0m\u001b[1;33m)\u001b[0m\u001b[1;33m\u001b[0m\u001b[1;33m\u001b[0m\u001b[0m\n\u001b[0;32m    993\u001b[0m \u001b[1;33m\u001b[0m\u001b[0m\n",
      "\u001b[1;32m~\\Anaconda3\\envs\\pywikibot\\lib\\site-packages\\pandas\\core\\indexes\\base.py\u001b[0m in \u001b[0;36mget_loc\u001b[1;34m(self, key, method, tolerance)\u001b[0m\n\u001b[0;32m   2889\u001b[0m                 \u001b[1;32mreturn\u001b[0m \u001b[0mself\u001b[0m\u001b[1;33m.\u001b[0m\u001b[0m_engine\u001b[0m\u001b[1;33m.\u001b[0m\u001b[0mget_loc\u001b[0m\u001b[1;33m(\u001b[0m\u001b[0mcasted_key\u001b[0m\u001b[1;33m)\u001b[0m\u001b[1;33m\u001b[0m\u001b[1;33m\u001b[0m\u001b[0m\n\u001b[0;32m   2890\u001b[0m             \u001b[1;32mexcept\u001b[0m \u001b[0mKeyError\u001b[0m \u001b[1;32mas\u001b[0m \u001b[0merr\u001b[0m\u001b[1;33m:\u001b[0m\u001b[1;33m\u001b[0m\u001b[1;33m\u001b[0m\u001b[0m\n\u001b[1;32m-> 2891\u001b[1;33m                 \u001b[1;32mraise\u001b[0m \u001b[0mKeyError\u001b[0m\u001b[1;33m(\u001b[0m\u001b[0mkey\u001b[0m\u001b[1;33m)\u001b[0m \u001b[1;32mfrom\u001b[0m \u001b[0merr\u001b[0m\u001b[1;33m\u001b[0m\u001b[1;33m\u001b[0m\u001b[0m\n\u001b[0m\u001b[0;32m   2892\u001b[0m \u001b[1;33m\u001b[0m\u001b[0m\n\u001b[0;32m   2893\u001b[0m         \u001b[1;32mif\u001b[0m \u001b[0mtolerance\u001b[0m \u001b[1;32mis\u001b[0m \u001b[1;32mnot\u001b[0m \u001b[1;32mNone\u001b[0m\u001b[1;33m:\u001b[0m\u001b[1;33m\u001b[0m\u001b[1;33m\u001b[0m\u001b[0m\n",
      "\u001b[1;31mKeyError\u001b[0m: 'length_diff'"
     ]
    }
   ],
   "source": [
    "gene_wiki_vol_info_diff[\"percent_change\"] = gene_wiki_vol_info_diff.apply(\n",
    "    lambda v: v[\"length_diff\"] / (v[\"corresponding length\"]+1)*100, axis=1\n",
    ")"
   ]
  },
  {
   "cell_type": "code",
   "execution_count": 25,
   "metadata": {},
   "outputs": [
    {
     "ename": "KeyError",
     "evalue": "'percent_change'",
     "output_type": "error",
     "traceback": [
      "\u001b[1;31m---------------------------------------------------------------------------\u001b[0m",
      "\u001b[1;31mKeyError\u001b[0m                                  Traceback (most recent call last)",
      "\u001b[1;32m<ipython-input-25-b55c43f89982>\u001b[0m in \u001b[0;36m<module>\u001b[1;34m\u001b[0m\n\u001b[1;32m----> 1\u001b[1;33m \u001b[0mgene_wiki_vol_info_diff\u001b[0m\u001b[1;33m.\u001b[0m\u001b[0msort_values\u001b[0m\u001b[1;33m(\u001b[0m\u001b[0mby\u001b[0m\u001b[1;33m=\u001b[0m\u001b[1;34m\"percent_change\"\u001b[0m\u001b[1;33m,\u001b[0m\u001b[0mascending\u001b[0m\u001b[1;33m=\u001b[0m\u001b[1;32mFalse\u001b[0m\u001b[1;33m)\u001b[0m\u001b[1;33m.\u001b[0m\u001b[0mhead\u001b[0m\u001b[1;33m(\u001b[0m\u001b[1;33m)\u001b[0m\u001b[1;33m\u001b[0m\u001b[1;33m\u001b[0m\u001b[0m\n\u001b[0m",
      "\u001b[1;32m~\\Anaconda3\\envs\\pywikibot\\lib\\site-packages\\pandas\\core\\frame.py\u001b[0m in \u001b[0;36msort_values\u001b[1;34m(self, by, axis, ascending, inplace, kind, na_position, ignore_index, key)\u001b[0m\n\u001b[0;32m   5285\u001b[0m \u001b[1;33m\u001b[0m\u001b[0m\n\u001b[0;32m   5286\u001b[0m             \u001b[0mby\u001b[0m \u001b[1;33m=\u001b[0m \u001b[0mby\u001b[0m\u001b[1;33m[\u001b[0m\u001b[1;36m0\u001b[0m\u001b[1;33m]\u001b[0m\u001b[1;33m\u001b[0m\u001b[1;33m\u001b[0m\u001b[0m\n\u001b[1;32m-> 5287\u001b[1;33m             \u001b[0mk\u001b[0m \u001b[1;33m=\u001b[0m \u001b[0mself\u001b[0m\u001b[1;33m.\u001b[0m\u001b[0m_get_label_or_level_values\u001b[0m\u001b[1;33m(\u001b[0m\u001b[0mby\u001b[0m\u001b[1;33m,\u001b[0m \u001b[0maxis\u001b[0m\u001b[1;33m=\u001b[0m\u001b[0maxis\u001b[0m\u001b[1;33m)\u001b[0m\u001b[1;33m\u001b[0m\u001b[1;33m\u001b[0m\u001b[0m\n\u001b[0m\u001b[0;32m   5288\u001b[0m \u001b[1;33m\u001b[0m\u001b[0m\n\u001b[0;32m   5289\u001b[0m             \u001b[1;31m# need to rewrap column in Series to apply key function\u001b[0m\u001b[1;33m\u001b[0m\u001b[1;33m\u001b[0m\u001b[1;33m\u001b[0m\u001b[0m\n",
      "\u001b[1;32m~\\Anaconda3\\envs\\pywikibot\\lib\\site-packages\\pandas\\core\\generic.py\u001b[0m in \u001b[0;36m_get_label_or_level_values\u001b[1;34m(self, key, axis)\u001b[0m\n\u001b[0;32m   1558\u001b[0m             \u001b[0mvalues\u001b[0m \u001b[1;33m=\u001b[0m \u001b[0mself\u001b[0m\u001b[1;33m.\u001b[0m\u001b[0maxes\u001b[0m\u001b[1;33m[\u001b[0m\u001b[0maxis\u001b[0m\u001b[1;33m]\u001b[0m\u001b[1;33m.\u001b[0m\u001b[0mget_level_values\u001b[0m\u001b[1;33m(\u001b[0m\u001b[0mkey\u001b[0m\u001b[1;33m)\u001b[0m\u001b[1;33m.\u001b[0m\u001b[0m_values\u001b[0m\u001b[1;33m\u001b[0m\u001b[1;33m\u001b[0m\u001b[0m\n\u001b[0;32m   1559\u001b[0m         \u001b[1;32melse\u001b[0m\u001b[1;33m:\u001b[0m\u001b[1;33m\u001b[0m\u001b[1;33m\u001b[0m\u001b[0m\n\u001b[1;32m-> 1560\u001b[1;33m             \u001b[1;32mraise\u001b[0m \u001b[0mKeyError\u001b[0m\u001b[1;33m(\u001b[0m\u001b[0mkey\u001b[0m\u001b[1;33m)\u001b[0m\u001b[1;33m\u001b[0m\u001b[1;33m\u001b[0m\u001b[0m\n\u001b[0m\u001b[0;32m   1561\u001b[0m \u001b[1;33m\u001b[0m\u001b[0m\n\u001b[0;32m   1562\u001b[0m         \u001b[1;31m# Check for duplicates\u001b[0m\u001b[1;33m\u001b[0m\u001b[1;33m\u001b[0m\u001b[1;33m\u001b[0m\u001b[0m\n",
      "\u001b[1;31mKeyError\u001b[0m: 'percent_change'"
     ]
    }
   ],
   "source": [
    "gene_wiki_vol_info_diff.sort_values(by=\"percent_change\",ascending=False).head()"
   ]
  },
  {
   "cell_type": "code",
   "execution_count": null,
   "metadata": {},
   "outputs": [],
   "source": [
    "page_percent_diff_hist = gene_wiki_vol_info_diff[[\"percent_change\"]].hist(bins=30)"
   ]
  },
  {
   "cell_type": "markdown",
   "metadata": {},
   "source": [
    "## Page Views Info"
   ]
  },
  {
   "cell_type": "code",
   "execution_count": 35,
   "metadata": {},
   "outputs": [],
   "source": [
    "filename = \"gw_pvs.tsv\""
   ]
  },
  {
   "cell_type": "code",
   "execution_count": 36,
   "metadata": {},
   "outputs": [],
   "source": [
    "gw_pageviews =  pd.read_csv(filename, sep=\"\\t\").drop(labels=[\"Unnamed: 0\"], axis=1)"
   ]
  },
  {
   "cell_type": "code",
   "execution_count": 37,
   "metadata": {},
   "outputs": [
    {
     "data": {
      "text/html": [
       "<div>\n",
       "<style scoped>\n",
       "    .dataframe tbody tr th:only-of-type {\n",
       "        vertical-align: middle;\n",
       "    }\n",
       "\n",
       "    .dataframe tbody tr th {\n",
       "        vertical-align: top;\n",
       "    }\n",
       "\n",
       "    .dataframe thead th {\n",
       "        text-align: right;\n",
       "    }\n",
       "</style>\n",
       "<table border=\"1\" class=\"dataframe\">\n",
       "  <thead>\n",
       "    <tr style=\"text-align: right;\">\n",
       "      <th></th>\n",
       "      <th>wikipedia</th>\n",
       "      <th>2015070100</th>\n",
       "      <th>2015080100</th>\n",
       "      <th>2015090100</th>\n",
       "      <th>2015100100</th>\n",
       "      <th>2015110100</th>\n",
       "      <th>2015120100</th>\n",
       "      <th>2016010100</th>\n",
       "      <th>2016020100</th>\n",
       "      <th>2016030100</th>\n",
       "      <th>...</th>\n",
       "      <th>2021010100</th>\n",
       "      <th>2021020100</th>\n",
       "      <th>2021030100</th>\n",
       "      <th>2021040100</th>\n",
       "      <th>2021050100</th>\n",
       "      <th>2021060100</th>\n",
       "      <th>2021070100</th>\n",
       "      <th>2021080100</th>\n",
       "      <th>2021090100</th>\n",
       "      <th>2021100100</th>\n",
       "    </tr>\n",
       "  </thead>\n",
       "  <tbody>\n",
       "    <tr>\n",
       "      <th>0</th>\n",
       "      <td>ABCA7</td>\n",
       "      <td>230.0</td>\n",
       "      <td>157.0</td>\n",
       "      <td>213.0</td>\n",
       "      <td>235.0</td>\n",
       "      <td>264.0</td>\n",
       "      <td>152.0</td>\n",
       "      <td>232.0</td>\n",
       "      <td>168.0</td>\n",
       "      <td>214.0</td>\n",
       "      <td>...</td>\n",
       "      <td>165.0</td>\n",
       "      <td>153.0</td>\n",
       "      <td>198.0</td>\n",
       "      <td>152.0</td>\n",
       "      <td>238.0</td>\n",
       "      <td>176.0</td>\n",
       "      <td>195.0</td>\n",
       "      <td>114.0</td>\n",
       "      <td>127.0</td>\n",
       "      <td>110.0</td>\n",
       "    </tr>\n",
       "    <tr>\n",
       "      <th>1</th>\n",
       "      <td>AGTPBP1_(gene)</td>\n",
       "      <td>NaN</td>\n",
       "      <td>NaN</td>\n",
       "      <td>NaN</td>\n",
       "      <td>NaN</td>\n",
       "      <td>NaN</td>\n",
       "      <td>NaN</td>\n",
       "      <td>NaN</td>\n",
       "      <td>NaN</td>\n",
       "      <td>NaN</td>\n",
       "      <td>...</td>\n",
       "      <td>20.0</td>\n",
       "      <td>75.0</td>\n",
       "      <td>35.0</td>\n",
       "      <td>25.0</td>\n",
       "      <td>29.0</td>\n",
       "      <td>34.0</td>\n",
       "      <td>30.0</td>\n",
       "      <td>14.0</td>\n",
       "      <td>19.0</td>\n",
       "      <td>40.0</td>\n",
       "    </tr>\n",
       "    <tr>\n",
       "      <th>2</th>\n",
       "      <td>ALOX15</td>\n",
       "      <td>207.0</td>\n",
       "      <td>178.0</td>\n",
       "      <td>261.0</td>\n",
       "      <td>306.0</td>\n",
       "      <td>343.0</td>\n",
       "      <td>366.0</td>\n",
       "      <td>343.0</td>\n",
       "      <td>333.0</td>\n",
       "      <td>436.0</td>\n",
       "      <td>...</td>\n",
       "      <td>516.0</td>\n",
       "      <td>445.0</td>\n",
       "      <td>538.0</td>\n",
       "      <td>471.0</td>\n",
       "      <td>438.0</td>\n",
       "      <td>421.0</td>\n",
       "      <td>298.0</td>\n",
       "      <td>333.0</td>\n",
       "      <td>402.0</td>\n",
       "      <td>380.0</td>\n",
       "    </tr>\n",
       "    <tr>\n",
       "      <th>3</th>\n",
       "      <td>APOA5</td>\n",
       "      <td>356.0</td>\n",
       "      <td>304.0</td>\n",
       "      <td>376.0</td>\n",
       "      <td>375.0</td>\n",
       "      <td>386.0</td>\n",
       "      <td>322.0</td>\n",
       "      <td>377.0</td>\n",
       "      <td>374.0</td>\n",
       "      <td>538.0</td>\n",
       "      <td>...</td>\n",
       "      <td>284.0</td>\n",
       "      <td>279.0</td>\n",
       "      <td>300.0</td>\n",
       "      <td>309.0</td>\n",
       "      <td>304.0</td>\n",
       "      <td>251.0</td>\n",
       "      <td>218.0</td>\n",
       "      <td>198.0</td>\n",
       "      <td>192.0</td>\n",
       "      <td>220.0</td>\n",
       "    </tr>\n",
       "    <tr>\n",
       "      <th>4</th>\n",
       "      <td>Apolipoprotein_D</td>\n",
       "      <td>353.0</td>\n",
       "      <td>278.0</td>\n",
       "      <td>361.0</td>\n",
       "      <td>339.0</td>\n",
       "      <td>410.0</td>\n",
       "      <td>339.0</td>\n",
       "      <td>316.0</td>\n",
       "      <td>391.0</td>\n",
       "      <td>376.0</td>\n",
       "      <td>...</td>\n",
       "      <td>333.0</td>\n",
       "      <td>306.0</td>\n",
       "      <td>405.0</td>\n",
       "      <td>352.0</td>\n",
       "      <td>356.0</td>\n",
       "      <td>409.0</td>\n",
       "      <td>222.0</td>\n",
       "      <td>228.0</td>\n",
       "      <td>249.0</td>\n",
       "      <td>257.0</td>\n",
       "    </tr>\n",
       "  </tbody>\n",
       "</table>\n",
       "<p>5 rows × 77 columns</p>\n",
       "</div>"
      ],
      "text/plain": [
       "          wikipedia  2015070100  2015080100  2015090100  2015100100  \\\n",
       "0             ABCA7       230.0       157.0       213.0       235.0   \n",
       "1    AGTPBP1_(gene)         NaN         NaN         NaN         NaN   \n",
       "2            ALOX15       207.0       178.0       261.0       306.0   \n",
       "3             APOA5       356.0       304.0       376.0       375.0   \n",
       "4  Apolipoprotein_D       353.0       278.0       361.0       339.0   \n",
       "\n",
       "   2015110100  2015120100  2016010100  2016020100  2016030100  ...  \\\n",
       "0       264.0       152.0       232.0       168.0       214.0  ...   \n",
       "1         NaN         NaN         NaN         NaN         NaN  ...   \n",
       "2       343.0       366.0       343.0       333.0       436.0  ...   \n",
       "3       386.0       322.0       377.0       374.0       538.0  ...   \n",
       "4       410.0       339.0       316.0       391.0       376.0  ...   \n",
       "\n",
       "   2021010100  2021020100  2021030100  2021040100  2021050100  2021060100  \\\n",
       "0       165.0       153.0       198.0       152.0       238.0       176.0   \n",
       "1        20.0        75.0        35.0        25.0        29.0        34.0   \n",
       "2       516.0       445.0       538.0       471.0       438.0       421.0   \n",
       "3       284.0       279.0       300.0       309.0       304.0       251.0   \n",
       "4       333.0       306.0       405.0       352.0       356.0       409.0   \n",
       "\n",
       "   2021070100  2021080100  2021090100  2021100100  \n",
       "0       195.0       114.0       127.0       110.0  \n",
       "1        30.0        14.0        19.0        40.0  \n",
       "2       298.0       333.0       402.0       380.0  \n",
       "3       218.0       198.0       192.0       220.0  \n",
       "4       222.0       228.0       249.0       257.0  \n",
       "\n",
       "[5 rows x 77 columns]"
      ]
     },
     "execution_count": 37,
     "metadata": {},
     "output_type": "execute_result"
    }
   ],
   "source": [
    "gw_pageviews.head()"
   ]
  },
  {
   "cell_type": "code",
   "execution_count": 38,
   "metadata": {},
   "outputs": [
    {
     "data": {
      "text/html": [
       "<div>\n",
       "<style scoped>\n",
       "    .dataframe tbody tr th:only-of-type {\n",
       "        vertical-align: middle;\n",
       "    }\n",
       "\n",
       "    .dataframe tbody tr th {\n",
       "        vertical-align: top;\n",
       "    }\n",
       "\n",
       "    .dataframe thead th {\n",
       "        text-align: right;\n",
       "    }\n",
       "</style>\n",
       "<table border=\"1\" class=\"dataframe\">\n",
       "  <thead>\n",
       "    <tr style=\"text-align: right;\">\n",
       "      <th></th>\n",
       "      <th>wikipedia</th>\n",
       "      <th>2015070100</th>\n",
       "      <th>2015080100</th>\n",
       "      <th>2015090100</th>\n",
       "      <th>2015100100</th>\n",
       "      <th>2015110100</th>\n",
       "      <th>2015120100</th>\n",
       "      <th>2016010100</th>\n",
       "      <th>2016020100</th>\n",
       "      <th>2016030100</th>\n",
       "      <th>...</th>\n",
       "      <th>2021010100</th>\n",
       "      <th>2021020100</th>\n",
       "      <th>2021030100</th>\n",
       "      <th>2021040100</th>\n",
       "      <th>2021050100</th>\n",
       "      <th>2021060100</th>\n",
       "      <th>2021070100</th>\n",
       "      <th>2021080100</th>\n",
       "      <th>2021090100</th>\n",
       "      <th>2021100100</th>\n",
       "    </tr>\n",
       "  </thead>\n",
       "  <tbody>\n",
       "    <tr>\n",
       "      <th>0</th>\n",
       "      <td>ABCA7</td>\n",
       "      <td>230.0</td>\n",
       "      <td>157.0</td>\n",
       "      <td>213.0</td>\n",
       "      <td>235.0</td>\n",
       "      <td>264.0</td>\n",
       "      <td>152.0</td>\n",
       "      <td>232.0</td>\n",
       "      <td>168.0</td>\n",
       "      <td>214.0</td>\n",
       "      <td>...</td>\n",
       "      <td>165.0</td>\n",
       "      <td>153.0</td>\n",
       "      <td>198.0</td>\n",
       "      <td>152.0</td>\n",
       "      <td>238.0</td>\n",
       "      <td>176.0</td>\n",
       "      <td>195.0</td>\n",
       "      <td>114.0</td>\n",
       "      <td>127.0</td>\n",
       "      <td>110.0</td>\n",
       "    </tr>\n",
       "    <tr>\n",
       "      <th>2</th>\n",
       "      <td>ALOX15</td>\n",
       "      <td>207.0</td>\n",
       "      <td>178.0</td>\n",
       "      <td>261.0</td>\n",
       "      <td>306.0</td>\n",
       "      <td>343.0</td>\n",
       "      <td>366.0</td>\n",
       "      <td>343.0</td>\n",
       "      <td>333.0</td>\n",
       "      <td>436.0</td>\n",
       "      <td>...</td>\n",
       "      <td>516.0</td>\n",
       "      <td>445.0</td>\n",
       "      <td>538.0</td>\n",
       "      <td>471.0</td>\n",
       "      <td>438.0</td>\n",
       "      <td>421.0</td>\n",
       "      <td>298.0</td>\n",
       "      <td>333.0</td>\n",
       "      <td>402.0</td>\n",
       "      <td>380.0</td>\n",
       "    </tr>\n",
       "    <tr>\n",
       "      <th>3</th>\n",
       "      <td>APOA5</td>\n",
       "      <td>356.0</td>\n",
       "      <td>304.0</td>\n",
       "      <td>376.0</td>\n",
       "      <td>375.0</td>\n",
       "      <td>386.0</td>\n",
       "      <td>322.0</td>\n",
       "      <td>377.0</td>\n",
       "      <td>374.0</td>\n",
       "      <td>538.0</td>\n",
       "      <td>...</td>\n",
       "      <td>284.0</td>\n",
       "      <td>279.0</td>\n",
       "      <td>300.0</td>\n",
       "      <td>309.0</td>\n",
       "      <td>304.0</td>\n",
       "      <td>251.0</td>\n",
       "      <td>218.0</td>\n",
       "      <td>198.0</td>\n",
       "      <td>192.0</td>\n",
       "      <td>220.0</td>\n",
       "    </tr>\n",
       "    <tr>\n",
       "      <th>4</th>\n",
       "      <td>Apolipoprotein_D</td>\n",
       "      <td>353.0</td>\n",
       "      <td>278.0</td>\n",
       "      <td>361.0</td>\n",
       "      <td>339.0</td>\n",
       "      <td>410.0</td>\n",
       "      <td>339.0</td>\n",
       "      <td>316.0</td>\n",
       "      <td>391.0</td>\n",
       "      <td>376.0</td>\n",
       "      <td>...</td>\n",
       "      <td>333.0</td>\n",
       "      <td>306.0</td>\n",
       "      <td>405.0</td>\n",
       "      <td>352.0</td>\n",
       "      <td>356.0</td>\n",
       "      <td>409.0</td>\n",
       "      <td>222.0</td>\n",
       "      <td>228.0</td>\n",
       "      <td>249.0</td>\n",
       "      <td>257.0</td>\n",
       "    </tr>\n",
       "    <tr>\n",
       "      <th>5</th>\n",
       "      <td>Atrial_natriuretic_peptide</td>\n",
       "      <td>15636.0</td>\n",
       "      <td>16499.0</td>\n",
       "      <td>20111.0</td>\n",
       "      <td>25466.0</td>\n",
       "      <td>27521.0</td>\n",
       "      <td>23412.0</td>\n",
       "      <td>22504.0</td>\n",
       "      <td>25816.0</td>\n",
       "      <td>29583.0</td>\n",
       "      <td>...</td>\n",
       "      <td>12917.0</td>\n",
       "      <td>11943.0</td>\n",
       "      <td>13349.0</td>\n",
       "      <td>12368.0</td>\n",
       "      <td>11875.0</td>\n",
       "      <td>10579.0</td>\n",
       "      <td>8570.0</td>\n",
       "      <td>8373.0</td>\n",
       "      <td>8534.0</td>\n",
       "      <td>9513.0</td>\n",
       "    </tr>\n",
       "  </tbody>\n",
       "</table>\n",
       "<p>5 rows × 77 columns</p>\n",
       "</div>"
      ],
      "text/plain": [
       "                    wikipedia  2015070100  2015080100  2015090100  2015100100  \\\n",
       "0                       ABCA7       230.0       157.0       213.0       235.0   \n",
       "2                      ALOX15       207.0       178.0       261.0       306.0   \n",
       "3                       APOA5       356.0       304.0       376.0       375.0   \n",
       "4            Apolipoprotein_D       353.0       278.0       361.0       339.0   \n",
       "5  Atrial_natriuretic_peptide     15636.0     16499.0     20111.0     25466.0   \n",
       "\n",
       "   2015110100  2015120100  2016010100  2016020100  2016030100  ...  \\\n",
       "0       264.0       152.0       232.0       168.0       214.0  ...   \n",
       "2       343.0       366.0       343.0       333.0       436.0  ...   \n",
       "3       386.0       322.0       377.0       374.0       538.0  ...   \n",
       "4       410.0       339.0       316.0       391.0       376.0  ...   \n",
       "5     27521.0     23412.0     22504.0     25816.0     29583.0  ...   \n",
       "\n",
       "   2021010100  2021020100  2021030100  2021040100  2021050100  2021060100  \\\n",
       "0       165.0       153.0       198.0       152.0       238.0       176.0   \n",
       "2       516.0       445.0       538.0       471.0       438.0       421.0   \n",
       "3       284.0       279.0       300.0       309.0       304.0       251.0   \n",
       "4       333.0       306.0       405.0       352.0       356.0       409.0   \n",
       "5     12917.0     11943.0     13349.0     12368.0     11875.0     10579.0   \n",
       "\n",
       "   2021070100  2021080100  2021090100  2021100100  \n",
       "0       195.0       114.0       127.0       110.0  \n",
       "2       298.0       333.0       402.0       380.0  \n",
       "3       218.0       198.0       192.0       220.0  \n",
       "4       222.0       228.0       249.0       257.0  \n",
       "5      8570.0      8373.0      8534.0      9513.0  \n",
       "\n",
       "[5 rows x 77 columns]"
      ]
     },
     "execution_count": 38,
     "metadata": {},
     "output_type": "execute_result"
    }
   ],
   "source": [
    "gw_pageviews.dropna().head()"
   ]
  },
  {
   "cell_type": "code",
   "execution_count": 39,
   "metadata": {},
   "outputs": [
    {
     "data": {
      "text/plain": [
       "Index(['wikipedia', '2015070100', '2015080100', '2015090100', '2015100100',\n",
       "       '2015110100', '2015120100', '2016010100', '2016020100', '2016030100',\n",
       "       '2016040100', '2016050100', '2016060100', '2016070100', '2016080100',\n",
       "       '2016090100', '2016100100', '2016110100', '2016120100', '2017010100',\n",
       "       '2017020100', '2017030100', '2017040100', '2017050100', '2017060100',\n",
       "       '2017070100', '2017080100', '2017090100', '2017100100', '2017110100',\n",
       "       '2017120100', '2018010100', '2018020100', '2018030100', '2018040100',\n",
       "       '2018050100', '2018060100', '2018070100', '2018080100', '2018090100',\n",
       "       '2018100100', '2018110100', '2018120100', '2019010100', '2019020100',\n",
       "       '2019030100', '2019040100', '2019050100', '2019060100', '2019070100',\n",
       "       '2019080100', '2019090100', '2019100100', '2019110100', '2019120100',\n",
       "       '2020010100', '2020020100', '2020030100', '2020040100', '2020050100',\n",
       "       '2020060100', '2020070100', '2020080100', '2020090100', '2020100100',\n",
       "       '2020110100', '2020120100', '2021010100', '2021020100', '2021030100',\n",
       "       '2021040100', '2021050100', '2021060100', '2021070100', '2021080100',\n",
       "       '2021090100', '2021100100'],\n",
       "      dtype='object')"
      ]
     },
     "execution_count": 39,
     "metadata": {},
     "output_type": "execute_result"
    }
   ],
   "source": [
    "gw_pageviews.columns"
   ]
  },
  {
   "cell_type": "code",
   "execution_count": 40,
   "metadata": {},
   "outputs": [],
   "source": [
    "from datetime import datetime"
   ]
  },
  {
   "cell_type": "code",
   "execution_count": 41,
   "metadata": {},
   "outputs": [],
   "source": [
    "testdate_str = gw_pageviews.columns[1]"
   ]
  },
  {
   "cell_type": "code",
   "execution_count": 42,
   "metadata": {},
   "outputs": [
    {
     "data": {
      "text/plain": [
       "'2015070100'"
      ]
     },
     "execution_count": 42,
     "metadata": {},
     "output_type": "execute_result"
    }
   ],
   "source": [
    "testdate_str"
   ]
  },
  {
   "cell_type": "code",
   "execution_count": 43,
   "metadata": {},
   "outputs": [],
   "source": [
    "# format\n",
    "format = '%Y%m%d00'"
   ]
  },
  {
   "cell_type": "code",
   "execution_count": 44,
   "metadata": {},
   "outputs": [],
   "source": [
    "# convert from string format to datetime format\n",
    "testdate = datetime.strptime(testdate_str, format)"
   ]
  },
  {
   "cell_type": "code",
   "execution_count": 45,
   "metadata": {},
   "outputs": [
    {
     "name": "stdout",
     "output_type": "stream",
     "text": [
      "2015-07-01\n"
     ]
    }
   ],
   "source": [
    "# get the date from the datetime using date() \n",
    "# function\n",
    "print(testdate.date())"
   ]
  },
  {
   "cell_type": "code",
   "execution_count": 46,
   "metadata": {},
   "outputs": [],
   "source": [
    "date_list = []\n",
    "format = '%Y%m%d00'\n",
    "\n",
    "avg_pageviews_all = []\n",
    "avg_pageviews_w_nan = []\n",
    "avg_pageviews_no_nan_genes = []\n",
    "gw_pv_summary = pd.DataFrame(columns=[\"Date\", \"Average Pageviews (All Pages)\"])\n",
    "gw_pv_summary = pd.DataFrame(columns=[\"Date\", \"Average Pageviews (NaN is 0)\"])\n",
    "gw_pv_summary = pd.DataFrame(columns=[\"Date\", \"Average Pageviews (No Genes with NaN)\"])"
   ]
  },
  {
   "cell_type": "code",
   "execution_count": 47,
   "metadata": {},
   "outputs": [],
   "source": [
    "for date in gw_pageviews.columns:\n",
    "    if (date == 'wikipedia') : continue\n",
    "    else :\n",
    "        date_list.append(datetime.strptime(date, format))\n",
    "        avg_pageviews_all.append(gw_pageviews[[date]].mean(axis=0)[0])\n",
    "        avg_pageviews_w_nan.append(gw_pageviews[[date]].fillna(0).mean(axis=0, skipna=False)[0])\n",
    "        avg_pageviews_no_nan_genes.append(gw_pageviews.dropna()[[date]].mean(axis=0)[0])\n",
    "        "
   ]
  },
  {
   "cell_type": "code",
   "execution_count": 48,
   "metadata": {},
   "outputs": [],
   "source": [
    "gw_pv_summary[\"Date\"] = date_list\n",
    "gw_pv_summary[\"Average Pageviews (All Pages)\"] = avg_pageviews_all\n",
    "gw_pv_summary[\"Average Pageviews (NaN is 0)\"] = avg_pageviews_w_nan\n",
    "gw_pv_summary[\"Average Pageviews (No Genes with NaN)\"] = avg_pageviews_no_nan_genes"
   ]
  },
  {
   "cell_type": "code",
   "execution_count": 49,
   "metadata": {},
   "outputs": [
    {
     "data": {
      "text/plain": [
       "2021100100    340.056911\n",
       "dtype: float64"
      ]
     },
     "execution_count": 49,
     "metadata": {},
     "output_type": "execute_result"
    }
   ],
   "source": [
    "gw_pageviews[[date]].mean(axis=0)"
   ]
  },
  {
   "cell_type": "code",
   "execution_count": 50,
   "metadata": {},
   "outputs": [
    {
     "name": "stdout",
     "output_type": "stream",
     "text": [
      "2015-07-01\n"
     ]
    }
   ],
   "source": [
    "print(date_list[0].date())"
   ]
  },
  {
   "cell_type": "code",
   "execution_count": 51,
   "metadata": {},
   "outputs": [
    {
     "name": "stdout",
     "output_type": "stream",
     "text": [
      "[489.1759259259259, 491.3796296296296, 601.0925925925926, 687.5, 685.6666666666666, 602.6851851851852, 629.4166666666666, 658.2962962962963, 751.4351851851852, 778.3796296296297, 764.4722222222222, 603.6944444444445, 518.3333333333334, 529.0648148148148, 592.324074074074, 700.1944444444445, 766.9722222222222, 710.9074074074074, 717.8333333333334, 678.5, 789.6203703703703, 750.0648148148148, 768.3518518518518, 620.7592592592592, 539.8888888888889, 561.2870370370371, 599.6666666666666, 702.9722222222222, 731.6481481481482, 620.3888888888889, 674.6666666666666, 609.2962962962963, 691.175925925926, 690.5370370370371, 716.3703703703703, 601.3611111111111, 542.9814814814815, 550.1851851851852, 597.4722222222222, 732.2037037037037, 695.8703703703703, 606.5833333333334, 645.3703703703703, 623.4444444444445, 708.6203703703703, 695.6203703703703, 661.4444444444445, 537.8518518518518, 492.3611111111111, 472.9537037037037, 584.6111111111111, 688.074074074074, 635.1111111111111, 552.4814814814815, 577.425925925926, 577.1296296296297, 585.7777777777778, 622.6018518518518, 548.0277777777778, 468.6574074074074, 406.4074074074074, 391.23148148148147, 427.49074074074076, 512.6666666666666, 525.6018518518518, 470.712962962963, 469.3240740740741, 466.85185185185185, 522.2592592592592, 476.00925925925924, 465.76851851851853, 417.4537037037037, 356.962962962963, 317.31481481481484, 358.1296296296296, 375.3611111111111]\n"
     ]
    }
   ],
   "source": [
    "print(avg_pageviews_no_nan_genes)"
   ]
  },
  {
   "cell_type": "code",
   "execution_count": 52,
   "metadata": {},
   "outputs": [
    {
     "ename": "ModuleNotFoundError",
     "evalue": "No module named 'seaborn'",
     "output_type": "error",
     "traceback": [
      "\u001b[1;31m---------------------------------------------------------------------------\u001b[0m",
      "\u001b[1;31mModuleNotFoundError\u001b[0m                       Traceback (most recent call last)",
      "\u001b[1;32m<ipython-input-52-9b944be1058c>\u001b[0m in \u001b[0;36m<module>\u001b[1;34m\u001b[0m\n\u001b[1;32m----> 1\u001b[1;33m \u001b[1;32mimport\u001b[0m \u001b[0mseaborn\u001b[0m \u001b[1;32mas\u001b[0m \u001b[0msns\u001b[0m\u001b[1;33m\u001b[0m\u001b[1;33m\u001b[0m\u001b[0m\n\u001b[0m\u001b[0;32m      2\u001b[0m \u001b[1;32mimport\u001b[0m \u001b[0mmatplotlib\u001b[0m\u001b[1;33m.\u001b[0m\u001b[0mpyplot\u001b[0m \u001b[1;32mas\u001b[0m \u001b[0mplt\u001b[0m\u001b[1;33m\u001b[0m\u001b[1;33m\u001b[0m\u001b[0m\n\u001b[0;32m      3\u001b[0m \u001b[1;32mimport\u001b[0m \u001b[0mmatplotlib\u001b[0m\u001b[1;33m.\u001b[0m\u001b[0mdates\u001b[0m \u001b[1;32mas\u001b[0m \u001b[0mmdates\u001b[0m\u001b[1;33m\u001b[0m\u001b[1;33m\u001b[0m\u001b[0m\n\u001b[0;32m      4\u001b[0m \u001b[1;33m\u001b[0m\u001b[0m\n\u001b[0;32m      5\u001b[0m \u001b[1;32mfrom\u001b[0m \u001b[0mmatplotlib\u001b[0m\u001b[1;33m.\u001b[0m\u001b[0mpyplot\u001b[0m \u001b[1;32mimport\u001b[0m \u001b[0mfigure\u001b[0m\u001b[1;33m\u001b[0m\u001b[1;33m\u001b[0m\u001b[0m\n",
      "\u001b[1;31mModuleNotFoundError\u001b[0m: No module named 'seaborn'"
     ]
    }
   ],
   "source": [
    "import seaborn as sns\n",
    "import matplotlib.pyplot as plt\n",
    "import matplotlib.dates as mdates\n",
    "\n",
    "from matplotlib.pyplot import figure"
   ]
  },
  {
   "cell_type": "code",
   "execution_count": null,
   "metadata": {},
   "outputs": [],
   "source": [
    "figure(figsize=(12, 10), dpi=150)\n",
    "plt.rcParams['figure.figsize'] = [12, 10]\n",
    "\n",
    "sns.set(font_scale = 2)"
   ]
  },
  {
   "cell_type": "code",
   "execution_count": null,
   "metadata": {},
   "outputs": [],
   "source": [
    "\n",
    "fig, ax = plt.subplots()\n",
    "sns.lineplot(data=gw_pv_summary, x='Date', y='Average Pageviews (All Pages)', ax=ax)\n",
    "\n",
    "# assign locator and formatter for the xaxis ticks.\n",
    "ax.xaxis.set_major_locator(mdates.AutoDateLocator())\n",
    "ax.xaxis.set_major_formatter(mdates.DateFormatter('%Y.%m.%d'))\n",
    "\n",
    "# put the labels at 45deg since they tend to be too long\n",
    "fig.autofmt_xdate()\n",
    "plt.show()"
   ]
  },
  {
   "cell_type": "code",
   "execution_count": null,
   "metadata": {},
   "outputs": [],
   "source": [
    "figure(figsize=(12, 10), dpi=150)\n",
    "plt.rcParams['figure.figsize'] = [12, 10]\n",
    "\n",
    "sns.set(font_scale = 2)\n",
    "\n",
    "fig, ax = plt.subplots()\n",
    "sns.lineplot(data=gw_pv_summary, x='Date', y='Average Pageviews (NaN is 0)', ax=ax)\n",
    "\n",
    "# assign locator and formatter for the xaxis ticks.\n",
    "ax.xaxis.set_major_locator(mdates.AutoDateLocator())\n",
    "ax.xaxis.set_major_formatter(mdates.DateFormatter('%Y.%m.%d'))\n",
    "\n",
    "# put the labels at 45deg since they tend to be too long\n",
    "fig.autofmt_xdate()\n",
    "plt.show()"
   ]
  },
  {
   "cell_type": "code",
   "execution_count": null,
   "metadata": {},
   "outputs": [],
   "source": [
    "figure(figsize=(12, 10), dpi=150)\n",
    "plt.rcParams['figure.figsize'] = [12, 10]\n",
    "\n",
    "sns.set(font_scale = 2)\n",
    "\n",
    "fig, ax = plt.subplots()\n",
    "sns.lineplot(data=gw_pv_summary, x='Date', y='Average Pageviews (No Genes with NaN)', ax=ax)\n",
    "\n",
    "# assign locator and formatter for the xaxis ticks.\n",
    "ax.xaxis.set_major_locator(mdates.AutoDateLocator())\n",
    "ax.xaxis.set_major_formatter(mdates.DateFormatter('%Y.%m.%d'))\n",
    "\n",
    "# put the labels at 45deg since they tend to be too long\n",
    "fig.autofmt_xdate()\n",
    "plt.show()"
   ]
  },
  {
   "cell_type": "code",
   "execution_count": null,
   "metadata": {},
   "outputs": [],
   "source": []
  },
  {
   "cell_type": "code",
   "execution_count": null,
   "metadata": {},
   "outputs": [],
   "source": []
  },
  {
   "cell_type": "code",
   "execution_count": 53,
   "metadata": {},
   "outputs": [],
   "source": [
    "gw_gene_total_pvs = pd.DataFrame(columns=[\"Gene Name\", \"Total Pageviews\"])"
   ]
  },
  {
   "cell_type": "code",
   "execution_count": 54,
   "metadata": {},
   "outputs": [],
   "source": [
    "gw_gene_total_pvs[\"Gene Name\"] = gw_pageviews[\"wikipedia\"]"
   ]
  },
  {
   "cell_type": "code",
   "execution_count": 55,
   "metadata": {},
   "outputs": [],
   "source": [
    "gw_gene_total_pvs[\"Total Pageviews\"] = gw_pageviews.drop([\"wikipedia\"], axis=1).sum(axis=1)"
   ]
  },
  {
   "cell_type": "code",
   "execution_count": 56,
   "metadata": {},
   "outputs": [],
   "source": [
    "gw_gene_total_pvs = gw_gene_total_pvs.sort_values(by=\"Total Pageviews\")"
   ]
  },
  {
   "cell_type": "code",
   "execution_count": 57,
   "metadata": {},
   "outputs": [
    {
     "data": {
      "text/html": [
       "<div>\n",
       "<style scoped>\n",
       "    .dataframe tbody tr th:only-of-type {\n",
       "        vertical-align: middle;\n",
       "    }\n",
       "\n",
       "    .dataframe tbody tr th {\n",
       "        vertical-align: top;\n",
       "    }\n",
       "\n",
       "    .dataframe thead th {\n",
       "        text-align: right;\n",
       "    }\n",
       "</style>\n",
       "<table border=\"1\" class=\"dataframe\">\n",
       "  <thead>\n",
       "    <tr style=\"text-align: right;\">\n",
       "      <th></th>\n",
       "      <th>Gene Name</th>\n",
       "      <th>Total Pageviews</th>\n",
       "    </tr>\n",
       "  </thead>\n",
       "  <tbody>\n",
       "    <tr>\n",
       "      <th>67</th>\n",
       "      <td>Melanocortin_2_receptor_accessory_protein</td>\n",
       "      <td>380.0</td>\n",
       "    </tr>\n",
       "    <tr>\n",
       "      <th>122</th>\n",
       "      <td>Zinc_transporter_ZIP12</td>\n",
       "      <td>797.0</td>\n",
       "    </tr>\n",
       "    <tr>\n",
       "      <th>1</th>\n",
       "      <td>AGTPBP1_(gene)</td>\n",
       "      <td>1377.0</td>\n",
       "    </tr>\n",
       "    <tr>\n",
       "      <th>50</th>\n",
       "      <td>KCNE5</td>\n",
       "      <td>1945.0</td>\n",
       "    </tr>\n",
       "    <tr>\n",
       "      <th>106</th>\n",
       "      <td>Surfactant_protein_A2</td>\n",
       "      <td>2479.0</td>\n",
       "    </tr>\n",
       "  </tbody>\n",
       "</table>\n",
       "</div>"
      ],
      "text/plain": [
       "                                     Gene Name  Total Pageviews\n",
       "67   Melanocortin_2_receptor_accessory_protein            380.0\n",
       "122                     Zinc_transporter_ZIP12            797.0\n",
       "1                               AGTPBP1_(gene)           1377.0\n",
       "50                                       KCNE5           1945.0\n",
       "106                      Surfactant_protein_A2           2479.0"
      ]
     },
     "execution_count": 57,
     "metadata": {},
     "output_type": "execute_result"
    }
   ],
   "source": [
    "gw_gene_total_pvs.head()"
   ]
  },
  {
   "cell_type": "code",
   "execution_count": 58,
   "metadata": {},
   "outputs": [
    {
     "data": {
      "text/html": [
       "<div>\n",
       "<style scoped>\n",
       "    .dataframe tbody tr th:only-of-type {\n",
       "        vertical-align: middle;\n",
       "    }\n",
       "\n",
       "    .dataframe tbody tr th {\n",
       "        vertical-align: top;\n",
       "    }\n",
       "\n",
       "    .dataframe thead th {\n",
       "        text-align: right;\n",
       "    }\n",
       "</style>\n",
       "<table border=\"1\" class=\"dataframe\">\n",
       "  <thead>\n",
       "    <tr style=\"text-align: right;\">\n",
       "      <th></th>\n",
       "      <th>Gene Name</th>\n",
       "      <th>Total Pageviews</th>\n",
       "    </tr>\n",
       "  </thead>\n",
       "  <tbody>\n",
       "    <tr>\n",
       "      <th>19</th>\n",
       "      <td>Collagen,_type_III,_alpha_1</td>\n",
       "      <td>149791.0</td>\n",
       "    </tr>\n",
       "    <tr>\n",
       "      <th>7</th>\n",
       "      <td>Binding_immunoglobulin_protein</td>\n",
       "      <td>156504.0</td>\n",
       "    </tr>\n",
       "    <tr>\n",
       "      <th>27</th>\n",
       "      <td>Endothelial_NOS</td>\n",
       "      <td>200146.0</td>\n",
       "    </tr>\n",
       "    <tr>\n",
       "      <th>33</th>\n",
       "      <td>HFE_(gene)</td>\n",
       "      <td>286599.0</td>\n",
       "    </tr>\n",
       "    <tr>\n",
       "      <th>5</th>\n",
       "      <td>Atrial_natriuretic_peptide</td>\n",
       "      <td>1388234.0</td>\n",
       "    </tr>\n",
       "  </tbody>\n",
       "</table>\n",
       "</div>"
      ],
      "text/plain": [
       "                         Gene Name  Total Pageviews\n",
       "19     Collagen,_type_III,_alpha_1         149791.0\n",
       "7   Binding_immunoglobulin_protein         156504.0\n",
       "27                 Endothelial_NOS         200146.0\n",
       "33                      HFE_(gene)         286599.0\n",
       "5       Atrial_natriuretic_peptide        1388234.0"
      ]
     },
     "execution_count": 58,
     "metadata": {},
     "output_type": "execute_result"
    }
   ],
   "source": [
    "gw_gene_total_pvs.tail()"
   ]
  },
  {
   "cell_type": "code",
   "execution_count": 59,
   "metadata": {},
   "outputs": [],
   "source": [
    "filename = \"gene_wiki_views.tsv\""
   ]
  },
  {
   "cell_type": "markdown",
   "metadata": {},
   "source": [
    "### Average pageviews before and after"
   ]
  },
  {
   "cell_type": "code",
   "execution_count": 60,
   "metadata": {},
   "outputs": [],
   "source": [
    "gw_pageviews_raw = pd.read_csv(filename, sep=\"\\t\").drop(labels=[\"Unnamed: 0\"], axis=1)"
   ]
  },
  {
   "cell_type": "code",
   "execution_count": 61,
   "metadata": {},
   "outputs": [
    {
     "data": {
      "text/html": [
       "<div>\n",
       "<style scoped>\n",
       "    .dataframe tbody tr th:only-of-type {\n",
       "        vertical-align: middle;\n",
       "    }\n",
       "\n",
       "    .dataframe tbody tr th {\n",
       "        vertical-align: top;\n",
       "    }\n",
       "\n",
       "    .dataframe thead th {\n",
       "        text-align: right;\n",
       "    }\n",
       "</style>\n",
       "<table border=\"1\" class=\"dataframe\">\n",
       "  <thead>\n",
       "    <tr style=\"text-align: right;\">\n",
       "      <th></th>\n",
       "      <th>title</th>\n",
       "      <th>views</th>\n",
       "      <th>granularity</th>\n",
       "      <th>timestamp</th>\n",
       "      <th>access</th>\n",
       "      <th>agent</th>\n",
       "    </tr>\n",
       "  </thead>\n",
       "  <tbody>\n",
       "    <tr>\n",
       "      <th>0</th>\n",
       "      <td>Surfactant_protein_A1</td>\n",
       "      <td>146</td>\n",
       "      <td>monthly</td>\n",
       "      <td>2017090100</td>\n",
       "      <td>all-access</td>\n",
       "      <td>user</td>\n",
       "    </tr>\n",
       "    <tr>\n",
       "      <th>1</th>\n",
       "      <td>Surfactant_protein_A1</td>\n",
       "      <td>125</td>\n",
       "      <td>monthly</td>\n",
       "      <td>2017100100</td>\n",
       "      <td>all-access</td>\n",
       "      <td>user</td>\n",
       "    </tr>\n",
       "    <tr>\n",
       "      <th>2</th>\n",
       "      <td>Surfactant_protein_A1</td>\n",
       "      <td>132</td>\n",
       "      <td>monthly</td>\n",
       "      <td>2017110100</td>\n",
       "      <td>all-access</td>\n",
       "      <td>user</td>\n",
       "    </tr>\n",
       "    <tr>\n",
       "      <th>3</th>\n",
       "      <td>Surfactant_protein_A1</td>\n",
       "      <td>132</td>\n",
       "      <td>monthly</td>\n",
       "      <td>2017120100</td>\n",
       "      <td>all-access</td>\n",
       "      <td>user</td>\n",
       "    </tr>\n",
       "    <tr>\n",
       "      <th>4</th>\n",
       "      <td>Surfactant_protein_A1</td>\n",
       "      <td>127</td>\n",
       "      <td>monthly</td>\n",
       "      <td>2018010100</td>\n",
       "      <td>all-access</td>\n",
       "      <td>user</td>\n",
       "    </tr>\n",
       "  </tbody>\n",
       "</table>\n",
       "</div>"
      ],
      "text/plain": [
       "                   title  views granularity   timestamp      access agent\n",
       "0  Surfactant_protein_A1    146     monthly  2017090100  all-access  user\n",
       "1  Surfactant_protein_A1    125     monthly  2017100100  all-access  user\n",
       "2  Surfactant_protein_A1    132     monthly  2017110100  all-access  user\n",
       "3  Surfactant_protein_A1    132     monthly  2017120100  all-access  user\n",
       "4  Surfactant_protein_A1    127     monthly  2018010100  all-access  user"
      ]
     },
     "execution_count": 61,
     "metadata": {},
     "output_type": "execute_result"
    }
   ],
   "source": [
    "gw_pageviews_raw.head()"
   ]
  },
  {
   "cell_type": "code",
   "execution_count": 88,
   "metadata": {},
   "outputs": [
    {
     "name": "stdout",
     "output_type": "stream",
     "text": [
      "8971\n",
      "438\n",
      "     Batch                                     Gene Wiki Page  \\\n",
      "2161     1                http://en.wikipedia.org/wiki/ALOX15   \n",
      "2160     1                http://en.wikipedia.org/wiki/ALOX15   \n",
      "2159     1                http://en.wikipedia.org/wiki/ALOX15   \n",
      "2158     1                http://en.wikipedia.org/wiki/ALOX15   \n",
      "1474     4  http://en.wikipedia.org/wiki/Atrial_natriureti...   \n",
      "\n",
      "                                                 status  \\\n",
      "2161  http://www.sciencedirect.com/science/article/p...   \n",
      "2160  http://www.sciencedirect.com/science/article/p...   \n",
      "2159  http://www.sciencedirect.com/science/article/p...   \n",
      "2158  http://www.sciencedirect.com/science/article/p...   \n",
      "1474  http://www.sciencedirect.com/science/article/p...   \n",
      "\n",
      "     Wikipedia update period                       title  views granularity  \\\n",
      "2161              2015-06-30                      ALOX15    399     monthly   \n",
      "2160              2015-06-30                      ALOX15    436     monthly   \n",
      "2159              2015-06-30                      ALOX15    333     monthly   \n",
      "2158              2015-06-30                      ALOX15    343     monthly   \n",
      "1474              2015-06-30  Atrial_natriuretic_peptide  22504     monthly   \n",
      "\n",
      "      timestamp  \n",
      "2161 2016-04-01  \n",
      "2160 2016-03-01  \n",
      "2159 2016-02-01  \n",
      "2158 2016-01-01  \n",
      "1474 2016-01-01  \n",
      "average monthly pvs 6 months before update:  370.3719806763285\n",
      "average monthly pvs 6 months after update:  697.796803652968\n"
     ]
    }
   ],
   "source": [
    "from datetime import timedelta\n",
    "\n",
    "basic_info = pd.read_csv('basic_info.tsv',delimiter = '\\t', header=0, index_col=0)\n",
    "basic_info['Wikipedia update period'] = basic_info['Wikipedia update period'].astype(str)\n",
    "basic_info['title'] = basic_info['Gene Wiki Page'].str.replace('https','http').str.replace('http://en.wikipedia.org/wiki/','')\n",
    "basic_pvs = basic_info.merge(gw_pageviews_raw,on='title',how='right')\n",
    "basic_pvs['timestamp'] = pd.to_datetime(basic_pvs['timestamp'], format='%Y%m%d00')\n",
    "basic_pvs['Wikipedia update period'] = pd.to_datetime(basic_pvs['Wikipedia update period'], format='%Y%m%d')\n",
    "basic_pvs.drop(['access','agent'],inplace=True,axis=1)\n",
    "\n",
    "#### Conditions to keep page views, 6,7,8 months prior to update and 6,7,8 months after an update\n",
    "prior_pvs = basic_pvs.loc[((basic_pvs['timestamp']<basic_pvs['Wikipedia update period']-timedelta(days = 177))&\n",
    "                          (basic_pvs['timestamp']>basic_pvs['Wikipedia update period']-timedelta(days = 280)))].copy()\n",
    "prior_pvs.sort_values('Gene Wiki Page', ascending = True, inplace = True)\n",
    "\n",
    "post_pvs = basic_pvs.loc[((basic_pvs['timestamp']>basic_pvs['Wikipedia update period']+timedelta(days = 177))&\n",
    "                          (basic_pvs['timestamp']<basic_pvs['Wikipedia update period']+timedelta(days = 280)))].copy()\n",
    "post_pvs.sort_values('Gene Wiki Page', ascending = True, inplace = True)\n",
    "print(len(basic_pvs))\n",
    "print(len(post_pvs))\n",
    "print(post_pvs.head(n=5))\n",
    "print(\"average monthly pvs 6 months before update: \",prior_pvs['views'].mean())\n",
    "print(\"average monthly pvs 6 months after update: \",post_pvs['views'].mean())"
   ]
  },
  {
   "cell_type": "code",
   "execution_count": 66,
   "metadata": {},
   "outputs": [
    {
     "name": "stdout",
     "output_type": "stream",
     "text": [
      "                   title  views granularity   timestamp      access agent\n",
      "0  Surfactant_protein_A1    146     monthly  2017090100  all-access  user\n",
      "1  Surfactant_protein_A1    125     monthly  2017100100  all-access  user\n"
     ]
    }
   ],
   "source": [
    "print(gw_pageviews_raw.head(n=2))"
   ]
  },
  {
   "cell_type": "markdown",
   "metadata": {},
   "source": [
    "## WikiData Added Statements"
   ]
  },
  {
   "cell_type": "code",
   "execution_count": 89,
   "metadata": {},
   "outputs": [],
   "source": [
    "filename = \"wd_statements_added.tsv\""
   ]
  },
  {
   "cell_type": "code",
   "execution_count": 90,
   "metadata": {},
   "outputs": [],
   "source": [
    "wd_statements_info = pd.read_csv(filename, sep=\"\\t\").drop(labels=[\"Unnamed: 0\"], axis=1)"
   ]
  },
  {
   "cell_type": "code",
   "execution_count": 91,
   "metadata": {},
   "outputs": [
    {
     "data": {
      "text/html": [
       "<div>\n",
       "<style scoped>\n",
       "    .dataframe tbody tr th:only-of-type {\n",
       "        vertical-align: middle;\n",
       "    }\n",
       "\n",
       "    .dataframe tbody tr th {\n",
       "        vertical-align: top;\n",
       "    }\n",
       "\n",
       "    .dataframe thead th {\n",
       "        text-align: right;\n",
       "    }\n",
       "</style>\n",
       "<table border=\"1\" class=\"dataframe\">\n",
       "  <thead>\n",
       "    <tr style=\"text-align: right;\">\n",
       "      <th></th>\n",
       "      <th>subjectQID</th>\n",
       "      <th>predicatePID</th>\n",
       "      <th>objectQID</th>\n",
       "      <th>subject</th>\n",
       "      <th>object</th>\n",
       "    </tr>\n",
       "  </thead>\n",
       "  <tbody>\n",
       "    <tr>\n",
       "      <th>0</th>\n",
       "      <td>Q57055</td>\n",
       "      <td>P769</td>\n",
       "      <td>Q410412</td>\n",
       "      <td>paracetamol</td>\n",
       "      <td>carbamazepin</td>\n",
       "    </tr>\n",
       "    <tr>\n",
       "      <th>1</th>\n",
       "      <td>Q57055</td>\n",
       "      <td>P769</td>\n",
       "      <td>Q177094</td>\n",
       "      <td>paracetamol</td>\n",
       "      <td>imatinib</td>\n",
       "    </tr>\n",
       "    <tr>\n",
       "      <th>2</th>\n",
       "      <td>Q57055</td>\n",
       "      <td>P769</td>\n",
       "      <td>Q423364</td>\n",
       "      <td>paracetamol</td>\n",
       "      <td>propranolol</td>\n",
       "    </tr>\n",
       "    <tr>\n",
       "      <th>3</th>\n",
       "      <td>Q57055</td>\n",
       "      <td>P769</td>\n",
       "      <td>Q410400</td>\n",
       "      <td>paracetamol</td>\n",
       "      <td>phenytoin</td>\n",
       "    </tr>\n",
       "    <tr>\n",
       "      <th>4</th>\n",
       "      <td>Q57055</td>\n",
       "      <td>P769</td>\n",
       "      <td>Q422652</td>\n",
       "      <td>paracetamol</td>\n",
       "      <td>rifampicin</td>\n",
       "    </tr>\n",
       "  </tbody>\n",
       "</table>\n",
       "</div>"
      ],
      "text/plain": [
       "  subjectQID predicatePID objectQID      subject        object\n",
       "0     Q57055         P769   Q410412  paracetamol  carbamazepin\n",
       "1     Q57055         P769   Q177094  paracetamol      imatinib\n",
       "2     Q57055         P769   Q423364  paracetamol   propranolol\n",
       "3     Q57055         P769   Q410400  paracetamol     phenytoin\n",
       "4     Q57055         P769   Q422652  paracetamol    rifampicin"
      ]
     },
     "execution_count": 91,
     "metadata": {},
     "output_type": "execute_result"
    }
   ],
   "source": [
    "wd_statements_info.head()"
   ]
  },
  {
   "cell_type": "code",
   "execution_count": 92,
   "metadata": {},
   "outputs": [
    {
     "data": {
      "text/plain": [
       "(282, 5)"
      ]
     },
     "execution_count": 92,
     "metadata": {},
     "output_type": "execute_result"
    }
   ],
   "source": [
    "#Note: Previously we had more statements, 469 before vs 282 now\n",
    "## The query does not appear to be working properly and is giving incorrect results\n",
    "\n",
    "wd_statements_info.shape"
   ]
  },
  {
   "cell_type": "code",
   "execution_count": null,
   "metadata": {},
   "outputs": [],
   "source": []
  },
  {
   "cell_type": "markdown",
   "metadata": {},
   "source": [
    "## Citations"
   ]
  },
  {
   "cell_type": "code",
   "execution_count": 26,
   "metadata": {},
   "outputs": [],
   "source": [
    "filename = \"article_citations.tsv\""
   ]
  },
  {
   "cell_type": "code",
   "execution_count": 27,
   "metadata": {},
   "outputs": [],
   "source": [
    "citations = pd.read_csv(filename, sep=\"\\t\").drop(labels=[\"Unnamed: 0\"], axis=1)"
   ]
  },
  {
   "cell_type": "code",
   "execution_count": 28,
   "metadata": {},
   "outputs": [
    {
     "data": {
      "text/html": [
       "<div>\n",
       "<style scoped>\n",
       "    .dataframe tbody tr th:only-of-type {\n",
       "        vertical-align: middle;\n",
       "    }\n",
       "\n",
       "    .dataframe tbody tr th {\n",
       "        vertical-align: top;\n",
       "    }\n",
       "\n",
       "    .dataframe thead th {\n",
       "        text-align: right;\n",
       "    }\n",
       "</style>\n",
       "<table border=\"1\" class=\"dataframe\">\n",
       "  <thead>\n",
       "    <tr style=\"text-align: right;\">\n",
       "      <th></th>\n",
       "      <th>status</th>\n",
       "      <th>Pubmed</th>\n",
       "      <th>PMCID</th>\n",
       "      <th>uri</th>\n",
       "      <th>QID</th>\n",
       "      <th>label</th>\n",
       "      <th>Total Citations from google scholar 2021.12.03</th>\n",
       "    </tr>\n",
       "  </thead>\n",
       "  <tbody>\n",
       "    <tr>\n",
       "      <th>0</th>\n",
       "      <td>https://www.sciencedirect.com/science/article/...</td>\n",
       "      <td>https://pubmed.ncbi.nlm.nih.gov/34637898/</td>\n",
       "      <td>NaN</td>\n",
       "      <td>https://www.wikidata.org/wiki/Q109911528</td>\n",
       "      <td>Q109911528</td>\n",
       "      <td>The AGTPBP1 gene in neurobiology.</td>\n",
       "      <td>0.0</td>\n",
       "    </tr>\n",
       "    <tr>\n",
       "      <th>1</th>\n",
       "      <td>http://www.sciencedirect.com/science/article/p...</td>\n",
       "      <td>http://www.ncbi.nlm.nih.gov/pubmed/23069847</td>\n",
       "      <td>3570704</td>\n",
       "      <td>https://www.wikidata.org/wiki/Q24621202</td>\n",
       "      <td>Q24621202</td>\n",
       "      <td>Genetic complexity of the human surfactant-ass...</td>\n",
       "      <td>25.0</td>\n",
       "    </tr>\n",
       "    <tr>\n",
       "      <th>2</th>\n",
       "      <td>http://www.sciencedirect.com/science/article/p...</td>\n",
       "      <td>http://www.ncbi.nlm.nih.gov/pubmed/23246696</td>\n",
       "      <td>NIHMS ID 909445</td>\n",
       "      <td>https://www.wikidata.org/wiki/Q34318174</td>\n",
       "      <td>Q34318174</td>\n",
       "      <td>Regulation of the MIR155 host gene in physiolo...</td>\n",
       "      <td>378.0</td>\n",
       "    </tr>\n",
       "    <tr>\n",
       "      <th>3</th>\n",
       "      <td>http://www.sciencedirect.com/science/article/p...</td>\n",
       "      <td>http://www.ncbi.nlm.nih.gov/pubmed/23701967</td>\n",
       "      <td>3881560</td>\n",
       "      <td>https://www.wikidata.org/wiki/Q28291292</td>\n",
       "      <td>Q28291292</td>\n",
       "      <td>Soluble epoxide hydrolase: gene structure, exp...</td>\n",
       "      <td>165.0</td>\n",
       "    </tr>\n",
       "    <tr>\n",
       "      <th>4</th>\n",
       "      <td>http://www.sciencedirect.com/science/article/p...</td>\n",
       "      <td>http://www.ncbi.nlm.nih.gov/pubmed/24013086</td>\n",
       "      <td>3733540</td>\n",
       "      <td>https://www.wikidata.org/wiki/Q34369324</td>\n",
       "      <td>Q34369324</td>\n",
       "      <td>Structure and function of the DNA ligases enco...</td>\n",
       "      <td>46.0</td>\n",
       "    </tr>\n",
       "  </tbody>\n",
       "</table>\n",
       "</div>"
      ],
      "text/plain": [
       "                                              status  \\\n",
       "0  https://www.sciencedirect.com/science/article/...   \n",
       "1  http://www.sciencedirect.com/science/article/p...   \n",
       "2  http://www.sciencedirect.com/science/article/p...   \n",
       "3  http://www.sciencedirect.com/science/article/p...   \n",
       "4  http://www.sciencedirect.com/science/article/p...   \n",
       "\n",
       "                                        Pubmed            PMCID  \\\n",
       "0    https://pubmed.ncbi.nlm.nih.gov/34637898/              NaN   \n",
       "1  http://www.ncbi.nlm.nih.gov/pubmed/23069847          3570704   \n",
       "2  http://www.ncbi.nlm.nih.gov/pubmed/23246696  NIHMS ID 909445   \n",
       "3  http://www.ncbi.nlm.nih.gov/pubmed/23701967          3881560   \n",
       "4  http://www.ncbi.nlm.nih.gov/pubmed/24013086          3733540   \n",
       "\n",
       "                                        uri         QID  \\\n",
       "0  https://www.wikidata.org/wiki/Q109911528  Q109911528   \n",
       "1   https://www.wikidata.org/wiki/Q24621202   Q24621202   \n",
       "2   https://www.wikidata.org/wiki/Q34318174   Q34318174   \n",
       "3   https://www.wikidata.org/wiki/Q28291292   Q28291292   \n",
       "4   https://www.wikidata.org/wiki/Q34369324   Q34369324   \n",
       "\n",
       "                                               label  \\\n",
       "0                  The AGTPBP1 gene in neurobiology.   \n",
       "1  Genetic complexity of the human surfactant-ass...   \n",
       "2  Regulation of the MIR155 host gene in physiolo...   \n",
       "3  Soluble epoxide hydrolase: gene structure, exp...   \n",
       "4  Structure and function of the DNA ligases enco...   \n",
       "\n",
       "   Total Citations from google scholar 2021.12.03  \n",
       "0                                             0.0  \n",
       "1                                            25.0  \n",
       "2                                           378.0  \n",
       "3                                           165.0  \n",
       "4                                            46.0  "
      ]
     },
     "execution_count": 28,
     "metadata": {},
     "output_type": "execute_result"
    }
   ],
   "source": [
    "citations.head()"
   ]
  },
  {
   "cell_type": "code",
   "execution_count": 29,
   "metadata": {},
   "outputs": [
    {
     "data": {
      "text/plain": [
       "(94, 7)"
      ]
     },
     "execution_count": 29,
     "metadata": {},
     "output_type": "execute_result"
    }
   ],
   "source": [
    "citations.shape"
   ]
  },
  {
   "cell_type": "code",
   "execution_count": 30,
   "metadata": {},
   "outputs": [
    {
     "data": {
      "image/png": "[encoded data removed]",
      "text/plain": [
       "<Figure size 432x288 with 1 Axes>"
      ]
     },
     "metadata": {
      "needs_background": "light"
     },
     "output_type": "display_data"
    }
   ],
   "source": [
    "citation_hist = citations[[\"Total Citations from google scholar 2021.12.03\"]].hist(bins=30)"
   ]
  },
  {
   "cell_type": "code",
   "execution_count": 31,
   "metadata": {},
   "outputs": [
    {
     "data": {
      "text/html": [
       "<div>\n",
       "<style scoped>\n",
       "    .dataframe tbody tr th:only-of-type {\n",
       "        vertical-align: middle;\n",
       "    }\n",
       "\n",
       "    .dataframe tbody tr th {\n",
       "        vertical-align: top;\n",
       "    }\n",
       "\n",
       "    .dataframe thead th {\n",
       "        text-align: right;\n",
       "    }\n",
       "</style>\n",
       "<table border=\"1\" class=\"dataframe\">\n",
       "  <thead>\n",
       "    <tr style=\"text-align: right;\">\n",
       "      <th></th>\n",
       "      <th>status</th>\n",
       "      <th>Pubmed</th>\n",
       "      <th>PMCID</th>\n",
       "      <th>uri</th>\n",
       "      <th>QID</th>\n",
       "      <th>label</th>\n",
       "      <th>Total Citations from google scholar 2021.12.03</th>\n",
       "    </tr>\n",
       "  </thead>\n",
       "  <tbody>\n",
       "    <tr>\n",
       "      <th>0</th>\n",
       "      <td>https://www.sciencedirect.com/science/article/...</td>\n",
       "      <td>https://pubmed.ncbi.nlm.nih.gov/34637898/</td>\n",
       "      <td>NaN</td>\n",
       "      <td>https://www.wikidata.org/wiki/Q109911528</td>\n",
       "      <td>Q109911528</td>\n",
       "      <td>The AGTPBP1 gene in neurobiology.</td>\n",
       "      <td>0.0</td>\n",
       "    </tr>\n",
       "    <tr>\n",
       "      <th>8</th>\n",
       "      <td>https://www.sciencedirect.com/science/article/...</td>\n",
       "      <td>https://pubmed.ncbi.nlm.nih.gov/34673206/</td>\n",
       "      <td>NaN</td>\n",
       "      <td>https://www.wikidata.org/wiki/Q109615004</td>\n",
       "      <td>Q109615004</td>\n",
       "      <td>GABRB2, a key player in neuropsychiatric disor...</td>\n",
       "      <td>0.0</td>\n",
       "    </tr>\n",
       "    <tr>\n",
       "      <th>91</th>\n",
       "      <td>https://www.sciencedirect.com/science/article/...</td>\n",
       "      <td>https://pubmed.ncbi.nlm.nih.gov/34252531/</td>\n",
       "      <td>8318780</td>\n",
       "      <td>http://www.wikidata.org/entity/Q108806643</td>\n",
       "      <td>Q108806643</td>\n",
       "      <td>A role for zinc transporter gene SLC39A12 in t...</td>\n",
       "      <td>0.0</td>\n",
       "    </tr>\n",
       "    <tr>\n",
       "      <th>87</th>\n",
       "      <td>https://www.sciencedirect.com/science/article/...</td>\n",
       "      <td>https://pubmed.ncbi.nlm.nih.gov/32679290/</td>\n",
       "      <td>8459444</td>\n",
       "      <td>http://www.wikidata.org/entity/Q97559519</td>\n",
       "      <td>Q97559519</td>\n",
       "      <td>Emerging roles of melanocortin receptor access...</td>\n",
       "      <td>1.0</td>\n",
       "    </tr>\n",
       "    <tr>\n",
       "      <th>88</th>\n",
       "      <td>https://www.sciencedirect.com/science/article/...</td>\n",
       "      <td>https://pubmed.ncbi.nlm.nih.gov/33189799/</td>\n",
       "      <td>7803032</td>\n",
       "      <td>http://www.wikidata.org/entity/Q102060922</td>\n",
       "      <td>Q102060922</td>\n",
       "      <td>KALRN: a central regulator of synaptic functio...</td>\n",
       "      <td>2.0</td>\n",
       "    </tr>\n",
       "  </tbody>\n",
       "</table>\n",
       "</div>"
      ],
      "text/plain": [
       "                                               status  \\\n",
       "0   https://www.sciencedirect.com/science/article/...   \n",
       "8   https://www.sciencedirect.com/science/article/...   \n",
       "91  https://www.sciencedirect.com/science/article/...   \n",
       "87  https://www.sciencedirect.com/science/article/...   \n",
       "88  https://www.sciencedirect.com/science/article/...   \n",
       "\n",
       "                                       Pubmed    PMCID  \\\n",
       "0   https://pubmed.ncbi.nlm.nih.gov/34637898/      NaN   \n",
       "8   https://pubmed.ncbi.nlm.nih.gov/34673206/      NaN   \n",
       "91  https://pubmed.ncbi.nlm.nih.gov/34252531/  8318780   \n",
       "87  https://pubmed.ncbi.nlm.nih.gov/32679290/  8459444   \n",
       "88  https://pubmed.ncbi.nlm.nih.gov/33189799/  7803032   \n",
       "\n",
       "                                          uri         QID  \\\n",
       "0    https://www.wikidata.org/wiki/Q109911528  Q109911528   \n",
       "8    https://www.wikidata.org/wiki/Q109615004  Q109615004   \n",
       "91  http://www.wikidata.org/entity/Q108806643  Q108806643   \n",
       "87   http://www.wikidata.org/entity/Q97559519   Q97559519   \n",
       "88  http://www.wikidata.org/entity/Q102060922  Q102060922   \n",
       "\n",
       "                                                label  \\\n",
       "0                   The AGTPBP1 gene in neurobiology.   \n",
       "8   GABRB2, a key player in neuropsychiatric disor...   \n",
       "91  A role for zinc transporter gene SLC39A12 in t...   \n",
       "87  Emerging roles of melanocortin receptor access...   \n",
       "88  KALRN: a central regulator of synaptic functio...   \n",
       "\n",
       "    Total Citations from google scholar 2021.12.03  \n",
       "0                                              0.0  \n",
       "8                                              0.0  \n",
       "91                                             0.0  \n",
       "87                                             1.0  \n",
       "88                                             2.0  "
      ]
     },
     "execution_count": 31,
     "metadata": {},
     "output_type": "execute_result"
    }
   ],
   "source": [
    "citations.sort_values(by=\"Total Citations from google scholar 2021.12.03\").head()"
   ]
  },
  {
   "cell_type": "code",
   "execution_count": 32,
   "metadata": {},
   "outputs": [
    {
     "data": {
      "text/html": [
       "<div>\n",
       "<style scoped>\n",
       "    .dataframe tbody tr th:only-of-type {\n",
       "        vertical-align: middle;\n",
       "    }\n",
       "\n",
       "    .dataframe tbody tr th {\n",
       "        vertical-align: top;\n",
       "    }\n",
       "\n",
       "    .dataframe thead th {\n",
       "        text-align: right;\n",
       "    }\n",
       "</style>\n",
       "<table border=\"1\" class=\"dataframe\">\n",
       "  <thead>\n",
       "    <tr style=\"text-align: right;\">\n",
       "      <th></th>\n",
       "      <th>status</th>\n",
       "      <th>Pubmed</th>\n",
       "      <th>PMCID</th>\n",
       "      <th>uri</th>\n",
       "      <th>QID</th>\n",
       "      <th>label</th>\n",
       "      <th>Total Citations from google scholar 2021.12.03</th>\n",
       "    </tr>\n",
       "  </thead>\n",
       "  <tbody>\n",
       "    <tr>\n",
       "      <th>71</th>\n",
       "      <td>http://www.sciencedirect.com/science/article/p...</td>\n",
       "      <td>https://www.ncbi.nlm.nih.gov/pubmed/28237823</td>\n",
       "      <td>5391259</td>\n",
       "      <td>http://www.wikidata.org/entity/Q39151066</td>\n",
       "      <td>Q39151066</td>\n",
       "      <td>Krüppel-like factor 4 (KLF4): What we currentl...</td>\n",
       "      <td>232.0</td>\n",
       "    </tr>\n",
       "    <tr>\n",
       "      <th>51</th>\n",
       "      <td>http://www.sciencedirect.com/science/article/p...</td>\n",
       "      <td>http://www.ncbi.nlm.nih.gov/pubmed/26772908</td>\n",
       "      <td>4756657</td>\n",
       "      <td>http://www.wikidata.org/entity/Q28272095</td>\n",
       "      <td>Q28272095</td>\n",
       "      <td>Epithelial sodium channel (ENaC) family: Phylo...</td>\n",
       "      <td>269.0</td>\n",
       "    </tr>\n",
       "    <tr>\n",
       "      <th>2</th>\n",
       "      <td>http://www.sciencedirect.com/science/article/p...</td>\n",
       "      <td>http://www.ncbi.nlm.nih.gov/pubmed/23246696</td>\n",
       "      <td>NIHMS ID 909445</td>\n",
       "      <td>https://www.wikidata.org/wiki/Q34318174</td>\n",
       "      <td>Q34318174</td>\n",
       "      <td>Regulation of the MIR155 host gene in physiolo...</td>\n",
       "      <td>378.0</td>\n",
       "    </tr>\n",
       "    <tr>\n",
       "      <th>92</th>\n",
       "      <td>http://www.sciencedirect.com/science/article/p...</td>\n",
       "      <td>https://www.ncbi.nlm.nih.gov/pubmed/27771451</td>\n",
       "      <td>NIHMS: 964889</td>\n",
       "      <td>Reneged on obligation, not part of series anymore</td>\n",
       "      <td>NaN</td>\n",
       "      <td>NaN</td>\n",
       "      <td>NaN</td>\n",
       "    </tr>\n",
       "    <tr>\n",
       "      <th>93</th>\n",
       "      <td>https://www.sciencedirect.com/science/article/...</td>\n",
       "      <td>https://www.ncbi.nlm.nih.gov/pubmed/29704633</td>\n",
       "      <td>NaN</td>\n",
       "      <td>Reneged on obligation, not part of series anymore</td>\n",
       "      <td>NaN</td>\n",
       "      <td>NaN</td>\n",
       "      <td>NaN</td>\n",
       "    </tr>\n",
       "  </tbody>\n",
       "</table>\n",
       "</div>"
      ],
      "text/plain": [
       "                                               status  \\\n",
       "71  http://www.sciencedirect.com/science/article/p...   \n",
       "51  http://www.sciencedirect.com/science/article/p...   \n",
       "2   http://www.sciencedirect.com/science/article/p...   \n",
       "92  http://www.sciencedirect.com/science/article/p...   \n",
       "93  https://www.sciencedirect.com/science/article/...   \n",
       "\n",
       "                                          Pubmed            PMCID  \\\n",
       "71  https://www.ncbi.nlm.nih.gov/pubmed/28237823          5391259   \n",
       "51   http://www.ncbi.nlm.nih.gov/pubmed/26772908          4756657   \n",
       "2    http://www.ncbi.nlm.nih.gov/pubmed/23246696  NIHMS ID 909445   \n",
       "92  https://www.ncbi.nlm.nih.gov/pubmed/27771451    NIHMS: 964889   \n",
       "93  https://www.ncbi.nlm.nih.gov/pubmed/29704633              NaN   \n",
       "\n",
       "                                                  uri        QID  \\\n",
       "71           http://www.wikidata.org/entity/Q39151066  Q39151066   \n",
       "51           http://www.wikidata.org/entity/Q28272095  Q28272095   \n",
       "2             https://www.wikidata.org/wiki/Q34318174  Q34318174   \n",
       "92  Reneged on obligation, not part of series anymore        NaN   \n",
       "93  Reneged on obligation, not part of series anymore        NaN   \n",
       "\n",
       "                                                label  \\\n",
       "71  Krüppel-like factor 4 (KLF4): What we currentl...   \n",
       "51  Epithelial sodium channel (ENaC) family: Phylo...   \n",
       "2   Regulation of the MIR155 host gene in physiolo...   \n",
       "92                                                NaN   \n",
       "93                                                NaN   \n",
       "\n",
       "    Total Citations from google scholar 2021.12.03  \n",
       "71                                           232.0  \n",
       "51                                           269.0  \n",
       "2                                            378.0  \n",
       "92                                             NaN  \n",
       "93                                             NaN  "
      ]
     },
     "execution_count": 32,
     "metadata": {},
     "output_type": "execute_result"
    }
   ],
   "source": [
    "citations.sort_values(by=\"Total Citations from google scholar 2021.12.03\").tail()"
   ]
  },
  {
   "cell_type": "code",
   "execution_count": 34,
   "metadata": {},
   "outputs": [
    {
     "name": "stdout",
     "output_type": "stream",
     "text": [
      "6412.0\n"
     ]
    }
   ],
   "source": [
    "citation_total = citations['Total Citations from google scholar 2021.12.03'].loc[~citations['Total Citations from google scholar 2021.12.03'].isna()].sum()\n",
    "print(citation_total)"
   ]
  },
  {
   "cell_type": "code",
   "execution_count": null,
   "metadata": {},
   "outputs": [],
   "source": []
  }
 ],
 "metadata": {
  "kernelspec": {
   "display_name": "Python 3",
   "language": "python",
   "name": "python3"
  },
  "language_info": {
   "codemirror_mode": {
    "name": "ipython",
    "version": 3
   },
   "file_extension": ".py",
   "mimetype": "text/x-python",
   "name": "python",
   "nbconvert_exporter": "python",
   "pygments_lexer": "ipython3",
   "version": "3.8.5"
  }
 },
 "nbformat": 4,
 "nbformat_minor": 4
}
