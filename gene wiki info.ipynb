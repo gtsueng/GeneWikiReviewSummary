{
 "cells": [
  {
   "cell_type": "markdown",
   "metadata": {
    "collapsed": true
   },
   "source": [
    "# Pulling info from Wikimedia"
   ]
  },
  {
   "cell_type": "code",
   "execution_count": null,
   "metadata": {},
   "outputs": [],
   "source": [
    "import pandas\n",
    "from pandas import read_csv\n",
    "import json\n",
    "import requests\n",
    "import mwclient\n",
    "from mwclient import Site\n",
    "import time\n",
    "\n",
    "useragent = {\n",
    "    'User-Agent': 'Gene Wiki Review Impact (youremail@domain)'\n",
    "}\n",
    "\n",
    "site = Site('en.wikipedia.org', clients_useragent=useragent['User-Agent'])\n",
    "\n",
    "datapath = 'data/'\n",
    "exppath = 'results/'"
   ]
  },
  {
   "cell_type": "markdown",
   "metadata": {},
   "source": [
    "# Functions"
   ]
  },
  {
   "cell_type": "code",
   "execution_count": null,
   "metadata": {},
   "outputs": [],
   "source": [
    "###############################################################################\n",
    "## This module uses mwclient to pull page size and edit stats on wikipedia pages  \n",
    "## for each gene given a list of gene wikipedia titles\n",
    "###############################################################################\n",
    "def get_wiki_volume_info (site,titlelist):\n",
    "    print('obtaining wikipedia volume information')\n",
    "    pageinfo=[]\n",
    "    pagefails = []\n",
    "    for eachpage in titlelist:\n",
    "        tempdict={} #title, length/size, last_revised, last_revision_id\n",
    "        try:\n",
    "            checkitem = site.api('query', prop='info', titles=eachpage)\n",
    "            results1 = checkitem['query']['pages']\n",
    "            for item in results1:\n",
    "                base = str(item)\n",
    "                results2 = results1[base]\n",
    "                tempdict['title']=str(results2['title'])\n",
    "                tempdict['page_length']=int(results2['length'])\n",
    "                tempdict['last_touched']=str(results2['touched'])\n",
    "                tempdict['lastrevid']=str(results2['lastrevid'])\n",
    "                pageinfo.append(tempdict)               \n",
    "        except:\n",
    "            pagefails.append(pagetitle)\n",
    "            pass \n",
    "        time.sleep(0.5)\n",
    "    return(pageinfo,pagefails)"
   ]
  },
  {
   "cell_type": "code",
   "execution_count": null,
   "metadata": {},
   "outputs": [],
   "source": [
    "###############################################################################\n",
    "## This module uses pulls pageview data from the Media Wiki PageViews API\n",
    "## More on the API here: https://wikimedia.org/api/rest_v1/#/Pageviews%20data/\n",
    "## The module pulls in a parameter dictionary, and the list of wiki titles\n",
    "## Parameters include:\n",
    "## project: en.wikipedia.org, other wikimedia projects\n",
    "## access: all-access, desktop, mobile-app, mobile-web\n",
    "## agent: all-agents, user, spider, bot\n",
    "## granularity: daily, monthly\n",
    "###############################################################################\n",
    "def get_monthly_pvs(page_view_parameters, useragent, titlelist):\n",
    "    pginfo = []\n",
    "    pgfails = []\n",
    "    timestart = datetime.datetime.now().time()\n",
    "    print(timestart,'obtaining wikipedia pageview information')\n",
    "    pv_api_url = \"https://wikimedia.org/api/rest_v1/metrics/pageviews/per-article/en.wikipedia/\"\n",
    "    for eachtitle in titlelist:\n",
    "        try:\n",
    "            url = pv_api_url+pv_params['access']+pv_params['agent']+eachtitle+\"/\"+pv_params['granularity']+pv_params['start']+\"/\"+pv_params['end']\n",
    "            r = requests.get(url, headers=useragent)\n",
    "            items = r.json()\n",
    "            try:\n",
    "                for item in items[\"items\"]:\n",
    "                    tmpdict = {'title':item[\"article\"], 'views':int(item[\"views\"]), 'granularity':item['granularity'],\n",
    "                               'timestamp':item[\"timestamp\"],'access':item['access'],'agent':item['agent']}\n",
    "                    pginfo.append(tmpdict)\n",
    "            except:\n",
    "                tmpdict = {'title':title, 'views':-1, 'granularity':\"no data\",\n",
    "                               'timestamp':\"00000000\",'access':\"not data\",'agent':\"no data\"}\n",
    "                pginfo.append(tmpdict)            \n",
    "        except:\n",
    "            pgfails.append(eachtitle)\n",
    "        time.sleep(0.5)\n",
    "\n",
    "    pginfodf = pandas.DataFrame(pginfo)\n",
    "    \n",
    "    return(pginfodf, pgfails)    "
   ]
  },
  {
   "cell_type": "markdown",
   "metadata": {
    "collapsed": true
   },
   "source": [
    "# Pulling gene specific infor by Wikipedia titles"
   ]
  },
  {
   "cell_type": "code",
   "execution_count": null,
   "metadata": {},
   "outputs": [],
   "source": [
    "## Import the urls for the genes\n",
    "gene_wiki_info = read_csv(datapath+'GeneWikiReviewlist.tsv',delimiter='\\t', header=0)\n",
    "#print(gene_wiki_info.head(n=2))\n",
    "pagelist = gene_wiki_info['Gene Wiki Page'].loc[~gene_wiki_info['Gene Wiki Page'].isna()].tolist()\n",
    "titlelist = [x.replace(\" \",\"_\").replace(\"https://\",\"http://\").replace(\"http://en.wikipedia.org/wiki/\",\"\") for x in pagelist]\n",
    "print(titlelist[0])"
   ]
  },
  {
   "cell_type": "code",
   "execution_count": null,
   "metadata": {},
   "outputs": [],
   "source": [
    "## Get Wikipedia info for gene wiki articles\n",
    "pageinfo,pagefails = get_wiki_volume_info(titlelist)\n",
    "geneinfo = pandas.DataFrame(pageinfo)\n",
    "print(geneinfo.head(n=2))## Get Wikipedia info for genes\n",
    "pageinfo,pagefails = get_wiki_volume_info(site,titlelist)\n",
    "wikiinfo = pandas.DataFrame(pageinfo)\n",
    "print(wikiinfo.head(n=2))\n",
    "\n",
    "wikiinfo.to_csv(exppath+'gene_wiki_vol_info.tsv',sep='\\t',header=True)"
   ]
  },
  {
   "cell_type": "code",
   "execution_count": null,
   "metadata": {},
   "outputs": [],
   "source": [
    "#### Get Page views for each Gene Wiki Review wikipedia entry\n",
    "\n",
    "#pages = [\"Cyclin-dependent kinase 1\", \"Reelin\"] ## for unit test\n",
    "\n",
    "pv_params = {'project':'en.wikipedia',\n",
    "             'access':'all-access/',\n",
    "             'agent':'user/',\n",
    "             'granularity':'monthly/',\n",
    "             'start':'20130101',\n",
    "             'end':'20211115'}\n",
    "\n",
    "gene_monthly_pvs,pgfails = get_monthly_pvs(pv_params,useragent, titlelist)\n",
    "print(gene_monthly_pvs.head(n=2))\n",
    "\n",
    "gene_monthly_pvs.to_csv(exppath+'gene_wiki_views.tsv',sep='\\t',header=True)\n",
    "\n",
    "gene_monthly_views = pandas.pivot_table(gene_monthly_pvs[['timestamp','title','views']],\n",
    "                                        values='views',index='title',columns='timestamp')\n",
    "gene_pvs = gene_monthly_views.reset_index()\n",
    "gene_pvs.rename(columns={'title':'wikipedia'},inplace=True)\n",
    "#print(gene_pvs)\n",
    "gene_pvs.to_csv(exppath+'gw_pvs.tsv',sep='\\t',header=True)"
   ]
  },
  {
   "cell_type": "code",
   "execution_count": null,
   "metadata": {},
   "outputs": [],
   "source": [
    " "
   ]
  },
  {
   "cell_type": "markdown",
   "metadata": {},
   "source": [
    "# Pull all statements added for series via SPARQL queries"
   ]
  },
  {
   "cell_type": "markdown",
   "metadata": {},
   "source": [
    "Query Wikidata for P179 (part of series) of Q108807010 (Gene Wiki Review Series). Then identify statements that use any member of the query results as a reference"
   ]
  },
  {
   "cell_type": "code",
   "execution_count": null,
   "metadata": {},
   "outputs": [],
   "source": [
    "## Run the sparql query to retrieve all Articles in this series\n",
    "\n",
    "url = 'https://query.wikidata.org/sparql'\n",
    "query = \"\"\"\n",
    "SELECT ?item ?itemLabel \n",
    "WHERE \n",
    "{\n",
    "  ?item wdt:P179 wd:Q108807010. \n",
    "  SERVICE wikibase:label { bd:serviceParam wikibase:language \"[AUTO_LANGUAGE],en\". } # Helps get the label in your language, if not, then en language\n",
    "}\n",
    "\"\"\"\n",
    "r = requests.get(url, params = {'format': 'json', 'query': query})\n",
    "data = r.json()\n",
    "#print(data)\n",
    "print(\"query completed\")"
   ]
  },
  {
   "cell_type": "code",
   "execution_count": null,
   "metadata": {},
   "outputs": [],
   "source": [
    "## Run query to retrieve all statements that reference the above articles"
   ]
  }
 ],
 "metadata": {
  "kernelspec": {
   "display_name": "Python 3",
   "language": "python",
   "name": "python3"
  },
  "language_info": {
   "codemirror_mode": {
    "name": "ipython",
    "version": 3
   },
   "file_extension": ".py",
   "mimetype": "text/x-python",
   "name": "python",
   "nbconvert_exporter": "python",
   "pygments_lexer": "ipython3",
   "version": "3.8.5"
  }
 },
 "nbformat": 4,
 "nbformat_minor": 2
}
