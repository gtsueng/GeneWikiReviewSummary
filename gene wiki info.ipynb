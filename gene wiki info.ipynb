{
 "cells": [
  {
   "cell_type": "markdown",
   "metadata": {
    "collapsed": true
   },
   "source": [
    "# Pulling info from Wikimedia"
   ]
  },
  {
   "cell_type": "code",
   "execution_count": 1,
   "metadata": {},
   "outputs": [],
   "source": [
    "import os\n",
    "import pandas as pd\n",
    "from pandas import read_csv\n",
    "import json\n",
    "import mwclient as mw\n",
    "import pywikibot as pwb\n",
    "import time\n",
    "from datetime import datetime\n",
    "from dateutil.relativedelta import relativedelta\n",
    "import pathlib\n",
    "import requests\n",
    "from requests.adapters import HTTPAdapter\n",
    "from requests.packages.urllib3.util.retry import Retry\n"
   ]
  },
  {
   "cell_type": "code",
   "execution_count": 2,
   "metadata": {},
   "outputs": [],
   "source": [
    "useragent = {\n",
    "    'User-Agent': 'Gene Wiki Review Impact (youremail@domain)'\n",
    "}\n",
    "\n",
    "mwsite = mw.Site('en.wikipedia.org', clients_useragent=useragent['User-Agent'])\n",
    "\n",
    "datapath = 'data/'\n",
    "exppath = 'results/'"
   ]
  },
  {
   "cell_type": "markdown",
   "metadata": {},
   "source": [
    "# Functions"
   ]
  },
  {
   "cell_type": "code",
   "execution_count": 3,
   "metadata": {},
   "outputs": [],
   "source": [
    "###############################################################################\n",
    "## Request nicely\n",
    "###############################################################################\n",
    "\n",
    "DEFAULT_TIMEOUT = 5 # seconds\n",
    "\n",
    "class TimeoutHTTPAdapter(HTTPAdapter):\n",
    "    def __init__(self, *args, **kwargs):\n",
    "        self.timeout = DEFAULT_TIMEOUT\n",
    "        if \"timeout\" in kwargs:\n",
    "            self.timeout = kwargs[\"timeout\"]\n",
    "            del kwargs[\"timeout\"]\n",
    "        super().__init__(*args, **kwargs)\n",
    "\n",
    "    def send(self, request, **kwargs):\n",
    "        timeout = kwargs.get(\"timeout\")\n",
    "        if timeout is None:\n",
    "            kwargs[\"timeout\"] = self.timeout\n",
    "        return super().send(request, **kwargs)\n",
    "\n",
    "## Set time outs, backoff, retries\n",
    "httprequests = requests.Session()\n",
    "retry_strategy = Retry(\n",
    "    total=3,\n",
    "    backoff_factor=1,\n",
    "    status_forcelist=[429, 500, 502, 503, 504],\n",
    "    method_whitelist=[\"HEAD\", \"GET\", \"OPTIONS\"] ## Note this method is deprecated and replaced with `allowed_methods` for newer releases of requests library\n",
    ")\n",
    "adapter = TimeoutHTTPAdapter(timeout=5,max_retries=retry_strategy)\n",
    "httprequests.mount(\"https://\", adapter)\n",
    "httprequests.mount(\"http://\", adapter)"
   ]
  },
  {
   "cell_type": "code",
   "execution_count": 4,
   "metadata": {},
   "outputs": [],
   "source": [
    "###############################################################################\n",
    "## This module uses pulls pageview data from the Media Wiki PageViews API\n",
    "## More on the API here: https://wikimedia.org/api/rest_v1/#/Pageviews%20data/\n",
    "## The module pulls in a parameter dictionary, and the list of wiki titles\n",
    "## Parameters include:\n",
    "## project: en.wikipedia.org, other wikimedia projects\n",
    "## access: all-access, desktop, mobile-app, mobile-web\n",
    "## agent: all-agents, user, spider, bot\n",
    "## granularity: daily, monthly\n",
    "###############################################################################\n",
    "def get_monthly_pvs(page_view_parameters, useragent, no_missing):\n",
    "    no_missing['titlelist'] = [x.replace(\" \",\"_\").replace(\"https://\",\"http://\").replace(\"http://en.wikipedia.org/wiki/\",\"\") for x in no_missing['Gene Wiki Page']]\n",
    "    pginfo = []\n",
    "    pgfails = []\n",
    "    print('obtaining wikipedia pageview information')\n",
    "    pv_api_url = \"https://wikimedia.org/api/rest_v1/metrics/pageviews/per-article/en.wikipedia/\"\n",
    "    for eachtitle in no_missing['titlelist']:\n",
    "        try:\n",
    "            url = pv_api_url+pv_params['access']+pv_params['agent']+eachtitle+\"/\"+pv_params['granularity']+pv_params['start']+\"/\"+pv_params['end']\n",
    "            r = httprequests.get(url, headers=useragent)\n",
    "            items = r.json()\n",
    "            try:\n",
    "                for item in items[\"items\"]:\n",
    "                    tmpdict = {'title':item[\"article\"], 'views':int(item[\"views\"]), 'granularity':item['granularity'],\n",
    "                               'timestamp':item[\"timestamp\"],'access':item['access'],'agent':item['agent']}\n",
    "                    pginfo.append(tmpdict)\n",
    "            except:\n",
    "                tmpdict = {'title':title, 'views':-1, 'granularity':\"no data\",\n",
    "                               'timestamp':\"00000000\",'access':\"not data\",'agent':\"no data\"}\n",
    "                pginfo.append(tmpdict)            \n",
    "        except:\n",
    "            pgfails.append(eachtitle)\n",
    "        time.sleep(1)\n",
    "\n",
    "    pginfodf = pd.DataFrame(pginfo)\n",
    "    \n",
    "    return(pginfodf, pgfails)    "
   ]
  },
  {
   "cell_type": "code",
   "execution_count": 5,
   "metadata": {},
   "outputs": [],
   "source": [
    "###############################################################################\n",
    "## This module uses mwclient to pull page size and edit stats on wikipedia pages  \n",
    "## for each gene given a list of gene wikipedia titles\n",
    "###############################################################################\n",
    "def get_wiki_volume_info (mwsite,no_missing):\n",
    "    print('obtaining wikipedia volume information')\n",
    "    no_missing['titlelist'] = [x.replace(\" \",\"_\").replace(\"https://\",\"http://\").replace(\"http://en.wikipedia.org/wiki/\",\"\") for x in no_missing['Gene Wiki Page']]\n",
    "    pageinfo=[]\n",
    "    pagefails = []\n",
    "    for eachpage in no_missing['titlelist'].tolist():\n",
    "        tempdict={} #title, length/size, last_revised, last_revision_id\n",
    "        try:\n",
    "            checkitem = mwsite.api('query', prop='info', titles=eachpage)\n",
    "            results1 = checkitem['query']['pages']\n",
    "            for item in results1:\n",
    "                base = str(item)\n",
    "                results2 = results1[base]\n",
    "                tempdict['title']=str(results2['title'])\n",
    "                tempdict['page_length']=int(results2['length'])\n",
    "                tempdict['last_touched']=str(results2['touched'])\n",
    "                tempdict['lastrevid']=str(results2['lastrevid'])\n",
    "                pageinfo.append(tempdict)               \n",
    "        except:\n",
    "            pagefails.append(eachpage)\n",
    "            pass \n",
    "        time.sleep(1)\n",
    "    return(pageinfo,pagefails)"
   ]
  },
  {
   "cell_type": "code",
   "execution_count": 6,
   "metadata": {},
   "outputs": [],
   "source": [
    "###############################################################################\n",
    "## This module uses mwclient to get revision ids\n",
    "###############################################################################\n",
    "from time import mktime\n",
    "\n",
    "def get_revid(site,pagetitle,starttime):\n",
    "    page = site.pages[pagetitle]\n",
    "    revidlist = []\n",
    "    for revision in page.revisions():\n",
    "        dt = datetime.fromtimestamp(mktime(revision['timestamp']))\n",
    "        if dt <= datetime.strptime(starttime,'%Y%m%d'):\n",
    "            revidlist.append(revision['revid'])\n",
    "    return(revidlist[0])\n",
    "\n",
    "def get_latest_revid(site,pagetitle):\n",
    "    page = site.pages[pagetitle]\n",
    "    allrevisions = list(page.revisions(prop='ids'))  \n",
    "    last_revision_id = allrevisions[-1]['revid']\n",
    "    return(last_revision_id)"
   ]
  },
  {
   "cell_type": "code",
   "execution_count": 7,
   "metadata": {},
   "outputs": [],
   "source": [
    "###############################################################################\n",
    "## This module uses mwclient to compare revisions\n",
    "###############################################################################\n",
    "def compare_revisions(mwsite,pagetitle,oldrevid,latestrevid):\n",
    "    compare_result = mwsite.get('compare', fromrev=latestid, torev=oldrevid, fromtitle=pagetitle,\n",
    "                              totitle=pagetitle)\n",
    "    return(compare_result['compare']['*'])"
   ]
  },
  {
   "cell_type": "code",
   "execution_count": 8,
   "metadata": {},
   "outputs": [],
   "source": [
    "###############################################################################\n",
    "## This module uses pywikibot to get the text from old versions of wikipedia\n",
    "## pages\n",
    "###############################################################################\n",
    "\n",
    "def get_six_months_prior(adatestring):\n",
    "    dateinfo = datetime.strptime(adatestring, \"%Y%m%d\")\n",
    "    six_months_prior = dateinfo - relativedelta(months = 6)\n",
    "    starttime = datetime.strftime(six_months_prior,\"%Y%m%d\")\n",
    "    return(starttime)\n",
    "\n",
    "\n",
    "def get_old_page_length(pagetitle, oldrevid):\n",
    "    pwsite = pwb.Site(\"en\", \"wikipedia\")\n",
    "    pwpage = pwb.Page(pwsite, pagetitle)\n",
    "    text = pwpage.getOldVersion(oldid = oldrevid)\n",
    "    return(len(text))\n",
    "\n",
    "\n",
    "def get_old_page_volumes(mwsite,no_missing):\n",
    "    print('obtaining old wikipedia volume information')\n",
    "    no_missing['titlelist'] = [x.replace(\" \",\"_\").replace(\"https://\",\"http://\").replace(\"http://en.wikipedia.org/wiki/\",\"\") for x in no_missing['Gene Wiki Page']]\n",
    "    pageinfo=[]\n",
    "    for i in range(len(no_missing)):\n",
    "        pagetitle = no_missing.iloc[i]['titlelist']\n",
    "        updatedate = no_missing.iloc[i]['Wikipedia update period']\n",
    "        starttime = get_six_months_prior(updatedate)\n",
    "        tempdict={'title':pagetitle,'Wikipedia update period':updatedate,'6 months before update':starttime}\n",
    "        try:\n",
    "            oldrevid = get_revid(mwsite,pagetitle,starttime)\n",
    "            oldpagevolume = get_old_page_length(pagetitle,oldrevid)\n",
    "            tempdict['first revision prior to 6 month date'] = oldrevid\n",
    "            tempdict['corresponding length'] = oldpagevolume\n",
    "            pageinfo.append(tempdict)\n",
    "        except:\n",
    "            ## The page did not exist six months prior to the author adding, so page volume prior is 0\n",
    "            tempdict['first revision prior to 6 month date'] = 0\n",
    "            tempdict['corresponding length'] = 0\n",
    "            pageinfo.append(tempdict)               \n",
    "        time.sleep(1)\n",
    "    return(pageinfo)    "
   ]
  },
  {
   "cell_type": "markdown",
   "metadata": {
    "collapsed": true
   },
   "source": [
    "# Pulling gene specific infor by Wikipedia titles"
   ]
  },
  {
   "cell_type": "code",
   "execution_count": 9,
   "metadata": {},
   "outputs": [
    {
     "name": "stdout",
     "output_type": "stream",
     "text": [
      "Surfactant_protein_A1\n"
     ]
    }
   ],
   "source": [
    "## Import the urls for the genes\n",
    "gene_wiki_info = read_csv(datapath+'GeneWikiReviewlist.tsv',delimiter='\\t', header=0)\n",
    "no_missing = gene_wiki_info.loc[~gene_wiki_info['Gene Wiki Page'].isna()].copy()\n",
    "no_missing['titlelist'] = [x.replace(\" \",\"_\").replace(\"https://\",\"http://\").replace(\"http://en.wikipedia.org/wiki/\",\"\") for x in no_missing['Gene Wiki Page']]\n",
    "no_missing['Wikipedia update period'] = no_missing['Wikipedia update period'].astype(int)\n",
    "no_missing['Wikipedia update period'] = no_missing['Wikipedia update period'].astype(str)\n",
    "print(no_missing.iloc[0]['titlelist'])\n"
   ]
  },
  {
   "cell_type": "code",
   "execution_count": 5,
   "metadata": {},
   "outputs": [
    {
     "name": "stdout",
     "output_type": "stream",
     "text": [
      "  Batch  Gene_id Date anticipated Latest email sent (MJ) GW_title  \\\n",
      "0   NaN   653509   July--COMPLETE              7/18/2012   SFTPA1   \n",
      "1   NaN   729238   July--COMPLETE              7/18/2012   SFTPA2   \n",
      "\n",
      "  corresponding author Journal state  \\\n",
      "0               Floros     published   \n",
      "1               Floros     published   \n",
      "\n",
      "                                              status  \\\n",
      "0  http://www.sciencedirect.com/science/article/p...   \n",
      "1  http://www.sciencedirect.com/science/article/p...   \n",
      "\n",
      "                                        Pubmed Gene Wiki Status  \\\n",
      "0  http://www.ncbi.nlm.nih.gov/pubmed/23069847         Complete   \n",
      "1  http://www.ncbi.nlm.nih.gov/pubmed/23069847         Complete   \n",
      "\n",
      "                                      Gene Wiki Page  \\\n",
      "0  https://en.wikipedia.org/wiki/Surfactant_prote...   \n",
      "1  https://en.wikipedia.org/wiki/Surfactant_prote...   \n",
      "\n",
      "                         Notes Acknowledgements Grant ID Editor    PMCID  \\\n",
      "0  Completed along with SFTPA2                       NaN    NaN  3570704   \n",
      "1  Completed along with SFTPA1              NaN      NaN    NaN  3570704   \n",
      "\n",
      "  Wikipedia update period              titlelist  \n",
      "0                20120830  Surfactant_protein_A1  \n",
      "1                20120830  Surfactant_protein_A2  \n"
     ]
    }
   ],
   "source": [
    "print(no_missing.head(n=2))"
   ]
  },
  {
   "cell_type": "code",
   "execution_count": 6,
   "metadata": {},
   "outputs": [],
   "source": [
    "basic_info = no_missing[['Batch','Gene Wiki Page','status','Wikipedia update period']]\n",
    "basic_info.to_csv('results/basic_info.tsv',sep='\\t',header=True)"
   ]
  },
  {
   "cell_type": "code",
   "execution_count": 15,
   "metadata": {},
   "outputs": [
    {
     "name": "stdout",
     "output_type": "stream",
     "text": [
      "obtaining wikipedia volume information\n",
      "                   title  page_length          last_touched   lastrevid\n",
      "0  Surfactant protein A1        31194  2021-12-01T01:46:22Z  1056213617\n",
      "1  Surfactant protein A2        31602  2021-12-07T14:12:19Z  1056087140\n",
      "Wall time: 2min 33s\n"
     ]
    }
   ],
   "source": [
    "%%time\n",
    "## Get Wikipedia info for gene wiki articles\n",
    "pageinfo,pagefails = get_wiki_volume_info(mwsite,no_missing)\n",
    "wikiinfo = pd.DataFrame(pageinfo)\n",
    "print(wikiinfo.head(n=2))\n",
    "\n",
    "wikiinfo.to_csv(exppath+'gene_wiki_vol_info.tsv',sep='\\t',header=True)"
   ]
  },
  {
   "cell_type": "code",
   "execution_count": 16,
   "metadata": {},
   "outputs": [
    {
     "name": "stdout",
     "output_type": "stream",
     "text": [
      "obtaining old wikipedia volume information\n",
      "                   title Wikipedia update period 6 months before update  \\\n",
      "0  Surfactant_protein_A1                20120830               20120229   \n",
      "1  Surfactant_protein_A2                20120830               20120229   \n",
      "\n",
      "   first revision prior to 6 month date  corresponding length  \n",
      "0                             462319030                  5903  \n",
      "1                             204784710                    21  \n",
      "Wall time: 3min 53s\n"
     ]
    }
   ],
   "source": [
    "%%time\n",
    "## Get past Wikipedia info for gene wiki articles\n",
    "pageinfo = get_old_page_volumes(mwsite,no_missing)\n",
    "wikiinfo = pd.DataFrame(pageinfo)\n",
    "print(wikiinfo.head(n=2))\n",
    "\n",
    "wikiinfo.to_csv(exppath+'gene_wiki_vol_info-BEFORE.tsv',sep='\\t',header=True)"
   ]
  },
  {
   "cell_type": "code",
   "execution_count": null,
   "metadata": {},
   "outputs": [],
   "source": [
    "#### Test of functions\n",
    "pagetitle = 'Surfactant_protein_A1'\n",
    "starttime = '20120229'\n",
    "oldrevid = get_revid(mwsite,pagetitle,starttime)\n",
    "print(oldrevid)\n",
    "oldpagevolume = get_old_page_length(pagetitle,oldrevid)\n",
    "print(oldpagevolume)"
   ]
  },
  {
   "cell_type": "code",
   "execution_count": 17,
   "metadata": {},
   "outputs": [
    {
     "name": "stdout",
     "output_type": "stream",
     "text": [
      "obtaining wikipedia pageview information\n",
      "                   title  views granularity   timestamp      access agent\n",
      "0  Surfactant_protein_A1    146     monthly  2017090100  all-access  user\n",
      "1  Surfactant_protein_A1    125     monthly  2017100100  all-access  user\n",
      "Wall time: 2min 47s\n"
     ]
    }
   ],
   "source": [
    "%%time\n",
    "#### Get Page views for each Gene Wiki Review wikipedia entry\n",
    "\n",
    "#pages = [\"Cyclin-dependent kinase 1\", \"Reelin\"] ## for unit test\n",
    "\n",
    "pv_params = {'project':'en.wikipedia',\n",
    "             'access':'all-access/',\n",
    "             'agent':'user/',\n",
    "             'granularity':'monthly/',\n",
    "             'start':'20130101',\n",
    "             'end':'20211115'}\n",
    "\n",
    "gene_monthly_pvs,pgfails = get_monthly_pvs(pv_params,useragent, no_missing)\n",
    "print(gene_monthly_pvs.head(n=2))\n",
    "\n",
    "gene_monthly_pvs.to_csv(exppath+'gene_wiki_views.tsv',sep='\\t',header=True)\n",
    "\n",
    "gene_monthly_views = pd.pivot_table(gene_monthly_pvs[['timestamp','title','views']],\n",
    "                                        values='views',index='title',columns='timestamp')\n",
    "gene_pvs = gene_monthly_views.reset_index()\n",
    "gene_pvs.rename(columns={'title':'wikipedia'},inplace=True)\n",
    "#print(gene_pvs)\n",
    "gene_pvs.to_csv(exppath+'gw_pvs.tsv',sep='\\t',header=True)"
   ]
  },
  {
   "cell_type": "markdown",
   "metadata": {},
   "source": [
    "# Pull all statements added for series via SPARQL queries"
   ]
  },
  {
   "cell_type": "markdown",
   "metadata": {},
   "source": [
    "Query Wikidata for P179 (part of series) of Q108807010 (Gene Wiki Review Series). Then identify statements that use any member of the query results as a reference"
   ]
  },
  {
   "cell_type": "code",
   "execution_count": 10,
   "metadata": {},
   "outputs": [],
   "source": [
    "## Run the sparql query to retrieve all Articles in this series\n",
    "\n",
    "def fetch_gwreviews_wd():\n",
    "    url = 'https://query.wikidata.org/sparql'\n",
    "    query = \"\"\"\n",
    "    SELECT ?item ?itemLabel ?PubMedCentID \n",
    "    WHERE \n",
    "    {\n",
    "      ?item wdt:P179 wd:Q108807010.\n",
    "        ?item wdt:P932 ?PubMedCentID\n",
    "      SERVICE wikibase:label { bd:serviceParam wikibase:language \"[AUTO_LANGUAGE],en\". } # Helps get the label in your language, if not, then en language\n",
    "    }\n",
    "    \"\"\"\n",
    "    r = httprequests.get(url, params = {'format': 'json', 'query': query})\n",
    "    data = r.json()\n",
    "    datadf = pd.DataFrame(data['results']['bindings'])\n",
    "    datadf['uri'] = [x['value'] for x in datadf['item']]\n",
    "    datadf['label'] = [x['value'] for x in datadf['itemLabel']]\n",
    "    datadf['QID'] = [x.replace('http://www.wikidata.org/entity/','') for x in datadf['uri']]\n",
    "    datadf['PMCID'] = [x['value'] for x in datadf['PubMedCentID']]\n",
    "    cleandata = datadf[['uri','label','QID','PMCID']].copy()\n",
    "    return(cleandata)\n",
    "\n",
    "\n",
    "def load_props_to_check(DATAPATH):\n",
    "    propinfo = read_csv(os.path.join(DATAPATH,'propertylist.tsv'),delimiter='\\t',header=0)\n",
    "    return(propinfo)\n",
    "\n",
    "\n",
    "def clean_up_results(wdjson,pid):\n",
    "    tmpdf = pd.DataFrame(wdjson['results']['bindings'])\n",
    "    tmpdf['subjectQID'] = [x['value'].replace(\"http://www.wikidata.org/entity/\",\"\") for x in tmpdf['item']]\n",
    "    tmpdf['objectQID'] = [x['value'].replace(\"http://www.wikidata.org/entity/\",\"\") for x in tmpdf['value']]\n",
    "    tmpdf['subject'] = [x['value'] for x in tmpdf['itemLabel']]\n",
    "    tmpdf['object'] = [x['value'] for x in tmpdf['valueLabel']]\n",
    "    tmpdf['predicatePID'] = pid\n",
    "    try:\n",
    "        tmpdf['qualifierID'] = [x['value'].replace(\"http://www.wikidata.org/entity/\",\"\") for x in tmpdf['qualifier']]\n",
    "        tmpdf['qualifier'] = [x['value'] for x in tmpdf['qualifierLabel']]\n",
    "    except:\n",
    "        tmpdf['qualifierID'] = \"None\"\n",
    "        tmpdf['qualifier'] = \"None\"\n",
    "    cleandf = tmpdf[['subjectQID','predicatePID','objectQID','subject','object','qualifierID','qualifier']].copy()\n",
    "    return(cleandf)"
   ]
  },
  {
   "cell_type": "code",
   "execution_count": 37,
   "metadata": {},
   "outputs": [
    {
     "name": "stderr",
     "output_type": "stream",
     "text": [
      "WARNING:urllib3.connectionpool:Retrying (Retry(total=2, connect=None, read=None, redirect=None, status=None)) after connection broken by 'ReadTimeoutError(\"HTTPSConnectionPool(host='query.wikidata.org', port=443): Read timed out. (read timeout=5)\")': /sparql?format=json&query=%0A++++++++SELECT+DISTiNCT+%3Fitem+%3FitemLabel+%3Fvalue+%3FvalueLabel+%3Fqualifier+%3FqualifierLabel%0A++++++++WHERE+%7B%0A++++++++++%3Fitem+%3Fp+%3Fstatement.%0A++++++++++%3Fstatement+prov%3AwasDerivedFrom+%3Fref+.+%0A++++++++++%3Fref+pr%3AP248+wd%3AQ28085339+.%0A++++++++++%3Fstatement+pq%3AP459+%3Fqualifier+.%0A++++++++++%3Fitem+wdt%3AP924+%3Fvalue%0A++++++++++++++++SERVICE+wikibase%3Alabel+%7B+bd%3AserviceParam+wikibase%3Alanguage+%22%5BAUTO_LANGUAGE%5D%2Cen%22.+%7D%0A++++++++%7D%0A++++++++\n",
      "WARNING:urllib3.connectionpool:Retrying (Retry(total=1, connect=None, read=None, redirect=None, status=None)) after connection broken by 'ReadTimeoutError(\"HTTPSConnectionPool(host='query.wikidata.org', port=443): Read timed out. (read timeout=5)\")': /sparql?format=json&query=%0A++++++++SELECT+DISTiNCT+%3Fitem+%3FitemLabel+%3Fvalue+%3FvalueLabel+%3Fqualifier+%3FqualifierLabel%0A++++++++WHERE+%7B%0A++++++++++%3Fitem+%3Fp+%3Fstatement.%0A++++++++++%3Fstatement+prov%3AwasDerivedFrom+%3Fref+.+%0A++++++++++%3Fref+pr%3AP248+wd%3AQ28085339+.%0A++++++++++%3Fstatement+pq%3AP459+%3Fqualifier+.%0A++++++++++%3Fitem+wdt%3AP924+%3Fvalue%0A++++++++++++++++SERVICE+wikibase%3Alabel+%7B+bd%3AserviceParam+wikibase%3Alanguage+%22%5BAUTO_LANGUAGE%5D%2Cen%22.+%7D%0A++++++++%7D%0A++++++++\n",
      "WARNING:urllib3.connectionpool:Retrying (Retry(total=2, connect=None, read=None, redirect=None, status=None)) after connection broken by 'ReadTimeoutError(\"HTTPSConnectionPool(host='query.wikidata.org', port=443): Read timed out. (read timeout=5)\")': /sparql?format=json&query=%0A++++++++SELECT+DISTiNCT+%3Fitem+%3FitemLabel+%3Fvalue+%3FvalueLabel+%3Fqualifier+%3FqualifierLabel%0A++++++++WHERE+%7B%0A++++++++++%3Fitem+%3Fp+%3Fstatement.%0A++++++++++%3Fstatement+prov%3AwasDerivedFrom+%3Fref+.+%0A++++++++++%3Fref+pr%3AP248+wd%3AQ38779105+.%0A++++++++++%3Fstatement+pq%3AP459+%3Fqualifier+.%0A++++++++++%3Fitem+wdt%3AP780+%3Fvalue%0A++++++++++++++++SERVICE+wikibase%3Alabel+%7B+bd%3AserviceParam+wikibase%3Alanguage+%22%5BAUTO_LANGUAGE%5D%2Cen%22.+%7D%0A++++++++%7D%0A++++++++\n",
      "WARNING:urllib3.connectionpool:Retrying (Retry(total=2, connect=None, read=None, redirect=None, status=None)) after connection broken by 'ReadTimeoutError(\"HTTPSConnectionPool(host='query.wikidata.org', port=443): Read timed out. (read timeout=5)\")': /sparql?format=json&query=%0A++++++++SELECT+DISTiNCT+%3Fitem+%3FitemLabel+%3Fvalue+%3FvalueLabel+%3Fqualifier+%3FqualifierLabel%0A++++++++WHERE+%7B%0A++++++++++%3Fitem+%3Fp+%3Fstatement.%0A++++++++++%3Fstatement+prov%3AwasDerivedFrom+%3Fref+.+%0A++++++++++%3Fref+pr%3AP248+wd%3AQ38779105+.%0A++++++++++%3Fstatement+pq%3AP459+%3Fqualifier+.%0A++++++++++%3Fitem+wdt%3AP924+%3Fvalue%0A++++++++++++++++SERVICE+wikibase%3Alabel+%7B+bd%3AserviceParam+wikibase%3Alanguage+%22%5BAUTO_LANGUAGE%5D%2Cen%22.+%7D%0A++++++++%7D%0A++++++++\n",
      "WARNING:urllib3.connectionpool:Retrying (Retry(total=2, connect=None, read=None, redirect=None, status=None)) after connection broken by 'ReadTimeoutError(\"HTTPSConnectionPool(host='query.wikidata.org', port=443): Read timed out. (read timeout=5)\")': /sparql?format=json&query=%0A++++++++SELECT+DISTiNCT+%3Fitem+%3FitemLabel+%3Fvalue+%3FvalueLabel+%3Fqualifier+%3FqualifierLabel%0A++++++++WHERE+%7B%0A++++++++++%3Fitem+%3Fp+%3Fstatement.%0A++++++++++%3Fstatement+prov%3AwasDerivedFrom+%3Fref+.+%0A++++++++++%3Fref+pr%3AP248+wd%3AQ38779105+.%0A++++++++++%3Fstatement+pq%3AP459+%3Fqualifier+.%0A++++++++++%3Fitem+wdt%3AP1912+%3Fvalue%0A++++++++++++++++SERVICE+wikibase%3Alabel+%7B+bd%3AserviceParam+wikibase%3Alanguage+%22%5BAUTO_LANGUAGE%5D%2Cen%22.+%7D%0A++++++++%7D%0A++++++++\n"
     ]
    },
    {
     "name": "stdout",
     "output_type": "stream",
     "text": [
      "  subjectQID predicatePID objectQID      subject       object qualifierID  \\\n",
      "0     Q57055         P769   Q423364  paracetamol  propranolol   Q23173789   \n",
      "1     Q57055         P769  Q1135705  paracetamol    rifabutin   Q23173789   \n",
      "\n",
      "  qualifier  \n",
      "0       EXP  \n",
      "1       EXP  \n",
      "Wall time: 2h 50min\n"
     ]
    }
   ],
   "source": [
    "%%time\n",
    "#### With Qualifiers\n",
    "## Run query to retrieve all statements that reference the above articles\n",
    "script_path = ''\n",
    "DATAPATH = os.path.join(script_path,'data/')\n",
    "propinfo = load_props_to_check(DATAPATH)\n",
    "usefulpids = propinfo['Property'].loc[propinfo['PropertyUse']=='main'].unique().tolist()\n",
    "\n",
    "cleandata = fetch_gwreviews_wd()\n",
    "refids = cleandata['QID'].unique().tolist()\n",
    "\n",
    "url = 'https://query.wikidata.org/sparql'\n",
    "\n",
    "resultdf = pd.DataFrame(columns = (['subjectQID','predicatePID','objectQID','subject','object','qualifierID','qualifier']))\n",
    "for refqid in refids:\n",
    "    for pid in usefulpids:\n",
    "        #refqid = 'Q65950306' ## For testing\n",
    "        #pid = 'P1916' ## For testing\n",
    "        querybase = f\"\"\"\n",
    "        SELECT DISTiNCT ?item ?itemLabel ?value ?valueLabel ?qualifier ?qualifierLabel\n",
    "        WHERE {{\n",
    "          ?item ?p ?statement.\n",
    "          ?statement prov:wasDerivedFrom ?ref . \n",
    "          ?ref pr:P248 wd:{refqid} .\n",
    "          ?statement pq:P459 ?qualifier .\n",
    "          ?item wdt:{pid} ?value\n",
    "                SERVICE wikibase:label {{ bd:serviceParam wikibase:language \"[AUTO_LANGUAGE],en\". }}\n",
    "        }}\n",
    "        \"\"\"        \n",
    "        try:\n",
    "            r = httprequests.get(url, params = {'format': 'json', 'query': querybase})\n",
    "            tmpdata = r.json()\n",
    "            if len(tmpdata['results']['bindings']) <= 0:\n",
    "                no_result_flag = True\n",
    "            else:\n",
    "                cleandf = clean_up_results(tmpdata,pid)\n",
    "                resultdf = pd.concat((resultdf,cleandf),ignore_index=True)\n",
    "        except:\n",
    "            continue\n",
    "        time.sleep(2)\n",
    "\n",
    "print(resultdf.head(n=2))\n",
    "resultdf.to_csv('results/wd_statements_added.tsv',sep='\\t',header=True)"
   ]
  },
  {
   "cell_type": "code",
   "execution_count": 36,
   "metadata": {},
   "outputs": [
    {
     "name": "stdout",
     "output_type": "stream",
     "text": [
      "                                           qualifier  \\\n",
      "0  {'type': 'uri', 'value': 'http://www.wikidata....   \n",
      "\n",
      "                                                item  \\\n",
      "0  {'type': 'uri', 'value': 'http://www.wikidata....   \n",
      "\n",
      "                                               value  \\\n",
      "0  {'type': 'uri', 'value': 'http://www.wikidata....   \n",
      "\n",
      "                                           itemLabel  \\\n",
      "0  {'xml:lang': 'en', 'type': 'literal', 'value':...   \n",
      "\n",
      "                                          valueLabel  \\\n",
      "0  {'xml:lang': 'en', 'type': 'literal', 'value':...   \n",
      "\n",
      "                                      qualifierLabel  \n",
      "0  {'xml:lang': 'en', 'type': 'literal', 'value':...  \n",
      "  subjectQID predicatePID objectQID subject         object qualifierID  \\\n",
      "0  Q18033696        P2293    Q41112   KALRN  schizophrenia   Q23174671   \n",
      "\n",
      "  qualifier  \n",
      "0       IMP  \n"
     ]
    }
   ],
   "source": [
    "## This is a test\n",
    "url = 'https://query.wikidata.org/sparql'\n",
    "query = \"\"\"\n",
    "SELECT DISTiNCT ?item ?itemLabel ?value ?valueLabel ?qualifier ?qualifierLabel\n",
    "WHERE {\n",
    "  ?item ?p ?statement.\n",
    "  ?statement prov:wasDerivedFrom ?ref . \n",
    "  ?ref pr:P248 wd:Q102060922 . # Replace with specific QID of article as a reference under 'stated in' within a statement\n",
    "  ?statement pq:P459 ?qualifier .\n",
    "  ?item wdt:P2293 ?value  # Specify property of statement (in this example, Genetic Assocation)\n",
    "        SERVICE wikibase:label { bd:serviceParam wikibase:language \"[AUTO_LANGUAGE],en\". }\n",
    "}\n",
    "\"\"\"\n",
    "r = httprequests.get(url, params = {'format': 'json', 'query': query})\n",
    "test = r.json()\n",
    "check = pd.DataFrame(test['results']['bindings'])\n",
    "qlabel = check.iloc[0]['qualifierLabel']\n",
    "print(check)\n",
    "\n",
    "\n",
    "cleantest = clean_up_results(test,'P2293')\n",
    "print(cleantest)"
   ]
  },
  {
   "cell_type": "markdown",
   "metadata": {},
   "source": [
    "### Alternative approach\n",
    "The above sparql query is giving a lot of false positives. To bypass, try simplifying the query to pull all Wikidata items that have statements which reference a Gene Wiki Review. Request the entire content for each item from the MediaWiki API (https://www.wikidata.org/w/api.php?action=wbgetclaims&entity=Q108&format=json) then parse it to extract only the statements with the correct references. Note that these may be very nested; however, this may be more comprehensive that trying to query for specific properties."
   ]
  },
  {
   "cell_type": "code",
   "execution_count": 11,
   "metadata": {},
   "outputs": [
    {
     "name": "stdout",
     "output_type": "stream",
     "text": [
      "  subjectQID       subject\n",
      "0    Q155746  paricalcitol\n",
      "1    Q415571     Bleomycin\n",
      "37\n",
      "Wall time: 3min 6s\n"
     ]
    }
   ],
   "source": [
    "%%time\n",
    "## Run query to retrieve all items statements that reference the above articles\n",
    "script_path = ''\n",
    "DATAPATH = os.path.join(script_path,'data/')\n",
    "propinfo = load_props_to_check(DATAPATH)\n",
    "usefulpids = propinfo['Property'].loc[propinfo['PropertyUse']=='main'].unique().tolist()\n",
    "\n",
    "cleandata = fetch_gwreviews_wd()\n",
    "refids = cleandata['QID'].unique().tolist()\n",
    "\n",
    "url = 'https://query.wikidata.org/sparql'\n",
    "\n",
    "resultdf = pd.DataFrame(columns = (['subjectQID','subject']))\n",
    "for refqid in refids:\n",
    "    querybase = f\"\"\"\n",
    "    SELECT DISTiNCT ?item ?itemLabel\n",
    "    WHERE {{\n",
    "      ?item ?p ?statement.\n",
    "      ?statement prov:wasDerivedFrom [pr:P248 wd:{refqid}] . \n",
    "            SERVICE wikibase:label {{ bd:serviceParam wikibase:language \"[AUTO_LANGUAGE],en\". }}\n",
    "    }}\n",
    "    \"\"\"        \n",
    "    try:\n",
    "        r = httprequests.get(url, params = {'format': 'json', 'query': querybase})\n",
    "        tmpdata = r.json()\n",
    "        if len(tmpdata['results']['bindings']) <= 0:\n",
    "            no_result_flag = True\n",
    "        else:\n",
    "            tmpdf = pd.DataFrame(tmpdata['results']['bindings'])\n",
    "            tmpdf['subjectQID'] = [x['value'].replace(\"http://www.wikidata.org/entity/\",\"\") for x in tmpdf['item']]\n",
    "            tmpdf['subject'] = [x['value'] for x in tmpdf['itemLabel']]\n",
    "            resultdf = pd.concat((resultdf,tmpdf[['subjectQID','subject']].copy()),ignore_index=True)\n",
    "    except:\n",
    "        continue\n",
    "    time.sleep(2)\n",
    "\n",
    "print(resultdf.head(n=2))\n",
    "print(len(resultdf['subjectQID'].unique().tolist()))"
   ]
  },
  {
   "cell_type": "code",
   "execution_count": null,
   "metadata": {},
   "outputs": [],
   "source": [
    "def extract_q(childict):\n",
    "    try:\n",
    "        found_qid = childict['datavalue']['value']['id']\n",
    "    except:\n",
    "        found_qid = False\n",
    "    return(found_qid)\n",
    "\n",
    "\n",
    "def search_records(jsonchild):\n",
    "    try: ##test if jsonchild is a list or dictionary\n",
    "        keylist = list(jsonchild.keys())\n",
    "    except:\n",
    "        keylist = range(len(jsonchild))\n",
    "    for eachkey in keylist:\n",
    "        childict = jsonchild[eachkey]\n",
    "        found_qid = extract_q(childict)\n",
    "        if found_qid != False:\n",
    "            break\n",
    "    return(found_qid)\n",
    "\n",
    "def search_dict(grandparentdict):"
   ]
  },
  {
   "cell_type": "code",
   "execution_count": 12,
   "metadata": {},
   "outputs": [],
   "source": [
    "def get_gw_qualifier(qualifierlist):\n",
    "    qualinfo = []\n",
    "    qualifier_props = list(qualifierlist.keys())\n",
    "    for eachprop in qualifier_props:\n",
    "        print(eachprop)\n",
    "        for i in len(range(qualifierlist[eachprop])):\n",
    "            try:\n",
    "                qual_prop = qualifierlist[eachprop][i]['property']\n",
    "                qual_qid = qualifierlist[eachprop][i]['datavalue']['value']['id']\n",
    "                qualinfo.append({\"qualifier_property\":qual_prop,\n",
    "                                 \"qualifierID\":qual_id})\n",
    "            except:\n",
    "                continue\n",
    "    if len(qualinfo)<1:\n",
    "        qualinfo = False\n",
    "    return(qualinfo)\n",
    "\n",
    "\n",
    "def get_gw_reference(referencelist,refids):\n",
    "    for j in range(len(referencelist)):\n",
    "        a_reference = referencelist[j]['snaks']\n",
    "        refprops = list(referencelist[j]['snaks'].keys())\n",
    "        for eachrefprop in refprops:\n",
    "            for k in range(len(eachrefprop)):\n",
    "                try:\n",
    "                    reference_qid = a_reference[eachrefprop][k]['datavalue']['value']['id']\n",
    "                except:\n",
    "                    reference_qid = False\n",
    "                if reference_qid in refids:\n",
    "                    break_out_flag = True\n",
    "                    break\n",
    "                else: \n",
    "                    reference_qid = False\n",
    "            if break_out_flag == True:\n",
    "                break\n",
    "        if break_out_flag == True:\n",
    "            break\n",
    "    return(eachrefprop, reference_qid)\n",
    "\n",
    "\n",
    "def parse_qjson(eachentity,qjson,refids):\n",
    "    saved_results = []\n",
    "    propertylist = list(qjson['claims'].keys())\n",
    "    for eachprop in propertylist:\n",
    "        statementprop = eachprop\n",
    "        for i in range(len(qjson['claims'])):\n",
    "            try:\n",
    "                statementobject = qjson['claims'][eachprop][i]['mainsnak']['datavalue']['value']['id']\n",
    "            except:\n",
    "                try:\n",
    "                    statementobject = qjson['claims'][eachprop][i]['mainsnak']['datavalue']['value']\n",
    "                except:\n",
    "                    continue\n",
    "                    #print(i, qjson['claims'][eachprop][i].keys())\n",
    "            try:\n",
    "                qualifierlist = qjson['claims'][eachprop][i]['qualifiers']\n",
    "                qualinfo = get_gw_qualifier(qualifierlist)\n",
    "                print(qualinfo)\n",
    "            except:\n",
    "                qualinfo = False\n",
    "            try:\n",
    "                referencelist = qjson['claims'][eachprop][i]['references']\n",
    "                reference_property, reference_qid = get_gw_reference(referencelist,refids)\n",
    "            except:\n",
    "                reference_qid = False\n",
    "            if ((reference_qid != False) and (qualinfo) != False):\n",
    "                tmpdict = {'subjectID':eachentity,\n",
    "                           'predicateID':statementprop,\n",
    "                           'objectID':statementobject,\n",
    "                           'referenceProp':reference_property,\n",
    "                           'referenceID':reference_qid}\n",
    "                for eachqual in qualinfo:\n",
    "                    saved_results.append(tmpdict.update(eachqual))\n",
    "            elif ((reference_qid != False) and (qualinfo) == False):\n",
    "                tmpdict = {'subjectID':eachentity,\n",
    "                           'predicateID':statementprop,\n",
    "                           'objectID':statementobject,\n",
    "                           'referenceProp':reference_property,\n",
    "                           'referenceID':reference_qid,\n",
    "                           'qualifier_property':False,\n",
    "                           'qualifierID':False\n",
    "                          }\n",
    "    if len(saved_results)>0:\n",
    "        saved_resultdf = pd.DataFrame(saved_results)\n",
    "    else:\n",
    "        saved_resultdf = False\n",
    "    return(saved_resultdf)"
   ]
  },
  {
   "cell_type": "code",
   "execution_count": 72,
   "metadata": {},
   "outputs": [
    {
     "name": "stdout",
     "output_type": "stream",
     "text": [
      "Q155746\n",
      "{'mainsnak': {'snaktype': 'value', 'property': 'P117', 'hash': '5333d73dc6d61b73530cbad4828d21983f30f1ea', 'datavalue': {'value': 'Paricalcitol.svg', 'type': 'string'}, 'datatype': 'commonsMedia'}, 'type': 'statement', 'id': 'Q155746$b7e0eaaf-4a18-48b5-3baf-a544db2728a4', 'rank': 'normal'}\n",
      "   property                                             claims  \\\n",
      "0      P117  {'mainsnak': {'snaktype': 'value', 'property':...   \n",
      "1      P129  {'mainsnak': {'snaktype': 'value', 'property':...   \n",
      "2     P2017  {'mainsnak': {'snaktype': 'value', 'property':...   \n",
      "3     P2062  {'mainsnak': {'snaktype': 'value', 'property':...   \n",
      "4     P2063  {'mainsnak': {'snaktype': 'value', 'property':...   \n",
      "5     P2067  {'mainsnak': {'snaktype': 'value', 'property':...   \n",
      "6     P2115  {'mainsnak': {'snaktype': 'value', 'property':...   \n",
      "7     P2175  {'mainsnak': {'snaktype': 'value', 'property':...   \n",
      "7     P2175  {'mainsnak': {'snaktype': 'value', 'property':...   \n",
      "7     P2175  {'mainsnak': {'snaktype': 'value', 'property':...   \n",
      "7     P2175  {'mainsnak': {'snaktype': 'value', 'property':...   \n",
      "7     P2175  {'mainsnak': {'snaktype': 'value', 'property':...   \n",
      "8     P2275  {'mainsnak': {'snaktype': 'value', 'property':...   \n",
      "9      P231  {'mainsnak': {'snaktype': 'value', 'property':...   \n",
      "10     P232  {'mainsnak': {'snaktype': 'value', 'property':...   \n",
      "11     P233  {'mainsnak': {'snaktype': 'value', 'property':...   \n",
      "12     P234  {'mainsnak': {'snaktype': 'value', 'property':...   \n",
      "13     P235  {'mainsnak': {'snaktype': 'value', 'property':...   \n",
      "14    P2566  {'mainsnak': {'snaktype': 'value', 'property':...   \n",
      "15     P267  {'mainsnak': {'snaktype': 'value', 'property':...   \n",
      "16     P274  {'mainsnak': {'snaktype': 'value', 'property':...   \n",
      "17     P279  {'mainsnak': {'snaktype': 'value', 'property':...   \n",
      "18    P2892  {'mainsnak': {'snaktype': 'value', 'property':...   \n",
      "19      P31  {'mainsnak': {'snaktype': 'value', 'property':...   \n",
      "19      P31  {'mainsnak': {'snaktype': 'value', 'property':...   \n",
      "19      P31  {'mainsnak': {'snaktype': 'value', 'property':...   \n",
      "20    P3117  {'mainsnak': {'snaktype': 'value', 'property':...   \n",
      "21    P3345  {'mainsnak': {'snaktype': 'value', 'property':...   \n",
      "22    P3489  {'mainsnak': {'snaktype': 'value', 'property':...   \n",
      "22    P3489  {'mainsnak': {'snaktype': 'value', 'property':...   \n",
      "23    P3771  {'mainsnak': {'snaktype': 'value', 'property':...   \n",
      "24    P3780  {'mainsnak': {'snaktype': 'value', 'property':...   \n",
      "25     P486  {'mainsnak': {'snaktype': 'value', 'property':...   \n",
      "26     P592  {'mainsnak': {'snaktype': 'value', 'property':...   \n",
      "27     P595  {'mainsnak': {'snaktype': 'value', 'property':...   \n",
      "28    P6366  {'mainsnak': {'snaktype': 'value', 'property':...   \n",
      "29     P646  {'mainsnak': {'snaktype': 'value', 'property':...   \n",
      "30     P652  {'mainsnak': {'snaktype': 'value', 'property':...   \n",
      "31     P661  {'mainsnak': {'snaktype': 'value', 'property':...   \n",
      "32     P662  {'mainsnak': {'snaktype': 'value', 'property':...   \n",
      "33     P665  {'mainsnak': {'snaktype': 'value', 'property':...   \n",
      "33     P665  {'mainsnak': {'snaktype': 'value', 'property':...   \n",
      "34    P6694  {'mainsnak': {'snaktype': 'value', 'property':...   \n",
      "35     P683  {'mainsnak': {'snaktype': 'value', 'property':...   \n",
      "36     P715  {'mainsnak': {'snaktype': 'value', 'property':...   \n",
      "37    P8494  {'mainsnak': {'snaktype': 'value', 'property':...   \n",
      "\n",
      "                                              keyinfo  \\\n",
      "0                          (mainsnak, type, id, rank)   \n",
      "1   (mainsnak, type, qualifiers, qualifiers-order,...   \n",
      "2              (mainsnak, type, id, rank, references)   \n",
      "3              (mainsnak, type, id, rank, references)   \n",
      "4              (mainsnak, type, id, rank, references)   \n",
      "5              (mainsnak, type, id, rank, references)   \n",
      "6              (mainsnak, type, id, rank, references)   \n",
      "7              (mainsnak, type, id, rank, references)   \n",
      "7              (mainsnak, type, id, rank, references)   \n",
      "7              (mainsnak, type, id, rank, references)   \n",
      "7              (mainsnak, type, id, rank, references)   \n",
      "7              (mainsnak, type, id, rank, references)   \n",
      "8              (mainsnak, type, id, rank, references)   \n",
      "9              (mainsnak, type, id, rank, references)   \n",
      "10             (mainsnak, type, id, rank, references)   \n",
      "11             (mainsnak, type, id, rank, references)   \n",
      "12             (mainsnak, type, id, rank, references)   \n",
      "13             (mainsnak, type, id, rank, references)   \n",
      "14             (mainsnak, type, id, rank, references)   \n",
      "15             (mainsnak, type, id, rank, references)   \n",
      "16             (mainsnak, type, id, rank, references)   \n",
      "17             (mainsnak, type, id, rank, references)   \n",
      "18             (mainsnak, type, id, rank, references)   \n",
      "19                         (mainsnak, type, id, rank)   \n",
      "19                         (mainsnak, type, id, rank)   \n",
      "19             (mainsnak, type, id, rank, references)   \n",
      "20             (mainsnak, type, id, rank, references)   \n",
      "21             (mainsnak, type, id, rank, references)   \n",
      "22             (mainsnak, type, id, rank, references)   \n",
      "22             (mainsnak, type, id, rank, references)   \n",
      "23  (mainsnak, type, qualifiers, qualifiers-order,...   \n",
      "24             (mainsnak, type, id, rank, references)   \n",
      "25  (mainsnak, type, qualifiers, qualifiers-order,...   \n",
      "26             (mainsnak, type, id, rank, references)   \n",
      "27             (mainsnak, type, id, rank, references)   \n",
      "28                         (mainsnak, type, id, rank)   \n",
      "29                         (mainsnak, type, id, rank)   \n",
      "30             (mainsnak, type, id, rank, references)   \n",
      "31             (mainsnak, type, id, rank, references)   \n",
      "32             (mainsnak, type, id, rank, references)   \n",
      "33             (mainsnak, type, id, rank, references)   \n",
      "33             (mainsnak, type, id, rank, references)   \n",
      "34  (mainsnak, type, qualifiers, qualifiers-order,...   \n",
      "35  (mainsnak, type, qualifiers, qualifiers-order,...   \n",
      "36             (mainsnak, type, id, rank, references)   \n",
      "37                         (mainsnak, type, id, rank)   \n",
      "\n",
      "                                            objectVal  \n",
      "0                                    Paricalcitol.svg  \n",
      "1   {'entity-type': 'item', 'numeric-id': 417057, ...  \n",
      "2   C[C@H](/C=C/[C@H](C)C(C)(C)O)[C@H]1CC[C@@H]\\2[...  \n",
      "3                                                7360  \n",
      "4                                        LMST04030163  \n",
      "5   {'amount': '+416.329045', 'unit': 'http://www....  \n",
      "6                                         N0000148562  \n",
      "7   {'entity-type': 'item', 'numeric-id': 1344835,...  \n",
      "7   {'entity-type': 'item', 'numeric-id': 1054718,...  \n",
      "7   {'entity-type': 'item', 'numeric-id': 3622611,...  \n",
      "7   {'entity-type': 'item', 'numeric-id': 476921, ...  \n",
      "7   {'entity-type': 'item', 'numeric-id': 736715, ...  \n",
      "8          {'text': 'paricalcitol', 'language': 'en'}  \n",
      "9                                         131918-61-1  \n",
      "10                                          658-064-6  \n",
      "11  CC(C=CC(C)C(C)(C)O)C1CCC2C1(CCCC2=CC=C3CC(CC(C...  \n",
      "12  InChI=1S/C27H44O3/c1-18(8-9-19(2)26(3,4)30)24-...  \n",
      "13                        BPKAHTKRCLCHEA-UBFJEZKGSA-N  \n",
      "14                                        100.184.862  \n",
      "15                                            H05BX02  \n",
      "16                                           C₂₇H₄₄O₃  \n",
      "17  {'entity-type': 'item', 'numeric-id': 139347, ...  \n",
      "18                                           C0249582  \n",
      "19  {'entity-type': 'item', 'numeric-id': 11173, '...  \n",
      "19  {'entity-type': 'item', 'numeric-id': 12140, '...  \n",
      "19  {'entity-type': 'item', 'numeric-id': 143623, ...  \n",
      "20                                      DTXSID4048640  \n",
      "21                                              73710  \n",
      "22  {'entity-type': 'item', 'numeric-id': 3679261,...  \n",
      "22  {'entity-type': 'item', 'numeric-id': 28123617...  \n",
      "23  {'entity-type': 'item', 'numeric-id': 14906849...  \n",
      "24  {'entity-type': 'item', 'numeric-id': 47522341...  \n",
      "25                                            C084656  \n",
      "26                                      CHEMBL1200622  \n",
      "27                                               2791  \n",
      "28                                         2779524405  \n",
      "29                                         /m/04mxxf4  \n",
      "30                                         6702D36OG5  \n",
      "31                                            4444552  \n",
      "32                                            5281104  \n",
      "33                                             C08127  \n",
      "33                                             D00930  \n",
      "34                                           M0224873  \n",
      "35                                               7931  \n",
      "36                                              00910  \n",
      "37                                      DTXCID7028566  \n"
     ]
    }
   ],
   "source": [
    "entitylist = resultdf['subjectQID'].unique().tolist()\n",
    "\n",
    "for eachentity in entitylist[0:1]:\n",
    "    ##fetch the json\n",
    "    print(eachentity)\n",
    "    r = httprequests.get(f'https://www.wikidata.org/w/api.php?action=wbgetclaims&entity={eachentity}&format=json')\n",
    "    qjson = r.json()\n",
    "    testdf = pd.DataFrame(qjson)\n",
    "    testdf.reset_index(inplace=True)\n",
    "    testdf.rename(columns={'index':'property'},inplace=True)\n",
    "    expandeddf = testdf.explode('claims').copy()\n",
    "    print(expandeddf.iloc[0]['claims'])\n",
    "    expandeddf['keyinfo'] = [x.keys() for x in expandeddf['claims']]\n",
    "    expandeddf['objectVal'] = [x['mainsnak']['datavalue']['value'] for x in expandeddf['claims']]\n",
    "    #print(len(expandeddf),len(explodeddf))\n",
    "    #expandeddf['type'] = [x['type']['value'] for x in expandeddf['claims']]\n",
    "    #expandeddf['objectID'] = [x['id'] for x in expandeddf['claims']]\n",
    "    print(expandeddf)\n"
   ]
  },
  {
   "cell_type": "code",
   "execution_count": 13,
   "metadata": {},
   "outputs": [
    {
     "name": "stdout",
     "output_type": "stream",
     "text": [
      "Q155746\n",
      "P4390\n",
      "P2868\n",
      "P459\n",
      "P1810\n",
      "P642\n",
      "Empty DataFrame\n",
      "Columns: [subjectID, predicateID, objectID, referenceProp, referenceID, qualifier_property, qualifierID]\n",
      "Index: []\n"
     ]
    }
   ],
   "source": [
    "entitylist = resultdf['subjectQID'].unique().tolist()\n",
    "\n",
    "statements_added = pd.DataFrame(columns = ['subjectID', 'predicateID',\n",
    "                                            'objectID', 'referenceProp', \n",
    "                                            'referenceID', 'qualifier_property',\n",
    "                                            'qualifierID'])\n",
    "for eachentity in entitylist[0:1]:\n",
    "    ##fetch the json\n",
    "    print(eachentity)\n",
    "    r = httprequests.get(f'https://www.wikidata.org/w/api.php?action=wbgetclaims&entity={eachentity}&format=json')\n",
    "    qjson = r.json()\n",
    "    retrieved_df = parse_qjson(eachentity,qjson,refids)\n",
    "    if retrieved_df != False:\n",
    "        statements_added = pd.concat((statements_added,retrieved_df))\n",
    "\n",
    "print(statements_added)  "
   ]
  },
  {
   "cell_type": "code",
   "execution_count": 50,
   "metadata": {},
   "outputs": [
    {
     "name": "stdout",
     "output_type": "stream",
     "text": [
      "Q155746\n",
      "dict_keys(['mainsnak', 'type', 'id', 'rank', 'references'])\n",
      "P231\n",
      "131918-61-1\n",
      "dict_keys(['P248', 'P652', 'P407', 'P1476', 'P813'])\n",
      "dict_keys(['snaktype', 'property', 'hash', 'datavalue', 'datatype'])\n",
      "Q6593799\n"
     ]
    }
   ],
   "source": [
    "entitylist = resultdf['subjectQID'].unique().tolist()\n",
    "\n",
    "for eachentity in entitylist[0:1]:\n",
    "    ##fetch the json\n",
    "    print(eachentity)\n",
    "    r = httprequests.get(f'https://www.wikidata.org/w/api.php?action=wbgetclaims&entity={eachentity}&format=json')\n",
    "    qjson = r.json()\n",
    "    print(qjson['claims']['P231'][0].keys())\n",
    "    print(qjson['claims']['P231'][0]['mainsnak']['property'])\n",
    "    print(qjson['claims']['P231'][0]['mainsnak']['datavalue']['value'])\n",
    "    print(qjson['claims']['P231'][0]['references'][0]['snaks'].keys())\n",
    "    print(qjson['claims']['P231'][0]['references'][0]['snaks']['P248'][0].keys())\n",
    "    print(qjson['claims']['P231'][0]['references'][0]['snaks']['P248'][0]['datavalue']['value']['id'])"
   ]
  },
  {
   "cell_type": "code",
   "execution_count": 65,
   "metadata": {},
   "outputs": [
    {
     "name": "stdout",
     "output_type": "stream",
     "text": [
      "1 dict_keys(['mainsnak', 'type', 'qualifiers', 'qualifiers-order', 'id', 'rank', 'references'])\n",
      "2 P3771\n",
      "3 {'entity-type': 'item', 'numeric-id': 14906849, 'id': 'Q14906849'}\n",
      "4 dict_keys(['P459', 'P3811'])\n",
      "5 [{'snaktype': 'value', 'property': 'P459', 'hash': '61a4ff3177c88526c2a0b9c033c3e5f101a1c4f5', 'datavalue': {'value': {'entity-type': 'item', 'numeric-id': 23173789, 'id': 'Q23173789'}, 'type': 'wikibase-entityid'}, 'datatype': 'wikibase-item'}]\n",
      "6 dict_keys(['snaktype', 'property', 'hash', 'datavalue', 'datatype'])\n",
      "7 P459\n",
      "8 Q23173789\n"
     ]
    }
   ],
   "source": [
    "print(1,qjson['claims']['P3771'][0].keys())\n",
    "print(2,qjson['claims']['P3771'][0]['mainsnak']['property'])\n",
    "print(3,qjson['claims']['P3771'][0]['mainsnak']['datavalue']['value'])\n",
    "print(4,qjson['claims']['P3771'][0]['qualifiers'].keys())\n",
    "print(5,qjson['claims']['P3771'][0]['qualifiers']['P459'])\n",
    "print(6,qjson['claims']['P3771'][0]['qualifiers']['P459'][0].keys())\n",
    "print(7,qjson['claims']['P3771'][0]['qualifiers']['P459'][0]['property'])\n",
    "print(8,qjson['claims']['P3771'][0]['qualifiers']['P459'][0]['datavalue']['value']['id'])"
   ]
  },
  {
   "cell_type": "markdown",
   "metadata": {},
   "source": [
    "## Pull Citation Metrics for All Gene Wiki Reviews\n",
    "There is a SERP API for accessing information from google scholar. This API can potentially be used to pull the number of citations garnered by each Gene Wiki Review article.\n",
    "\n",
    "Example API Call - https://serpapi.com/playground?engine=google_scholar&q=Gene+Wiki+Reviews-Raising+the+quality+and+accessibility+of+information+about+the+human+genome&hl=en\n",
    "\n",
    "**Note that it appears the results for the API call are not machine-readable as it's a playground API meant for user exploration. Since it's unclear whether or not the Gene Wiki Review editorial will constitute a commercial use, we'l just manually check google scholar and pull the information.**"
   ]
  },
  {
   "cell_type": "code",
   "execution_count": 16,
   "metadata": {},
   "outputs": [
    {
     "name": "stdout",
     "output_type": "stream",
     "text": [
      "The KCNE2 K+ channel regulatory subunit: Ubiquitous influence, complex pathobiology\n"
     ]
    }
   ],
   "source": [
    "## Test the use of ther SERPAPI\n",
    "## As evidenced by the results, the API playground is not meant for any real use\n",
    "baseapiurl = 'https://serpapi.com/playground?engine=google_scholar&q='\n",
    "apicallend = '&hl=en'\n",
    "title = cleandata.iloc[0]['label'].replace(\" \",\"+\")\n",
    "testurl = f\"{baseapiurl}{title}{apicallend}\"\n",
    "results = httprequests.get(testurl)\n",
    "print(results.text)"
   ]
  },
  {
   "cell_type": "code",
   "execution_count": 25,
   "metadata": {},
   "outputs": [
    {
     "name": "stdout",
     "output_type": "stream",
     "text": [
      "                                              status  \\\n",
      "0  http://www.sciencedirect.com/science/article/p...   \n",
      "2  http://www.sciencedirect.com/science/article/p...   \n",
      "\n",
      "                                        Pubmed            PMCID  \n",
      "0  http://www.ncbi.nlm.nih.gov/pubmed/23069847          3570704  \n",
      "2  http://www.ncbi.nlm.nih.gov/pubmed/23246696  NIHMS ID 909445  \n"
     ]
    }
   ],
   "source": [
    "#### Step 1, pull all gw reviews from the file\n",
    "gene_wiki_info = read_csv(datapath+'GeneWikiReviewlist.tsv',delimiter='\\t', header=0)\n",
    "#print(gene_wiki_info)\n",
    "publishlist = gene_wiki_info['status'].unique().tolist()\n",
    "pubsinfo = gene_wiki_info[['status','Pubmed','PMCID']].loc[gene_wiki_info['status'].isin(publishlist)].copy()\n",
    "pubsinfo.drop_duplicates(inplace=True,keep='first')\n",
    "pubsinfo['PMCID']=pubsinfo['PMCID'].astype(str)\n",
    "print(pubsinfo.head(n=2))"
   ]
  },
  {
   "cell_type": "code",
   "execution_count": 26,
   "metadata": {},
   "outputs": [
    {
     "name": "stdout",
     "output_type": "stream",
     "text": [
      "                                        uri  \\\n",
      "0  http://www.wikidata.org/entity/Q21710689   \n",
      "1  http://www.wikidata.org/entity/Q21710694   \n",
      "\n",
      "                                               label        QID    PMCID  \n",
      "0  The KCNE2 K+ channel regulatory subunit: Ubiqu...  Q21710689  4917011  \n",
      "1  Structural and functional biology of arachidon...  Q21710694  6728142  \n"
     ]
    }
   ],
   "source": [
    "#### Step 2, pull all Gene Wiki Reviews from Wikidata and their Titles (ie- the label)\n",
    "cleandata = fetch_gwreviews_wd()\n",
    "cleandata['PMCID'] = cleandata['PMCID'].astype(str)\n",
    "print(cleandata.head(n=2))"
   ]
  },
  {
   "cell_type": "code",
   "execution_count": 29,
   "metadata": {},
   "outputs": [
    {
     "name": "stdout",
     "output_type": "stream",
     "text": [
      "                                               status  \\\n",
      "95  https://www.sciencedirect.com/science/article/...   \n",
      "96                                                NaN   \n",
      "\n",
      "                                       Pubmed    PMCID  \\\n",
      "95  https://pubmed.ncbi.nlm.nih.gov/34252531/  8318780   \n",
      "96                                        NaN  6660134   \n",
      "\n",
      "                                          uri  \\\n",
      "95  http://www.wikidata.org/entity/Q108806643   \n",
      "96   http://www.wikidata.org/entity/Q38584470   \n",
      "\n",
      "                                                label         QID  \n",
      "95  A role for zinc transporter gene SLC39A12 in t...  Q108806643  \n",
      "96  Cardiac myosin-binding protein C (MYBPC3) in c...   Q38584470  \n"
     ]
    }
   ],
   "source": [
    "#### Step 3- Merge the tables from Step 1 and Step 2\n",
    "allpubinfo = pubsinfo.merge(cleandata, on='PMCID',how = 'outer')\n",
    "print(allpubinfo.tail(n=2))\n",
    "#allpubinfo.to_csv(os.path.join(exppath,'article_citations.tsv'),sep='\\t',header=True)\n",
    "## Note, citations will be pulled manually, so this file exists only to make manual pulls easier to track"
   ]
  },
  {
   "cell_type": "code",
   "execution_count": null,
   "metadata": {},
   "outputs": [],
   "source": []
  }
 ],
 "metadata": {
  "kernelspec": {
   "display_name": "Python 3",
   "language": "python",
   "name": "python3"
  },
  "language_info": {
   "codemirror_mode": {
    "name": "ipython",
    "version": 3
   },
   "file_extension": ".py",
   "mimetype": "text/x-python",
   "name": "python",
   "nbconvert_exporter": "python",
   "pygments_lexer": "ipython3",
   "version": "3.8.8"
  }
 },
 "nbformat": 4,
 "nbformat_minor": 2
}
